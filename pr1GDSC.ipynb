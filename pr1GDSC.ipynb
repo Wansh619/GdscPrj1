{
  "cells": [
    {
      "cell_type": "markdown",
      "metadata": {
        "id": "view-in-github",
        "colab_type": "text"
      },
      "source": [
        "<a href=\"https://colab.research.google.com/github/Wansh619/GdscPrj1/blob/main/pr1GDSC.ipynb\" target=\"_parent\"><img src=\"https://colab.research.google.com/assets/colab-badge.svg\" alt=\"Open In Colab\"/></a>"
      ]
    },
    {
      "cell_type": "markdown",
      "metadata": {
        "id": "a8Vjt1Grrx6r"
      },
      "source": [
        "# **Prediction of ex-showroom price from our car_engage dataset**"
      ]
    },
    {
      "cell_type": "markdown",
      "metadata": {
        "id": "Rc_TU3ifrxgL"
      },
      "source": [
        "## **importing important libraries**"
      ]
    },
    {
      "cell_type": "code",
      "execution_count": 7,
      "metadata": {
        "id": "6hxydWGbGKmc"
      },
      "outputs": [],
      "source": [
        "import pandas as pd\n",
        "import numpy as np\n",
        "import matplotlib as plt"
      ]
    },
    {
      "cell_type": "markdown",
      "metadata": {
        "id": "3oOd5OyTsKbC"
      },
      "source": [
        "## **uploading data in our variable data**\n"
      ]
    },
    {
      "cell_type": "code",
      "execution_count": 8,
      "metadata": {
        "id": "qkC9-7DGGVV6"
      },
      "outputs": [],
      "source": [
        "data=pd.read_csv('cars_engage_2022.csv')\n"
      ]
    },
    {
      "cell_type": "code",
      "execution_count": 9,
      "metadata": {
        "colab": {
          "base_uri": "https://localhost:8080/",
          "height": 852
        },
        "id": "IbpAq428QZn5",
        "outputId": "1892b234-2f23-4b6b-b725-bc8d02cceb27"
      },
      "outputs": [
        {
          "output_type": "execute_result",
          "data": {
            "text/plain": [
              "      Unnamed: 0        Make      Model        Variant Ex-Showroom_Price  \\\n",
              "0              0        Tata  Nano Genx             Xt      Rs. 2,92,667   \n",
              "1              1        Tata  Nano Genx             Xe      Rs. 2,36,447   \n",
              "2              2        Tata  Nano Genx        Emax Xm      Rs. 2,96,661   \n",
              "3              3        Tata  Nano Genx            Xta      Rs. 3,34,768   \n",
              "4              4        Tata  Nano Genx             Xm      Rs. 2,72,223   \n",
              "...          ...         ...        ...            ...               ...   \n",
              "1271        1271       Honda       City   Vx Mt Diesel     Rs. 13,02,000   \n",
              "1272        1272       Honda       City   Zx Mt Diesel     Rs. 14,21,000   \n",
              "1273        1273       Honda       City  Zx Cvt Petrol     Rs. 14,31,000   \n",
              "1274        1274       Honda       City   V Cvt Petrol     Rs. 12,01,000   \n",
              "1275        1275  Mitsubishi    Montero         3.2 At     Rs. 68,62,560   \n",
              "\n",
              "     Displacement  Cylinders  Valves_Per_Cylinder               Drivetrain  \\\n",
              "0          624 cc        2.0                  2.0   RWD (Rear Wheel Drive)   \n",
              "1          624 cc        2.0                  2.0   RWD (Rear Wheel Drive)   \n",
              "2          624 cc        2.0                  2.0   RWD (Rear Wheel Drive)   \n",
              "3          624 cc        2.0                  2.0   RWD (Rear Wheel Drive)   \n",
              "4          624 cc        2.0                  2.0   RWD (Rear Wheel Drive)   \n",
              "...           ...        ...                  ...                      ...   \n",
              "1271      1498 cc        4.0                  4.0  FWD (Front Wheel Drive)   \n",
              "1272      1498 cc        4.0                  4.0  FWD (Front Wheel Drive)   \n",
              "1273      1497 cc        4.0                  4.0  FWD (Front Wheel Drive)   \n",
              "1274      1497 cc        4.0                  4.0  FWD (Front Wheel Drive)   \n",
              "1275      3200 cc        4.0                  4.0    AWD (All Wheel Drive)   \n",
              "\n",
              "     Cylinder_Configuration  ... Leather_Wrapped_Steering Automatic_Headlamps  \\\n",
              "0                   In-line  ...                      NaN                 NaN   \n",
              "1                   In-line  ...                      NaN                 NaN   \n",
              "2                   In-line  ...                      NaN                 NaN   \n",
              "3                   In-line  ...                      NaN                 NaN   \n",
              "4                   In-line  ...                      NaN                 NaN   \n",
              "...                     ...  ...                      ...                 ...   \n",
              "1271                In-line  ...                      Yes                 NaN   \n",
              "1272                In-line  ...                      Yes                 Yes   \n",
              "1273                In-line  ...                      Yes                 Yes   \n",
              "1274                In-line  ...                      NaN                 NaN   \n",
              "1275                In-line  ...                      Yes                 NaN   \n",
              "\n",
              "     Engine_Type ASR_/_Traction_Control Cruise_Control USB_Ports  \\\n",
              "0            NaN                    NaN            NaN       NaN   \n",
              "1            NaN                    NaN            NaN       NaN   \n",
              "2            NaN                    NaN            NaN       NaN   \n",
              "3            NaN                    NaN            NaN       NaN   \n",
              "4            NaN                    NaN            NaN       NaN   \n",
              "...          ...                    ...            ...       ...   \n",
              "1271         NaN                    NaN            Yes       NaN   \n",
              "1272         NaN                    NaN            Yes       NaN   \n",
              "1273         NaN                    NaN            Yes       NaN   \n",
              "1274         NaN                    NaN            Yes       NaN   \n",
              "1275         NaN                    Yes            Yes       NaN   \n",
              "\n",
              "     Heads-Up_Display Welcome_Lights Battery  Electric_Range  \n",
              "0                 NaN            NaN     NaN             NaN  \n",
              "1                 NaN            NaN     NaN             NaN  \n",
              "2                 NaN            NaN     NaN             NaN  \n",
              "3                 NaN            NaN     NaN             NaN  \n",
              "4                 NaN            NaN     NaN             NaN  \n",
              "...               ...            ...     ...             ...  \n",
              "1271              NaN            NaN     NaN             NaN  \n",
              "1272              NaN            NaN     NaN             NaN  \n",
              "1273              NaN            NaN     NaN             NaN  \n",
              "1274              NaN            NaN     NaN             NaN  \n",
              "1275              NaN            NaN     NaN             NaN  \n",
              "\n",
              "[1276 rows x 141 columns]"
            ],
            "text/html": [
              "\n",
              "  <div id=\"df-92639e6b-861d-4bff-a16f-e6b5e86b0a91\">\n",
              "    <div class=\"colab-df-container\">\n",
              "      <div>\n",
              "<style scoped>\n",
              "    .dataframe tbody tr th:only-of-type {\n",
              "        vertical-align: middle;\n",
              "    }\n",
              "\n",
              "    .dataframe tbody tr th {\n",
              "        vertical-align: top;\n",
              "    }\n",
              "\n",
              "    .dataframe thead th {\n",
              "        text-align: right;\n",
              "    }\n",
              "</style>\n",
              "<table border=\"1\" class=\"dataframe\">\n",
              "  <thead>\n",
              "    <tr style=\"text-align: right;\">\n",
              "      <th></th>\n",
              "      <th>Unnamed: 0</th>\n",
              "      <th>Make</th>\n",
              "      <th>Model</th>\n",
              "      <th>Variant</th>\n",
              "      <th>Ex-Showroom_Price</th>\n",
              "      <th>Displacement</th>\n",
              "      <th>Cylinders</th>\n",
              "      <th>Valves_Per_Cylinder</th>\n",
              "      <th>Drivetrain</th>\n",
              "      <th>Cylinder_Configuration</th>\n",
              "      <th>...</th>\n",
              "      <th>Leather_Wrapped_Steering</th>\n",
              "      <th>Automatic_Headlamps</th>\n",
              "      <th>Engine_Type</th>\n",
              "      <th>ASR_/_Traction_Control</th>\n",
              "      <th>Cruise_Control</th>\n",
              "      <th>USB_Ports</th>\n",
              "      <th>Heads-Up_Display</th>\n",
              "      <th>Welcome_Lights</th>\n",
              "      <th>Battery</th>\n",
              "      <th>Electric_Range</th>\n",
              "    </tr>\n",
              "  </thead>\n",
              "  <tbody>\n",
              "    <tr>\n",
              "      <th>0</th>\n",
              "      <td>0</td>\n",
              "      <td>Tata</td>\n",
              "      <td>Nano Genx</td>\n",
              "      <td>Xt</td>\n",
              "      <td>Rs. 2,92,667</td>\n",
              "      <td>624 cc</td>\n",
              "      <td>2.0</td>\n",
              "      <td>2.0</td>\n",
              "      <td>RWD (Rear Wheel Drive)</td>\n",
              "      <td>In-line</td>\n",
              "      <td>...</td>\n",
              "      <td>NaN</td>\n",
              "      <td>NaN</td>\n",
              "      <td>NaN</td>\n",
              "      <td>NaN</td>\n",
              "      <td>NaN</td>\n",
              "      <td>NaN</td>\n",
              "      <td>NaN</td>\n",
              "      <td>NaN</td>\n",
              "      <td>NaN</td>\n",
              "      <td>NaN</td>\n",
              "    </tr>\n",
              "    <tr>\n",
              "      <th>1</th>\n",
              "      <td>1</td>\n",
              "      <td>Tata</td>\n",
              "      <td>Nano Genx</td>\n",
              "      <td>Xe</td>\n",
              "      <td>Rs. 2,36,447</td>\n",
              "      <td>624 cc</td>\n",
              "      <td>2.0</td>\n",
              "      <td>2.0</td>\n",
              "      <td>RWD (Rear Wheel Drive)</td>\n",
              "      <td>In-line</td>\n",
              "      <td>...</td>\n",
              "      <td>NaN</td>\n",
              "      <td>NaN</td>\n",
              "      <td>NaN</td>\n",
              "      <td>NaN</td>\n",
              "      <td>NaN</td>\n",
              "      <td>NaN</td>\n",
              "      <td>NaN</td>\n",
              "      <td>NaN</td>\n",
              "      <td>NaN</td>\n",
              "      <td>NaN</td>\n",
              "    </tr>\n",
              "    <tr>\n",
              "      <th>2</th>\n",
              "      <td>2</td>\n",
              "      <td>Tata</td>\n",
              "      <td>Nano Genx</td>\n",
              "      <td>Emax Xm</td>\n",
              "      <td>Rs. 2,96,661</td>\n",
              "      <td>624 cc</td>\n",
              "      <td>2.0</td>\n",
              "      <td>2.0</td>\n",
              "      <td>RWD (Rear Wheel Drive)</td>\n",
              "      <td>In-line</td>\n",
              "      <td>...</td>\n",
              "      <td>NaN</td>\n",
              "      <td>NaN</td>\n",
              "      <td>NaN</td>\n",
              "      <td>NaN</td>\n",
              "      <td>NaN</td>\n",
              "      <td>NaN</td>\n",
              "      <td>NaN</td>\n",
              "      <td>NaN</td>\n",
              "      <td>NaN</td>\n",
              "      <td>NaN</td>\n",
              "    </tr>\n",
              "    <tr>\n",
              "      <th>3</th>\n",
              "      <td>3</td>\n",
              "      <td>Tata</td>\n",
              "      <td>Nano Genx</td>\n",
              "      <td>Xta</td>\n",
              "      <td>Rs. 3,34,768</td>\n",
              "      <td>624 cc</td>\n",
              "      <td>2.0</td>\n",
              "      <td>2.0</td>\n",
              "      <td>RWD (Rear Wheel Drive)</td>\n",
              "      <td>In-line</td>\n",
              "      <td>...</td>\n",
              "      <td>NaN</td>\n",
              "      <td>NaN</td>\n",
              "      <td>NaN</td>\n",
              "      <td>NaN</td>\n",
              "      <td>NaN</td>\n",
              "      <td>NaN</td>\n",
              "      <td>NaN</td>\n",
              "      <td>NaN</td>\n",
              "      <td>NaN</td>\n",
              "      <td>NaN</td>\n",
              "    </tr>\n",
              "    <tr>\n",
              "      <th>4</th>\n",
              "      <td>4</td>\n",
              "      <td>Tata</td>\n",
              "      <td>Nano Genx</td>\n",
              "      <td>Xm</td>\n",
              "      <td>Rs. 2,72,223</td>\n",
              "      <td>624 cc</td>\n",
              "      <td>2.0</td>\n",
              "      <td>2.0</td>\n",
              "      <td>RWD (Rear Wheel Drive)</td>\n",
              "      <td>In-line</td>\n",
              "      <td>...</td>\n",
              "      <td>NaN</td>\n",
              "      <td>NaN</td>\n",
              "      <td>NaN</td>\n",
              "      <td>NaN</td>\n",
              "      <td>NaN</td>\n",
              "      <td>NaN</td>\n",
              "      <td>NaN</td>\n",
              "      <td>NaN</td>\n",
              "      <td>NaN</td>\n",
              "      <td>NaN</td>\n",
              "    </tr>\n",
              "    <tr>\n",
              "      <th>...</th>\n",
              "      <td>...</td>\n",
              "      <td>...</td>\n",
              "      <td>...</td>\n",
              "      <td>...</td>\n",
              "      <td>...</td>\n",
              "      <td>...</td>\n",
              "      <td>...</td>\n",
              "      <td>...</td>\n",
              "      <td>...</td>\n",
              "      <td>...</td>\n",
              "      <td>...</td>\n",
              "      <td>...</td>\n",
              "      <td>...</td>\n",
              "      <td>...</td>\n",
              "      <td>...</td>\n",
              "      <td>...</td>\n",
              "      <td>...</td>\n",
              "      <td>...</td>\n",
              "      <td>...</td>\n",
              "      <td>...</td>\n",
              "      <td>...</td>\n",
              "    </tr>\n",
              "    <tr>\n",
              "      <th>1271</th>\n",
              "      <td>1271</td>\n",
              "      <td>Honda</td>\n",
              "      <td>City</td>\n",
              "      <td>Vx Mt Diesel</td>\n",
              "      <td>Rs. 13,02,000</td>\n",
              "      <td>1498 cc</td>\n",
              "      <td>4.0</td>\n",
              "      <td>4.0</td>\n",
              "      <td>FWD (Front Wheel Drive)</td>\n",
              "      <td>In-line</td>\n",
              "      <td>...</td>\n",
              "      <td>Yes</td>\n",
              "      <td>NaN</td>\n",
              "      <td>NaN</td>\n",
              "      <td>NaN</td>\n",
              "      <td>Yes</td>\n",
              "      <td>NaN</td>\n",
              "      <td>NaN</td>\n",
              "      <td>NaN</td>\n",
              "      <td>NaN</td>\n",
              "      <td>NaN</td>\n",
              "    </tr>\n",
              "    <tr>\n",
              "      <th>1272</th>\n",
              "      <td>1272</td>\n",
              "      <td>Honda</td>\n",
              "      <td>City</td>\n",
              "      <td>Zx Mt Diesel</td>\n",
              "      <td>Rs. 14,21,000</td>\n",
              "      <td>1498 cc</td>\n",
              "      <td>4.0</td>\n",
              "      <td>4.0</td>\n",
              "      <td>FWD (Front Wheel Drive)</td>\n",
              "      <td>In-line</td>\n",
              "      <td>...</td>\n",
              "      <td>Yes</td>\n",
              "      <td>Yes</td>\n",
              "      <td>NaN</td>\n",
              "      <td>NaN</td>\n",
              "      <td>Yes</td>\n",
              "      <td>NaN</td>\n",
              "      <td>NaN</td>\n",
              "      <td>NaN</td>\n",
              "      <td>NaN</td>\n",
              "      <td>NaN</td>\n",
              "    </tr>\n",
              "    <tr>\n",
              "      <th>1273</th>\n",
              "      <td>1273</td>\n",
              "      <td>Honda</td>\n",
              "      <td>City</td>\n",
              "      <td>Zx Cvt Petrol</td>\n",
              "      <td>Rs. 14,31,000</td>\n",
              "      <td>1497 cc</td>\n",
              "      <td>4.0</td>\n",
              "      <td>4.0</td>\n",
              "      <td>FWD (Front Wheel Drive)</td>\n",
              "      <td>In-line</td>\n",
              "      <td>...</td>\n",
              "      <td>Yes</td>\n",
              "      <td>Yes</td>\n",
              "      <td>NaN</td>\n",
              "      <td>NaN</td>\n",
              "      <td>Yes</td>\n",
              "      <td>NaN</td>\n",
              "      <td>NaN</td>\n",
              "      <td>NaN</td>\n",
              "      <td>NaN</td>\n",
              "      <td>NaN</td>\n",
              "    </tr>\n",
              "    <tr>\n",
              "      <th>1274</th>\n",
              "      <td>1274</td>\n",
              "      <td>Honda</td>\n",
              "      <td>City</td>\n",
              "      <td>V Cvt Petrol</td>\n",
              "      <td>Rs. 12,01,000</td>\n",
              "      <td>1497 cc</td>\n",
              "      <td>4.0</td>\n",
              "      <td>4.0</td>\n",
              "      <td>FWD (Front Wheel Drive)</td>\n",
              "      <td>In-line</td>\n",
              "      <td>...</td>\n",
              "      <td>NaN</td>\n",
              "      <td>NaN</td>\n",
              "      <td>NaN</td>\n",
              "      <td>NaN</td>\n",
              "      <td>Yes</td>\n",
              "      <td>NaN</td>\n",
              "      <td>NaN</td>\n",
              "      <td>NaN</td>\n",
              "      <td>NaN</td>\n",
              "      <td>NaN</td>\n",
              "    </tr>\n",
              "    <tr>\n",
              "      <th>1275</th>\n",
              "      <td>1275</td>\n",
              "      <td>Mitsubishi</td>\n",
              "      <td>Montero</td>\n",
              "      <td>3.2 At</td>\n",
              "      <td>Rs. 68,62,560</td>\n",
              "      <td>3200 cc</td>\n",
              "      <td>4.0</td>\n",
              "      <td>4.0</td>\n",
              "      <td>AWD (All Wheel Drive)</td>\n",
              "      <td>In-line</td>\n",
              "      <td>...</td>\n",
              "      <td>Yes</td>\n",
              "      <td>NaN</td>\n",
              "      <td>NaN</td>\n",
              "      <td>Yes</td>\n",
              "      <td>Yes</td>\n",
              "      <td>NaN</td>\n",
              "      <td>NaN</td>\n",
              "      <td>NaN</td>\n",
              "      <td>NaN</td>\n",
              "      <td>NaN</td>\n",
              "    </tr>\n",
              "  </tbody>\n",
              "</table>\n",
              "<p>1276 rows × 141 columns</p>\n",
              "</div>\n",
              "      <button class=\"colab-df-convert\" onclick=\"convertToInteractive('df-92639e6b-861d-4bff-a16f-e6b5e86b0a91')\"\n",
              "              title=\"Convert this dataframe to an interactive table.\"\n",
              "              style=\"display:none;\">\n",
              "        \n",
              "  <svg xmlns=\"http://www.w3.org/2000/svg\" height=\"24px\"viewBox=\"0 0 24 24\"\n",
              "       width=\"24px\">\n",
              "    <path d=\"M0 0h24v24H0V0z\" fill=\"none\"/>\n",
              "    <path d=\"M18.56 5.44l.94 2.06.94-2.06 2.06-.94-2.06-.94-.94-2.06-.94 2.06-2.06.94zm-11 1L8.5 8.5l.94-2.06 2.06-.94-2.06-.94L8.5 2.5l-.94 2.06-2.06.94zm10 10l.94 2.06.94-2.06 2.06-.94-2.06-.94-.94-2.06-.94 2.06-2.06.94z\"/><path d=\"M17.41 7.96l-1.37-1.37c-.4-.4-.92-.59-1.43-.59-.52 0-1.04.2-1.43.59L10.3 9.45l-7.72 7.72c-.78.78-.78 2.05 0 2.83L4 21.41c.39.39.9.59 1.41.59.51 0 1.02-.2 1.41-.59l7.78-7.78 2.81-2.81c.8-.78.8-2.07 0-2.86zM5.41 20L4 18.59l7.72-7.72 1.47 1.35L5.41 20z\"/>\n",
              "  </svg>\n",
              "      </button>\n",
              "      \n",
              "  <style>\n",
              "    .colab-df-container {\n",
              "      display:flex;\n",
              "      flex-wrap:wrap;\n",
              "      gap: 12px;\n",
              "    }\n",
              "\n",
              "    .colab-df-convert {\n",
              "      background-color: #E8F0FE;\n",
              "      border: none;\n",
              "      border-radius: 50%;\n",
              "      cursor: pointer;\n",
              "      display: none;\n",
              "      fill: #1967D2;\n",
              "      height: 32px;\n",
              "      padding: 0 0 0 0;\n",
              "      width: 32px;\n",
              "    }\n",
              "\n",
              "    .colab-df-convert:hover {\n",
              "      background-color: #E2EBFA;\n",
              "      box-shadow: 0px 1px 2px rgba(60, 64, 67, 0.3), 0px 1px 3px 1px rgba(60, 64, 67, 0.15);\n",
              "      fill: #174EA6;\n",
              "    }\n",
              "\n",
              "    [theme=dark] .colab-df-convert {\n",
              "      background-color: #3B4455;\n",
              "      fill: #D2E3FC;\n",
              "    }\n",
              "\n",
              "    [theme=dark] .colab-df-convert:hover {\n",
              "      background-color: #434B5C;\n",
              "      box-shadow: 0px 1px 3px 1px rgba(0, 0, 0, 0.15);\n",
              "      filter: drop-shadow(0px 1px 2px rgba(0, 0, 0, 0.3));\n",
              "      fill: #FFFFFF;\n",
              "    }\n",
              "  </style>\n",
              "\n",
              "      <script>\n",
              "        const buttonEl =\n",
              "          document.querySelector('#df-92639e6b-861d-4bff-a16f-e6b5e86b0a91 button.colab-df-convert');\n",
              "        buttonEl.style.display =\n",
              "          google.colab.kernel.accessAllowed ? 'block' : 'none';\n",
              "\n",
              "        async function convertToInteractive(key) {\n",
              "          const element = document.querySelector('#df-92639e6b-861d-4bff-a16f-e6b5e86b0a91');\n",
              "          const dataTable =\n",
              "            await google.colab.kernel.invokeFunction('convertToInteractive',\n",
              "                                                     [key], {});\n",
              "          if (!dataTable) return;\n",
              "\n",
              "          const docLinkHtml = 'Like what you see? Visit the ' +\n",
              "            '<a target=\"_blank\" href=https://colab.research.google.com/notebooks/data_table.ipynb>data table notebook</a>'\n",
              "            + ' to learn more about interactive tables.';\n",
              "          element.innerHTML = '';\n",
              "          dataTable['output_type'] = 'display_data';\n",
              "          await google.colab.output.renderOutput(dataTable, element);\n",
              "          const docLink = document.createElement('div');\n",
              "          docLink.innerHTML = docLinkHtml;\n",
              "          element.appendChild(docLink);\n",
              "        }\n",
              "      </script>\n",
              "    </div>\n",
              "  </div>\n",
              "  "
            ]
          },
          "metadata": {},
          "execution_count": 9
        }
      ],
      "source": [
        "data"
      ]
    },
    {
      "cell_type": "markdown",
      "metadata": {
        "id": "KpeiQmrGCwln"
      },
      "source": [
        "# **splitting the data into data 2 and 3**"
      ]
    },
    {
      "cell_type": "markdown",
      "metadata": {
        "id": "fzbjQdvzdiak"
      },
      "source": [
        "data 3= all the features"
      ]
    },
    {
      "cell_type": "code",
      "execution_count": 10,
      "metadata": {
        "id": "sKr6oQOUDLKd"
      },
      "outputs": [],
      "source": [
        "data3=data"
      ]
    },
    {
      "cell_type": "markdown",
      "metadata": {
        "id": "TXw-H20_eFPL"
      },
      "source": [
        "# **DATA 3**"
      ]
    },
    {
      "cell_type": "code",
      "execution_count": 11,
      "metadata": {
        "colab": {
          "base_uri": "https://localhost:8080/",
          "height": 852
        },
        "id": "mWk7XPazbegW",
        "outputId": "c914fa39-2822-4693-a4b1-a8e8867f2d5e"
      },
      "outputs": [
        {
          "output_type": "execute_result",
          "data": {
            "text/plain": [
              "      Unnamed: 0        Make      Model        Variant Ex-Showroom_Price  \\\n",
              "0              0        Tata  Nano Genx             Xt      Rs. 2,92,667   \n",
              "1              1        Tata  Nano Genx             Xe      Rs. 2,36,447   \n",
              "2              2        Tata  Nano Genx        Emax Xm      Rs. 2,96,661   \n",
              "3              3        Tata  Nano Genx            Xta      Rs. 3,34,768   \n",
              "4              4        Tata  Nano Genx             Xm      Rs. 2,72,223   \n",
              "...          ...         ...        ...            ...               ...   \n",
              "1271        1271       Honda       City   Vx Mt Diesel     Rs. 13,02,000   \n",
              "1272        1272       Honda       City   Zx Mt Diesel     Rs. 14,21,000   \n",
              "1273        1273       Honda       City  Zx Cvt Petrol     Rs. 14,31,000   \n",
              "1274        1274       Honda       City   V Cvt Petrol     Rs. 12,01,000   \n",
              "1275        1275  Mitsubishi    Montero         3.2 At     Rs. 68,62,560   \n",
              "\n",
              "     Displacement  Cylinders  Valves_Per_Cylinder               Drivetrain  \\\n",
              "0          624 cc        2.0                  2.0   RWD (Rear Wheel Drive)   \n",
              "1          624 cc        2.0                  2.0   RWD (Rear Wheel Drive)   \n",
              "2          624 cc        2.0                  2.0   RWD (Rear Wheel Drive)   \n",
              "3          624 cc        2.0                  2.0   RWD (Rear Wheel Drive)   \n",
              "4          624 cc        2.0                  2.0   RWD (Rear Wheel Drive)   \n",
              "...           ...        ...                  ...                      ...   \n",
              "1271      1498 cc        4.0                  4.0  FWD (Front Wheel Drive)   \n",
              "1272      1498 cc        4.0                  4.0  FWD (Front Wheel Drive)   \n",
              "1273      1497 cc        4.0                  4.0  FWD (Front Wheel Drive)   \n",
              "1274      1497 cc        4.0                  4.0  FWD (Front Wheel Drive)   \n",
              "1275      3200 cc        4.0                  4.0    AWD (All Wheel Drive)   \n",
              "\n",
              "     Cylinder_Configuration  ... Leather_Wrapped_Steering Automatic_Headlamps  \\\n",
              "0                   In-line  ...                      NaN                 NaN   \n",
              "1                   In-line  ...                      NaN                 NaN   \n",
              "2                   In-line  ...                      NaN                 NaN   \n",
              "3                   In-line  ...                      NaN                 NaN   \n",
              "4                   In-line  ...                      NaN                 NaN   \n",
              "...                     ...  ...                      ...                 ...   \n",
              "1271                In-line  ...                      Yes                 NaN   \n",
              "1272                In-line  ...                      Yes                 Yes   \n",
              "1273                In-line  ...                      Yes                 Yes   \n",
              "1274                In-line  ...                      NaN                 NaN   \n",
              "1275                In-line  ...                      Yes                 NaN   \n",
              "\n",
              "     Engine_Type ASR_/_Traction_Control Cruise_Control USB_Ports  \\\n",
              "0            NaN                    NaN            NaN       NaN   \n",
              "1            NaN                    NaN            NaN       NaN   \n",
              "2            NaN                    NaN            NaN       NaN   \n",
              "3            NaN                    NaN            NaN       NaN   \n",
              "4            NaN                    NaN            NaN       NaN   \n",
              "...          ...                    ...            ...       ...   \n",
              "1271         NaN                    NaN            Yes       NaN   \n",
              "1272         NaN                    NaN            Yes       NaN   \n",
              "1273         NaN                    NaN            Yes       NaN   \n",
              "1274         NaN                    NaN            Yes       NaN   \n",
              "1275         NaN                    Yes            Yes       NaN   \n",
              "\n",
              "     Heads-Up_Display Welcome_Lights Battery  Electric_Range  \n",
              "0                 NaN            NaN     NaN             NaN  \n",
              "1                 NaN            NaN     NaN             NaN  \n",
              "2                 NaN            NaN     NaN             NaN  \n",
              "3                 NaN            NaN     NaN             NaN  \n",
              "4                 NaN            NaN     NaN             NaN  \n",
              "...               ...            ...     ...             ...  \n",
              "1271              NaN            NaN     NaN             NaN  \n",
              "1272              NaN            NaN     NaN             NaN  \n",
              "1273              NaN            NaN     NaN             NaN  \n",
              "1274              NaN            NaN     NaN             NaN  \n",
              "1275              NaN            NaN     NaN             NaN  \n",
              "\n",
              "[1276 rows x 141 columns]"
            ],
            "text/html": [
              "\n",
              "  <div id=\"df-43a7f12b-6c8f-4855-a0b9-832a00eee4e6\">\n",
              "    <div class=\"colab-df-container\">\n",
              "      <div>\n",
              "<style scoped>\n",
              "    .dataframe tbody tr th:only-of-type {\n",
              "        vertical-align: middle;\n",
              "    }\n",
              "\n",
              "    .dataframe tbody tr th {\n",
              "        vertical-align: top;\n",
              "    }\n",
              "\n",
              "    .dataframe thead th {\n",
              "        text-align: right;\n",
              "    }\n",
              "</style>\n",
              "<table border=\"1\" class=\"dataframe\">\n",
              "  <thead>\n",
              "    <tr style=\"text-align: right;\">\n",
              "      <th></th>\n",
              "      <th>Unnamed: 0</th>\n",
              "      <th>Make</th>\n",
              "      <th>Model</th>\n",
              "      <th>Variant</th>\n",
              "      <th>Ex-Showroom_Price</th>\n",
              "      <th>Displacement</th>\n",
              "      <th>Cylinders</th>\n",
              "      <th>Valves_Per_Cylinder</th>\n",
              "      <th>Drivetrain</th>\n",
              "      <th>Cylinder_Configuration</th>\n",
              "      <th>...</th>\n",
              "      <th>Leather_Wrapped_Steering</th>\n",
              "      <th>Automatic_Headlamps</th>\n",
              "      <th>Engine_Type</th>\n",
              "      <th>ASR_/_Traction_Control</th>\n",
              "      <th>Cruise_Control</th>\n",
              "      <th>USB_Ports</th>\n",
              "      <th>Heads-Up_Display</th>\n",
              "      <th>Welcome_Lights</th>\n",
              "      <th>Battery</th>\n",
              "      <th>Electric_Range</th>\n",
              "    </tr>\n",
              "  </thead>\n",
              "  <tbody>\n",
              "    <tr>\n",
              "      <th>0</th>\n",
              "      <td>0</td>\n",
              "      <td>Tata</td>\n",
              "      <td>Nano Genx</td>\n",
              "      <td>Xt</td>\n",
              "      <td>Rs. 2,92,667</td>\n",
              "      <td>624 cc</td>\n",
              "      <td>2.0</td>\n",
              "      <td>2.0</td>\n",
              "      <td>RWD (Rear Wheel Drive)</td>\n",
              "      <td>In-line</td>\n",
              "      <td>...</td>\n",
              "      <td>NaN</td>\n",
              "      <td>NaN</td>\n",
              "      <td>NaN</td>\n",
              "      <td>NaN</td>\n",
              "      <td>NaN</td>\n",
              "      <td>NaN</td>\n",
              "      <td>NaN</td>\n",
              "      <td>NaN</td>\n",
              "      <td>NaN</td>\n",
              "      <td>NaN</td>\n",
              "    </tr>\n",
              "    <tr>\n",
              "      <th>1</th>\n",
              "      <td>1</td>\n",
              "      <td>Tata</td>\n",
              "      <td>Nano Genx</td>\n",
              "      <td>Xe</td>\n",
              "      <td>Rs. 2,36,447</td>\n",
              "      <td>624 cc</td>\n",
              "      <td>2.0</td>\n",
              "      <td>2.0</td>\n",
              "      <td>RWD (Rear Wheel Drive)</td>\n",
              "      <td>In-line</td>\n",
              "      <td>...</td>\n",
              "      <td>NaN</td>\n",
              "      <td>NaN</td>\n",
              "      <td>NaN</td>\n",
              "      <td>NaN</td>\n",
              "      <td>NaN</td>\n",
              "      <td>NaN</td>\n",
              "      <td>NaN</td>\n",
              "      <td>NaN</td>\n",
              "      <td>NaN</td>\n",
              "      <td>NaN</td>\n",
              "    </tr>\n",
              "    <tr>\n",
              "      <th>2</th>\n",
              "      <td>2</td>\n",
              "      <td>Tata</td>\n",
              "      <td>Nano Genx</td>\n",
              "      <td>Emax Xm</td>\n",
              "      <td>Rs. 2,96,661</td>\n",
              "      <td>624 cc</td>\n",
              "      <td>2.0</td>\n",
              "      <td>2.0</td>\n",
              "      <td>RWD (Rear Wheel Drive)</td>\n",
              "      <td>In-line</td>\n",
              "      <td>...</td>\n",
              "      <td>NaN</td>\n",
              "      <td>NaN</td>\n",
              "      <td>NaN</td>\n",
              "      <td>NaN</td>\n",
              "      <td>NaN</td>\n",
              "      <td>NaN</td>\n",
              "      <td>NaN</td>\n",
              "      <td>NaN</td>\n",
              "      <td>NaN</td>\n",
              "      <td>NaN</td>\n",
              "    </tr>\n",
              "    <tr>\n",
              "      <th>3</th>\n",
              "      <td>3</td>\n",
              "      <td>Tata</td>\n",
              "      <td>Nano Genx</td>\n",
              "      <td>Xta</td>\n",
              "      <td>Rs. 3,34,768</td>\n",
              "      <td>624 cc</td>\n",
              "      <td>2.0</td>\n",
              "      <td>2.0</td>\n",
              "      <td>RWD (Rear Wheel Drive)</td>\n",
              "      <td>In-line</td>\n",
              "      <td>...</td>\n",
              "      <td>NaN</td>\n",
              "      <td>NaN</td>\n",
              "      <td>NaN</td>\n",
              "      <td>NaN</td>\n",
              "      <td>NaN</td>\n",
              "      <td>NaN</td>\n",
              "      <td>NaN</td>\n",
              "      <td>NaN</td>\n",
              "      <td>NaN</td>\n",
              "      <td>NaN</td>\n",
              "    </tr>\n",
              "    <tr>\n",
              "      <th>4</th>\n",
              "      <td>4</td>\n",
              "      <td>Tata</td>\n",
              "      <td>Nano Genx</td>\n",
              "      <td>Xm</td>\n",
              "      <td>Rs. 2,72,223</td>\n",
              "      <td>624 cc</td>\n",
              "      <td>2.0</td>\n",
              "      <td>2.0</td>\n",
              "      <td>RWD (Rear Wheel Drive)</td>\n",
              "      <td>In-line</td>\n",
              "      <td>...</td>\n",
              "      <td>NaN</td>\n",
              "      <td>NaN</td>\n",
              "      <td>NaN</td>\n",
              "      <td>NaN</td>\n",
              "      <td>NaN</td>\n",
              "      <td>NaN</td>\n",
              "      <td>NaN</td>\n",
              "      <td>NaN</td>\n",
              "      <td>NaN</td>\n",
              "      <td>NaN</td>\n",
              "    </tr>\n",
              "    <tr>\n",
              "      <th>...</th>\n",
              "      <td>...</td>\n",
              "      <td>...</td>\n",
              "      <td>...</td>\n",
              "      <td>...</td>\n",
              "      <td>...</td>\n",
              "      <td>...</td>\n",
              "      <td>...</td>\n",
              "      <td>...</td>\n",
              "      <td>...</td>\n",
              "      <td>...</td>\n",
              "      <td>...</td>\n",
              "      <td>...</td>\n",
              "      <td>...</td>\n",
              "      <td>...</td>\n",
              "      <td>...</td>\n",
              "      <td>...</td>\n",
              "      <td>...</td>\n",
              "      <td>...</td>\n",
              "      <td>...</td>\n",
              "      <td>...</td>\n",
              "      <td>...</td>\n",
              "    </tr>\n",
              "    <tr>\n",
              "      <th>1271</th>\n",
              "      <td>1271</td>\n",
              "      <td>Honda</td>\n",
              "      <td>City</td>\n",
              "      <td>Vx Mt Diesel</td>\n",
              "      <td>Rs. 13,02,000</td>\n",
              "      <td>1498 cc</td>\n",
              "      <td>4.0</td>\n",
              "      <td>4.0</td>\n",
              "      <td>FWD (Front Wheel Drive)</td>\n",
              "      <td>In-line</td>\n",
              "      <td>...</td>\n",
              "      <td>Yes</td>\n",
              "      <td>NaN</td>\n",
              "      <td>NaN</td>\n",
              "      <td>NaN</td>\n",
              "      <td>Yes</td>\n",
              "      <td>NaN</td>\n",
              "      <td>NaN</td>\n",
              "      <td>NaN</td>\n",
              "      <td>NaN</td>\n",
              "      <td>NaN</td>\n",
              "    </tr>\n",
              "    <tr>\n",
              "      <th>1272</th>\n",
              "      <td>1272</td>\n",
              "      <td>Honda</td>\n",
              "      <td>City</td>\n",
              "      <td>Zx Mt Diesel</td>\n",
              "      <td>Rs. 14,21,000</td>\n",
              "      <td>1498 cc</td>\n",
              "      <td>4.0</td>\n",
              "      <td>4.0</td>\n",
              "      <td>FWD (Front Wheel Drive)</td>\n",
              "      <td>In-line</td>\n",
              "      <td>...</td>\n",
              "      <td>Yes</td>\n",
              "      <td>Yes</td>\n",
              "      <td>NaN</td>\n",
              "      <td>NaN</td>\n",
              "      <td>Yes</td>\n",
              "      <td>NaN</td>\n",
              "      <td>NaN</td>\n",
              "      <td>NaN</td>\n",
              "      <td>NaN</td>\n",
              "      <td>NaN</td>\n",
              "    </tr>\n",
              "    <tr>\n",
              "      <th>1273</th>\n",
              "      <td>1273</td>\n",
              "      <td>Honda</td>\n",
              "      <td>City</td>\n",
              "      <td>Zx Cvt Petrol</td>\n",
              "      <td>Rs. 14,31,000</td>\n",
              "      <td>1497 cc</td>\n",
              "      <td>4.0</td>\n",
              "      <td>4.0</td>\n",
              "      <td>FWD (Front Wheel Drive)</td>\n",
              "      <td>In-line</td>\n",
              "      <td>...</td>\n",
              "      <td>Yes</td>\n",
              "      <td>Yes</td>\n",
              "      <td>NaN</td>\n",
              "      <td>NaN</td>\n",
              "      <td>Yes</td>\n",
              "      <td>NaN</td>\n",
              "      <td>NaN</td>\n",
              "      <td>NaN</td>\n",
              "      <td>NaN</td>\n",
              "      <td>NaN</td>\n",
              "    </tr>\n",
              "    <tr>\n",
              "      <th>1274</th>\n",
              "      <td>1274</td>\n",
              "      <td>Honda</td>\n",
              "      <td>City</td>\n",
              "      <td>V Cvt Petrol</td>\n",
              "      <td>Rs. 12,01,000</td>\n",
              "      <td>1497 cc</td>\n",
              "      <td>4.0</td>\n",
              "      <td>4.0</td>\n",
              "      <td>FWD (Front Wheel Drive)</td>\n",
              "      <td>In-line</td>\n",
              "      <td>...</td>\n",
              "      <td>NaN</td>\n",
              "      <td>NaN</td>\n",
              "      <td>NaN</td>\n",
              "      <td>NaN</td>\n",
              "      <td>Yes</td>\n",
              "      <td>NaN</td>\n",
              "      <td>NaN</td>\n",
              "      <td>NaN</td>\n",
              "      <td>NaN</td>\n",
              "      <td>NaN</td>\n",
              "    </tr>\n",
              "    <tr>\n",
              "      <th>1275</th>\n",
              "      <td>1275</td>\n",
              "      <td>Mitsubishi</td>\n",
              "      <td>Montero</td>\n",
              "      <td>3.2 At</td>\n",
              "      <td>Rs. 68,62,560</td>\n",
              "      <td>3200 cc</td>\n",
              "      <td>4.0</td>\n",
              "      <td>4.0</td>\n",
              "      <td>AWD (All Wheel Drive)</td>\n",
              "      <td>In-line</td>\n",
              "      <td>...</td>\n",
              "      <td>Yes</td>\n",
              "      <td>NaN</td>\n",
              "      <td>NaN</td>\n",
              "      <td>Yes</td>\n",
              "      <td>Yes</td>\n",
              "      <td>NaN</td>\n",
              "      <td>NaN</td>\n",
              "      <td>NaN</td>\n",
              "      <td>NaN</td>\n",
              "      <td>NaN</td>\n",
              "    </tr>\n",
              "  </tbody>\n",
              "</table>\n",
              "<p>1276 rows × 141 columns</p>\n",
              "</div>\n",
              "      <button class=\"colab-df-convert\" onclick=\"convertToInteractive('df-43a7f12b-6c8f-4855-a0b9-832a00eee4e6')\"\n",
              "              title=\"Convert this dataframe to an interactive table.\"\n",
              "              style=\"display:none;\">\n",
              "        \n",
              "  <svg xmlns=\"http://www.w3.org/2000/svg\" height=\"24px\"viewBox=\"0 0 24 24\"\n",
              "       width=\"24px\">\n",
              "    <path d=\"M0 0h24v24H0V0z\" fill=\"none\"/>\n",
              "    <path d=\"M18.56 5.44l.94 2.06.94-2.06 2.06-.94-2.06-.94-.94-2.06-.94 2.06-2.06.94zm-11 1L8.5 8.5l.94-2.06 2.06-.94-2.06-.94L8.5 2.5l-.94 2.06-2.06.94zm10 10l.94 2.06.94-2.06 2.06-.94-2.06-.94-.94-2.06-.94 2.06-2.06.94z\"/><path d=\"M17.41 7.96l-1.37-1.37c-.4-.4-.92-.59-1.43-.59-.52 0-1.04.2-1.43.59L10.3 9.45l-7.72 7.72c-.78.78-.78 2.05 0 2.83L4 21.41c.39.39.9.59 1.41.59.51 0 1.02-.2 1.41-.59l7.78-7.78 2.81-2.81c.8-.78.8-2.07 0-2.86zM5.41 20L4 18.59l7.72-7.72 1.47 1.35L5.41 20z\"/>\n",
              "  </svg>\n",
              "      </button>\n",
              "      \n",
              "  <style>\n",
              "    .colab-df-container {\n",
              "      display:flex;\n",
              "      flex-wrap:wrap;\n",
              "      gap: 12px;\n",
              "    }\n",
              "\n",
              "    .colab-df-convert {\n",
              "      background-color: #E8F0FE;\n",
              "      border: none;\n",
              "      border-radius: 50%;\n",
              "      cursor: pointer;\n",
              "      display: none;\n",
              "      fill: #1967D2;\n",
              "      height: 32px;\n",
              "      padding: 0 0 0 0;\n",
              "      width: 32px;\n",
              "    }\n",
              "\n",
              "    .colab-df-convert:hover {\n",
              "      background-color: #E2EBFA;\n",
              "      box-shadow: 0px 1px 2px rgba(60, 64, 67, 0.3), 0px 1px 3px 1px rgba(60, 64, 67, 0.15);\n",
              "      fill: #174EA6;\n",
              "    }\n",
              "\n",
              "    [theme=dark] .colab-df-convert {\n",
              "      background-color: #3B4455;\n",
              "      fill: #D2E3FC;\n",
              "    }\n",
              "\n",
              "    [theme=dark] .colab-df-convert:hover {\n",
              "      background-color: #434B5C;\n",
              "      box-shadow: 0px 1px 3px 1px rgba(0, 0, 0, 0.15);\n",
              "      filter: drop-shadow(0px 1px 2px rgba(0, 0, 0, 0.3));\n",
              "      fill: #FFFFFF;\n",
              "    }\n",
              "  </style>\n",
              "\n",
              "      <script>\n",
              "        const buttonEl =\n",
              "          document.querySelector('#df-43a7f12b-6c8f-4855-a0b9-832a00eee4e6 button.colab-df-convert');\n",
              "        buttonEl.style.display =\n",
              "          google.colab.kernel.accessAllowed ? 'block' : 'none';\n",
              "\n",
              "        async function convertToInteractive(key) {\n",
              "          const element = document.querySelector('#df-43a7f12b-6c8f-4855-a0b9-832a00eee4e6');\n",
              "          const dataTable =\n",
              "            await google.colab.kernel.invokeFunction('convertToInteractive',\n",
              "                                                     [key], {});\n",
              "          if (!dataTable) return;\n",
              "\n",
              "          const docLinkHtml = 'Like what you see? Visit the ' +\n",
              "            '<a target=\"_blank\" href=https://colab.research.google.com/notebooks/data_table.ipynb>data table notebook</a>'\n",
              "            + ' to learn more about interactive tables.';\n",
              "          element.innerHTML = '';\n",
              "          dataTable['output_type'] = 'display_data';\n",
              "          await google.colab.output.renderOutput(dataTable, element);\n",
              "          const docLink = document.createElement('div');\n",
              "          docLink.innerHTML = docLinkHtml;\n",
              "          element.appendChild(docLink);\n",
              "        }\n",
              "      </script>\n",
              "    </div>\n",
              "  </div>\n",
              "  "
            ]
          },
          "metadata": {},
          "execution_count": 11
        }
      ],
      "source": [
        "data3"
      ]
    },
    {
      "cell_type": "markdown",
      "metadata": {
        "id": "z8fzEYMZbeEV"
      },
      "source": [
        "# ***putting 'unknown' missing values of catagorical columns ***"
      ]
    },
    {
      "cell_type": "markdown",
      "metadata": {
        "id": "N-pm2-JVRPUs"
      },
      "source": [
        "### **list of catagorical col label encoded columns and numerical data with units**"
      ]
    },
    {
      "cell_type": "code",
      "execution_count": 12,
      "metadata": {
        "id": "61mCpIoKRRt-"
      },
      "outputs": [],
      "source": [
        " catagory_col=['Make','Drivetrain',\n",
        "               'Cylinder_Configuration','Emission_Norm',\n",
        "               'Engine_Location','Fuel_Type','Fuel_System',\n",
        "               'Body_Type','Front_Brakes','Rear_Brakes','Front_Suspension',\n",
        "               'Rear_Suspension','Front_Tyre_&_Rim','Rear_Tyre_&_Rim','Power_Steering',\n",
        "               'Power_Windows','Power_Seats','Keyless_Entry','Power','Torque','Odometer',\n",
        "               'Speedometer','Tachometer','Tripmeter','Seats_Material','Type','Wheels_Size',\n",
        "               'Start_/_Stop_Button','12v_Power_Outlet','Audiosystem','Aux-in_Compatibility',\n",
        "               'Average_Fuel_Consumption','Basic_Warranty','Bluetooth','Boot-lid_Opener','CD_/_MP3_/_DVD_Player',\n",
        "               'Central_Locking','Child_Safety_Locks','Clock','Cup_Holders','Distance_to_Empty',\n",
        "               'Door_Pockets','Engine_Malfunction_Light','Extended_Warranty','FM_Radio','Fuel-lid_Opener',\n",
        "               'Fuel_Gauge','Handbrake','Instrument_Console','Low_Fuel_Warning','Multifunction_Display',\n",
        "               'Sun_Visor','Third_Row_AC_Vents','Ventilation_System','Drive_Modes',\n",
        "               'Auto-Dimming_Rear-View_Mirror','Hill_Assist','Gear_Indicator',\n",
        "               '3_Point_Seat-Belt_in_Middle_Rear_Seat','Ambient_Lightning',\n",
        "               'Cargo/Boot_Lights','Drive_Modes','Engine_Immobilizer',\n",
        "               'High_Speed_Alert_System','Lane_Watch_Camera/_Side_Mirror_Camera',\n",
        "               'Passenger_Side_Seat-Belt_Reminder','Seat_Back_Pockets','Voice_Recognition',\n",
        "               'Walk_Away_Auto_Car_Lock','ABS_(Anti-lock_Braking_System)','Headlight_Reminder','Adjustable_Headrests',\n",
        "               'Gross_Vehicle_Weight','Airbags','Door_Ajar_Warning','EBD_(Electronic_Brake-force_Distribution)',\n",
        "               'Fasten_Seat_Belt_Warning','Gear_Shift_Reminder','Adjustable_Steering_Column','Other_Specs',\n",
        "               'Parking_Assistance','Key_Off_Reminder','USB_Compatibility','Android_Auto','Apple_CarPlay',\n",
        "               'Cigarette_Lighter','Infotainment_Screen','Multifunction_Steering_Wheel','Average_Speed',\n",
        "               'EBA_(Electronic_Brake_Assist)','Seat_Height_Adjustment','Navigation_System','Second_Row_AC_Vents',\n",
        "               'Tyre_Pressure_Monitoring_System','Rear_Center_Armrest','iPod_Compatibility','ESP_(Electronic_Stability_Program)',\n",
        "               'Cooled_Glove_Box','Heated_Seats','Turbocharger','ISOFIX_(Child-Seat_Mount)','Rain_Sensing_Wipers',\n",
        "               'Paddle_Shifters','Leather_Wrapped_Steering','Automatic_Headlamps','Engine_Type','ASR_/_Traction_Control',\n",
        "               'Cruise_Control','Heads-Up_Display','Welcome_Lights'\n",
        "               ] \n",
        "encoding_data=['Make','Model','Variant','Drivetrain',\n",
        "                'Cylinder_Configuration','Emission_Norm',\n",
        "                'Engine_Location','Fuel_System','Fuel_Type','Body_Type',\n",
        "                'Front_Brakes','Rear_Brakes','Front_Suspension','Rear_Suspension',\n",
        "                'Front_Tyre_&_Rim','Rear_Tyre_&_Rim','Power_Steering','Power_Windows','Power',\n",
        "                'Torque','Odometer','Speedometer','Tachometer','Seats_Material','Type','Wheels_Size',\n",
        "                'Audiosystem','Basic_Warranty','Boot-lid_Opener','Clock','Cup_Holders','Door_Pockets',\n",
        "                'Extended_Warranty','Fuel-lid_Opener','Fuel_Gauge','Handbrake','Instrument_Console','Sun_Visor',\n",
        "                'Third_Row_AC_Vents','Ventilation_System','Adjustable_Headrests','Airbags','Adjustable_Steering_Column',\n",
        "                'Other_Specs','Other_specs','Parking_Assistance','Infotainment_Screen','Multifunction_Steering_Wheel',\n",
        "                'Seat_Height_Adjustment','Rear_Center_Armrest','Recommended_Tyre_Pressure','Heated_Seats','Engine_Type','Drive_Modes'] "
      ]
    },
    {
      "cell_type": "code",
      "source": [
        "dimention={           \n",
        "        'mm_unit':  ['Height','Length',\n",
        "                    'Width','Ground_Clearance',\n",
        "                    'Front_Track','Rear_Track','Wheelbase'\n",
        "                    ],\n",
        "           \n",
        "        'litre_unit': ['Fuel_Tank_Capacity','Boot_Space'],\n",
        "        \n",
        "        'km_per_litre':['City_Mileage','Highway_Mileage','ARAI_Certified_Mileage'],\n",
        "\n",
        "        'kilogram':['Kerb_Weight','Gross_Vehicle_Weight'],\n",
        "\n",
        "        'dim_less':['Gears','Compression_Ratio','USB_Ports']\n",
        "}\n"
      ],
      "metadata": {
        "id": "TUNCFVD2I9Xm"
      },
      "execution_count": 13,
      "outputs": []
    },
    {
      "cell_type": "code",
      "source": [
        "\n",
        "labelE=['Tripmeter','Start_/_Stop_Button','12v_Power_Outlet',\n",
        "        'Aux-in_Compatibility','Average_Fuel_Consumption',\n",
        "        'Bluetooth','CD_/_MP3_/_DVD_Player','Central_Locking',\n",
        "        'Child_Safety_Locks','Distance_to_Empty','Engine_Malfunction_Light',\n",
        "        'FM_Radio','Low_Fuel_Warning','Multifunction_Display',\n",
        "        'Auto-Dimming_Rear-View_Mirror','Hill_Assist','Gear_Indicator',\n",
        "        '3_Point_Seat-Belt_in_Middle_Rear_Seat','Ambient_Lightning','Cargo/Boot_Lights',\n",
        "        'Engine_Immobilizer','High_Speed_Alert_System','Lane_Watch_Camera/_Side_Mirror_Camera',\n",
        "        'Passenger_Side_Seat-Belt_Reminder','Seat_Back_Pockets','Voice_Recognition',\n",
        "        'Walk_Away_Auto_Car_Lock','ABS_(Anti-lock_Braking_System)','Headlight_Reminder',\n",
        "        'Door_Ajar_Warning','EBD_(Electronic_Brake-force_Distribution)','Fasten_Seat_Belt_Warning',\n",
        "        'Gear_Shift_Reminder','Key_Off_Reminder','USB_Compatibility','Android_Auto','Apple_CarPlay',\n",
        "        'Cigarette_Lighter','Average_Speed','EBA_(Electronic_Brake_Assist)','Navigation_System','Second_Row_AC_Vents',\n",
        "        'Tyre_Pressure_Monitoring_System','iPod_Compatibility','ESP_(Electronic_Stability_Program)','Cooled_Glove_Box',\n",
        "        'Turbocharger','ISOFIX_(Child-Seat_Mount)','Rain_Sensing_Wipers','Paddle_Shifters',\n",
        "        'Leather_Wrapped_Steering','Automatic_Headlamps','ASR_/_Traction_Control','Cruise_Control',\n",
        "        'Heads-Up_Display','Welcome_Lights','Power_Seats','Keyless_Entry'\n",
        "        ] "
      ],
      "metadata": {
        "id": "vyzWvkBgI9UK"
      },
      "execution_count": 14,
      "outputs": []
    },
    {
      "cell_type": "code",
      "source": [
        "\n",
        "mean_data=['Cylinders','Valves_Per_Cylinder','Fuel_Tank_Capacity',\n",
        "'Height','Width','City_Mileage',\n",
        "'Highway_Mileage','ARAI_Certified_Mileage','ARAI_Certified_Mileage_for_CNG',\n",
        "'Kerb_Weight','Gears','Ground_Clearance',\n",
        "'Front_Track','Rear_Track','Wheelbase',\n",
        "'Boot_Space','Minimum_Turning_Radius','Gross_Vehicle_Weight',\n",
        "'Compression_Ratio','USB_Ports','Battery',\n",
        "'Electric_Range','Ex-Showroom_Price','Displacement'\n",
        "]"
      ],
      "metadata": {
        "id": "UHshJ4MwI9RU"
      },
      "execution_count": 15,
      "outputs": []
    },
    {
      "cell_type": "code",
      "source": [
        "median_data=['Cylinders','Doors',\n",
        "            'Seating_Capacity','Number_of_Airbags'\n",
        "            ]"
      ],
      "metadata": {
        "id": "68nMhCGpI8sU"
      },
      "execution_count": 16,
      "outputs": []
    },
    {
      "cell_type": "markdown",
      "source": [
        "removin columns"
      ],
      "metadata": {
        "id": "d4aIoUM46Neh"
      }
    },
    {
      "cell_type": "code",
      "source": [
        "# labelE.remove()\n",
        "# median_data.remove()\n",
        "# mean_data.remove()\n",
        "# dimention['dim_less'].remove()\n",
        "# dimention['mm_unit'].remove()\n",
        "# dimention['litre_unit'].remove()\n",
        "# dimention['km_per_litre'].remove()\n",
        "# dimention['kilogram'].remove()\n",
        "# catagory_col.remove('Clock')\n",
        "# encoding_data.remove('Clock')\n",
        "# data3.pop('Clock')"
      ],
      "metadata": {
        "id": "_GA10v-n6LYW",
        "outputId": "dae985c2-3f31-4660-ca7d-f14872db6e5d",
        "colab": {
          "base_uri": "https://localhost:8080/"
        }
      },
      "execution_count": 17,
      "outputs": [
        {
          "output_type": "execute_result",
          "data": {
            "text/plain": [
              "0       Digital\n",
              "1       Digital\n",
              "2       Digital\n",
              "3       Digital\n",
              "4       Digital\n",
              "         ...   \n",
              "1271    Digital\n",
              "1272    Digital\n",
              "1273    Digital\n",
              "1274    Digital\n",
              "1275    Digital\n",
              "Name: Clock, Length: 1276, dtype: object"
            ]
          },
          "metadata": {},
          "execution_count": 17
        }
      ]
    },
    {
      "cell_type": "markdown",
      "metadata": {
        "id": "xqXAAuHNRSOF"
      },
      "source": [
        "filling the missing values in dataset"
      ]
    },
    {
      "cell_type": "code",
      "execution_count": 18,
      "metadata": {
        "id": "fZAWsQ3VQm3u"
      },
      "outputs": [],
      "source": [
        "for col in catagory_col:\n",
        "  data3[col]=data3[col].fillna('unknown')"
      ]
    },
    {
      "cell_type": "markdown",
      "metadata": {
        "id": "i6HOE7mNgVZk"
      },
      "source": [
        "# **conversion of numerical data from string to integer**"
      ]
    },
    {
      "cell_type": "markdown",
      "metadata": {
        "id": "SpXB39FsOUNB"
      },
      "source": [
        "removing all units to form int "
      ]
    },
    {
      "cell_type": "code",
      "execution_count": 19,
      "metadata": {
        "colab": {
          "base_uri": "https://localhost:8080/"
        },
        "id": "LeJi7jqAQn8E",
        "outputId": "590a1fe2-06f5-46bc-f303-7a6961a72823"
      },
      "outputs": [
        {
          "output_type": "stream",
          "name": "stderr",
          "text": [
            "/usr/local/lib/python3.7/dist-packages/ipykernel_launcher.py:36: FutureWarning: The default value of regex will change from True to False in a future version.\n",
            "/usr/local/lib/python3.7/dist-packages/ipykernel_launcher.py:40: FutureWarning: The default value of regex will change from True to False in a future version.\n"
          ]
        }
      ],
      "source": [
        "# for data 3 \n",
        "\n",
        "for col in dimention['mm_unit']:\n",
        "  data3[col]=data3[col].str.replace(\"mm\",\"\")\n",
        "  data3[col]=pd.to_numeric(data3[col],errors='coerce')\n",
        "\n",
        "\n",
        "for col in dimention['litre_unit']:\n",
        "  data3[col]=data3[col].str.replace(\"litres\",\"\")\n",
        "  data3[col]=pd.to_numeric(data3[col],errors='coerce')\n",
        "\n",
        "for col in dimention['km_per_litre']:\n",
        "  data3[col]=data3[col].str.replace(\"km/litre\",\"\")\n",
        "  data3[col]=pd.to_numeric(data3[col],errors='coerce')\n",
        "\n",
        "for col in dimention['kilogram']:\n",
        "  data3[col]=data3[col].str.replace(\"kg\",\"\")\n",
        "  data3[col]=pd.to_numeric(data3[col],errors='coerce')\n",
        "\n",
        "for col in dimention['dim_less']:\n",
        "  data3[col]=pd.to_numeric(data3[col],errors='coerce')\n",
        "\n",
        " #special cases\n",
        "data3['Displacement']=data3['Displacement'].str.replace(\"cc\",\"\")\n",
        "data3['Displacement']=pd.to_numeric(data3['Displacement'],errors='coerce')\n",
        "\n",
        "data3['ARAI_Certified_Mileage_for_CNG']=data3['ARAI_Certified_Mileage_for_CNG'].str.replace(\"km/kg\",\"\")\n",
        "data3['ARAI_Certified_Mileage_for_CNG']=pd.to_numeric(data3['ARAI_Certified_Mileage_for_CNG'],errors='coerce')\n",
        "\n",
        "data3['Minimum_Turning_Radius']=data3['Minimum_Turning_Radius'].str.replace(\"meter\",\"\")\n",
        "data3['Minimum_Turning_Radius']=pd.to_numeric(data3['Minimum_Turning_Radius'],errors='coerce')\n",
        "\n",
        "data3['Electric_Range']=data3['Electric_Range'].str.replace(\"km/full charge\",\"\")\n",
        "data3['Electric_Range']=pd.to_numeric(data3['Electric_Range'],errors='coerce')\n",
        "\n",
        "data3['Battery']=data3['Battery'].str.replace(\"ampere-hour\",\"\").str.replace(\"kWh,Battery Placed Under Rear Seats\",\"\").str.replace(\"(kWh), Lithium Ion\",\"\").str.replace(\" kWh* Advanced Li-ion polymer, liquid cooled battery pack with IP67 certification\",\"\").str.replace(\"\",\"\").str.replace(\"(kWh), Lithium Ion\",\"\")\n",
        "data3['Battery']=pd.to_numeric(data3['Battery'],errors='coerce')\n",
        "\n",
        "#for data 2 removing units\n",
        "data3['Ex-Showroom_Price']=data3['Ex-Showroom_Price'].str.replace(\"Rs.\",\"\").str.replace(\",\",\"\")\n",
        "data3['Ex-Showroom_Price']=pd.to_numeric(data3['Ex-Showroom_Price'],errors='coerce')"
      ]
    },
    {
      "cell_type": "markdown",
      "metadata": {
        "id": "uFXVTuxOg8aK"
      },
      "source": [
        "filling missing values with mean and median"
      ]
    },
    {
      "cell_type": "code",
      "execution_count": 20,
      "metadata": {
        "id": "sKdgTibeab2-"
      },
      "outputs": [],
      "source": [
        "# for data 3 converting to mean\n",
        "\n",
        "for col in mean_data:\n",
        "  data3[col]=data[col].fillna(data3[col].mean())\n",
        "\n",
        "for col in median_data:\n",
        "  data3[col]=data3[col].fillna(data3[col].median())"
      ]
    },
    {
      "cell_type": "markdown",
      "metadata": {
        "id": "NExh8Aahsvkx"
      },
      "source": [
        "# **DATA 2**\n"
      ]
    },
    {
      "cell_type": "markdown",
      "metadata": {
        "id": "kK7nQZHRs0u8"
      },
      "source": [
        "this data consist of the features (ex-showroom price)"
      ]
    },
    {
      "cell_type": "code",
      "execution_count": 21,
      "metadata": {
        "id": "FJf1oG4SqpUe"
      },
      "outputs": [],
      "source": [
        "data2=data3.pop('Ex-Showroom_Price')"
      ]
    },
    {
      "cell_type": "markdown",
      "metadata": {
        "id": "5iolWOr4tw-N"
      },
      "source": [
        "## **one hot encoding on data frame**"
      ]
    },
    {
      "cell_type": "code",
      "execution_count": 22,
      "metadata": {
        "id": "z-NZZI8HtwXk"
      },
      "outputs": [],
      "source": [
        "data3 = pd.get_dummies(data3, columns =encoding_data ) "
      ]
    },
    {
      "cell_type": "markdown",
      "metadata": {
        "id": "2x2ixZAGzjPC"
      },
      "source": [
        "label encoding"
      ]
    },
    {
      "cell_type": "code",
      "execution_count": 23,
      "metadata": {
        "id": "xki8RIDetgcs"
      },
      "outputs": [],
      "source": [
        "from sklearn.preprocessing import LabelEncoder\n",
        "le=LabelEncoder()\n",
        "\n",
        "for col in labelE:\n",
        "  data3[col]=le.fit_transform(data3[col])"
      ]
    },
    {
      "cell_type": "code",
      "execution_count": 23,
      "metadata": {
        "id": "BzM8VjhK9-IL"
      },
      "outputs": [],
      "source": [
        ""
      ]
    },
    {
      "cell_type": "markdown",
      "metadata": {
        "id": "hLJPrsMGvYze"
      },
      "source": [
        "importing ML models"
      ]
    },
    {
      "cell_type": "code",
      "execution_count": 24,
      "metadata": {
        "id": "LcRBCWyxvXyj"
      },
      "outputs": [],
      "source": [
        "from sklearn.linear_model import LinearRegression\n",
        "from sklearn.svm import SVR\n",
        "\n",
        "from sklearn.ensemble import RandomForestRegressor"
      ]
    },
    {
      "cell_type": "code",
      "execution_count": 25,
      "metadata": {
        "id": "3ZR8UyyWE0vO"
      },
      "outputs": [],
      "source": [
        "x=np.array(data3)\n",
        "y=np.array(data2)"
      ]
    },
    {
      "cell_type": "markdown",
      "metadata": {
        "id": "HDgdcHVuliRJ"
      },
      "source": [
        "# **splitting into training and test set**"
      ]
    },
    {
      "cell_type": "code",
      "execution_count": 26,
      "metadata": {
        "id": "oqdn5TtrGJh7"
      },
      "outputs": [],
      "source": [
        "from sklearn.model_selection import train_test_split\n",
        "x_train, x_test, y_train, y_test = train_test_split(x,y,test_size=0.3,random_state=0)\n",
        "\n",
        "# calculate r^2\n",
        "from sklearn.metrics import r2_score"
      ]
    },
    {
      "cell_type": "markdown",
      "metadata": {
        "id": "3GuYmrzYmHQl"
      },
      "source": [
        "# **fitting all models with the data**"
      ]
    },
    {
      "cell_type": "markdown",
      "metadata": {
        "id": "Oy9IYiZ5nfmJ"
      },
      "source": [
        "LINEAR REGRESSION MODEL"
      ]
    },
    {
      "cell_type": "code",
      "execution_count": 27,
      "metadata": {
        "colab": {
          "base_uri": "https://localhost:8080/"
        },
        "id": "Lxfap7_b1DYz",
        "outputId": "625baed0-f0b6-4cb3-d46b-b649dae38cec"
      },
      "outputs": [
        {
          "output_type": "execute_result",
          "data": {
            "text/plain": [
              "LinearRegression()"
            ]
          },
          "metadata": {},
          "execution_count": 27
        }
      ],
      "source": [
        "\n",
        "lr=LinearRegression()\n",
        "\n",
        "lr.fit(x_train,y_train)"
      ]
    },
    {
      "cell_type": "markdown",
      "metadata": {
        "id": "HWJIEVxEnsWc"
      },
      "source": [
        "DECISON TREE"
      ]
    },
    {
      "cell_type": "code",
      "execution_count": 28,
      "metadata": {
        "id": "BsV7WFaLn7Ol",
        "colab": {
          "base_uri": "https://localhost:8080/"
        },
        "outputId": "eace7e14-1c5d-4e3a-c673-3e92a45f5d4f"
      },
      "outputs": [
        {
          "output_type": "execute_result",
          "data": {
            "text/plain": [
              "DecisionTreeRegressor()"
            ]
          },
          "metadata": {},
          "execution_count": 28
        }
      ],
      "source": [
        "from sklearn.tree import DecisionTreeRegressor\n",
        "dt=DecisionTreeRegressor()\n",
        "dt.fit(x_train,y_train)\n"
      ]
    },
    {
      "cell_type": "markdown",
      "metadata": {
        "id": "XMcMLE7lnwIL"
      },
      "source": [
        "RANDOM FOREST REGRESSION"
      ]
    },
    {
      "cell_type": "code",
      "execution_count": 29,
      "metadata": {
        "id": "NXBknaZhn7xb",
        "colab": {
          "base_uri": "https://localhost:8080/"
        },
        "outputId": "61367f9e-3cbc-4ef7-dc4c-d7192d9e3ae4"
      },
      "outputs": [
        {
          "output_type": "execute_result",
          "data": {
            "text/plain": [
              "RandomForestRegressor(n_estimators=15, random_state=0)"
            ]
          },
          "metadata": {},
          "execution_count": 29
        }
      ],
      "source": [
        "rfr=RandomForestRegressor(n_estimators= 15, random_state=0)\n",
        "rfr.fit(x_train,y_train)\n"
      ]
    },
    {
      "cell_type": "markdown",
      "metadata": {
        "id": "78OgDFmnq1K9"
      },
      "source": [
        "# **visualisation of results bu ML models**"
      ]
    },
    {
      "cell_type": "markdown",
      "metadata": {
        "id": "e4l87yJ2q11_"
      },
      "source": [
        "for linear regression model\n"
      ]
    },
    {
      "cell_type": "code",
      "execution_count": 30,
      "metadata": {
        "id": "iF1xvZQarSHh"
      },
      "outputs": [],
      "source": [
        "LRpred=lr.predict(x_test)"
      ]
    },
    {
      "cell_type": "code",
      "source": [
        "r2_score(y_test,LRpred)"
      ],
      "metadata": {
        "colab": {
          "base_uri": "https://localhost:8080/"
        },
        "id": "dR7eWgpv4EPV",
        "outputId": "b21e46eb-352c-442b-e208-8a488eef1953"
      },
      "execution_count": 31,
      "outputs": [
        {
          "output_type": "execute_result",
          "data": {
            "text/plain": [
              "0.8804908805811372"
            ]
          },
          "metadata": {},
          "execution_count": 31
        }
      ]
    },
    {
      "cell_type": "markdown",
      "metadata": {
        "id": "ihcucshOrTaU"
      },
      "source": [
        "support vector regression model"
      ]
    },
    {
      "cell_type": "code",
      "execution_count": 32,
      "metadata": {
        "id": "Svma0gr0rUXm",
        "colab": {
          "base_uri": "https://localhost:8080/"
        },
        "outputId": "70a07138-670e-40c8-ba7f-f271ed18bb31"
      },
      "outputs": [
        {
          "output_type": "execute_result",
          "data": {
            "text/plain": [
              "SVR()"
            ]
          },
          "metadata": {},
          "execution_count": 32
        }
      ],
      "source": [
        "sr=SVR(kernel='rbf')\n",
        "sr.fit(x_train,y_train)\n"
      ]
    },
    {
      "cell_type": "code",
      "source": [
        "SRpred=sr.predict(x_test)\n"
      ],
      "metadata": {
        "id": "eWKGezfKtTEp"
      },
      "execution_count": 33,
      "outputs": []
    },
    {
      "cell_type": "code",
      "source": [
        "r2_score(y_test,SRpred)"
      ],
      "metadata": {
        "colab": {
          "base_uri": "https://localhost:8080/"
        },
        "id": "BsG_SvH93kYs",
        "outputId": "de4763b3-535d-4e1a-9af5-e1654dc1cad6"
      },
      "execution_count": 34,
      "outputs": [
        {
          "output_type": "execute_result",
          "data": {
            "text/plain": [
              "-0.06627121968219551"
            ]
          },
          "metadata": {},
          "execution_count": 34
        }
      ]
    },
    {
      "cell_type": "markdown",
      "metadata": {
        "id": "BLUhzWQurUp-"
      },
      "source": [
        "decision tree model"
      ]
    },
    {
      "cell_type": "code",
      "execution_count": 35,
      "metadata": {
        "id": "lqkoz_DorVHQ"
      },
      "outputs": [],
      "source": [
        "DTpred=dt.predict(x_test)"
      ]
    },
    {
      "cell_type": "code",
      "source": [
        "r2_score(y_test,DTpred)"
      ],
      "metadata": {
        "colab": {
          "base_uri": "https://localhost:8080/"
        },
        "id": "_dSH-Vy94c54",
        "outputId": "3f97c760-1dd4-4837-bc96-7f9d1c8f891b"
      },
      "execution_count": 36,
      "outputs": [
        {
          "output_type": "execute_result",
          "data": {
            "text/plain": [
              "0.6566218947661291"
            ]
          },
          "metadata": {},
          "execution_count": 36
        }
      ]
    },
    {
      "cell_type": "markdown",
      "metadata": {
        "id": "w7DR8ZtMrVbh"
      },
      "source": [
        "Random forest regression model"
      ]
    },
    {
      "cell_type": "code",
      "execution_count": 37,
      "metadata": {
        "id": "sUuKrAEIrWYS"
      },
      "outputs": [],
      "source": [
        "RFRpred=rfr.predict(x_test)"
      ]
    },
    {
      "cell_type": "code",
      "source": [
        "r2_score(y_test,RFRpred)"
      ],
      "metadata": {
        "colab": {
          "base_uri": "https://localhost:8080/"
        },
        "id": "N061sDhe3nCa",
        "outputId": "506422c2-aa2a-440d-e2a0-5b5c60fb58c0"
      },
      "execution_count": 38,
      "outputs": [
        {
          "output_type": "execute_result",
          "data": {
            "text/plain": [
              "0.8429373158957819"
            ]
          },
          "metadata": {},
          "execution_count": 38
        }
      ]
    },
    {
      "cell_type": "markdown",
      "source": [
        "POLYNOMIAL REGRESSION"
      ],
      "metadata": {
        "id": "qca7IxFT45rT"
      }
    },
    {
      "cell_type": "code",
      "source": [
        "from sklearn.preprocessing import PolynomialFeatures"
      ],
      "metadata": {
        "id": "L0LFj0-T488h"
      },
      "execution_count": 39,
      "outputs": []
    },
    {
      "cell_type": "code",
      "source": [
        "pf=PolynomialFeatures(degree=2)\n",
        "x_poly=pf.fit_transform(x_test)"
      ],
      "metadata": {
        "id": "vGGMUjJZ49c1"
      },
      "execution_count": null,
      "outputs": []
    },
    {
      "cell_type": "code",
      "source": [
        ""
      ],
      "metadata": {
        "id": "9X4j3USl49rb"
      },
      "execution_count": null,
      "outputs": []
    }
  ],
  "metadata": {
    "colab": {
      "collapsed_sections": [],
      "name": "pr1GDSC.ipynb",
      "provenance": [],
      "authorship_tag": "ABX9TyOZpXSq5DPAY05QoN/ayLtb",
      "include_colab_link": true
    },
    "kernelspec": {
      "display_name": "Python 3",
      "name": "python3"
    },
    "language_info": {
      "name": "python"
    }
  },
  "nbformat": 4,
  "nbformat_minor": 0
}