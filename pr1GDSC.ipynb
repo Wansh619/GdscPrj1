{
  "cells": [
    {
      "cell_type": "markdown",
      "metadata": {
        "id": "view-in-github",
        "colab_type": "text"
      },
      "source": [
        "<a href=\"https://colab.research.google.com/github/Wansh619/GdscPrj1/blob/main/pr1GDSC.ipynb\" target=\"_parent\"><img src=\"https://colab.research.google.com/assets/colab-badge.svg\" alt=\"Open In Colab\"/></a>"
      ]
    },
    {
      "cell_type": "markdown",
      "metadata": {
        "id": "a8Vjt1Grrx6r"
      },
      "source": [
        "# **Prediction of ex-showroom price from our car_engage dataset**"
      ]
    },
    {
      "cell_type": "markdown",
      "metadata": {
        "id": "Rc_TU3ifrxgL"
      },
      "source": [
        "## **importing important libraries**"
      ]
    },
    {
      "cell_type": "code",
      "execution_count": 120,
      "metadata": {
        "id": "6hxydWGbGKmc"
      },
      "outputs": [],
      "source": [
        "import pandas as pd\n",
        "import numpy as np\n",
        "import matplotlib as plt"
      ]
    },
    {
      "cell_type": "markdown",
      "metadata": {
        "id": "3oOd5OyTsKbC"
      },
      "source": [
        "## **uploading data in our variable data**\n"
      ]
    },
    {
      "cell_type": "code",
      "execution_count": 121,
      "metadata": {
        "id": "qkC9-7DGGVV6"
      },
      "outputs": [],
      "source": [
        "data=pd.read_csv('cars_engage_2022.csv')\n"
      ]
    },
    {
      "cell_type": "code",
      "execution_count": 122,
      "metadata": {
        "colab": {
          "base_uri": "https://localhost:8080/",
          "height": 852
        },
        "id": "IbpAq428QZn5",
        "outputId": "8dd994c5-139c-459e-a437-362bf7a36a59"
      },
      "outputs": [
        {
          "output_type": "execute_result",
          "data": {
            "text/plain": [
              "      Unnamed: 0        Make      Model        Variant Ex-Showroom_Price  \\\n",
              "0              0        Tata  Nano Genx             Xt      Rs. 2,92,667   \n",
              "1              1        Tata  Nano Genx             Xe      Rs. 2,36,447   \n",
              "2              2        Tata  Nano Genx        Emax Xm      Rs. 2,96,661   \n",
              "3              3        Tata  Nano Genx            Xta      Rs. 3,34,768   \n",
              "4              4        Tata  Nano Genx             Xm      Rs. 2,72,223   \n",
              "...          ...         ...        ...            ...               ...   \n",
              "1271        1271       Honda       City   Vx Mt Diesel     Rs. 13,02,000   \n",
              "1272        1272       Honda       City   Zx Mt Diesel     Rs. 14,21,000   \n",
              "1273        1273       Honda       City  Zx Cvt Petrol     Rs. 14,31,000   \n",
              "1274        1274       Honda       City   V Cvt Petrol     Rs. 12,01,000   \n",
              "1275        1275  Mitsubishi    Montero         3.2 At     Rs. 68,62,560   \n",
              "\n",
              "     Displacement  Cylinders  Valves_Per_Cylinder               Drivetrain  \\\n",
              "0          624 cc        2.0                  2.0   RWD (Rear Wheel Drive)   \n",
              "1          624 cc        2.0                  2.0   RWD (Rear Wheel Drive)   \n",
              "2          624 cc        2.0                  2.0   RWD (Rear Wheel Drive)   \n",
              "3          624 cc        2.0                  2.0   RWD (Rear Wheel Drive)   \n",
              "4          624 cc        2.0                  2.0   RWD (Rear Wheel Drive)   \n",
              "...           ...        ...                  ...                      ...   \n",
              "1271      1498 cc        4.0                  4.0  FWD (Front Wheel Drive)   \n",
              "1272      1498 cc        4.0                  4.0  FWD (Front Wheel Drive)   \n",
              "1273      1497 cc        4.0                  4.0  FWD (Front Wheel Drive)   \n",
              "1274      1497 cc        4.0                  4.0  FWD (Front Wheel Drive)   \n",
              "1275      3200 cc        4.0                  4.0    AWD (All Wheel Drive)   \n",
              "\n",
              "     Cylinder_Configuration  ... Leather_Wrapped_Steering Automatic_Headlamps  \\\n",
              "0                   In-line  ...                      NaN                 NaN   \n",
              "1                   In-line  ...                      NaN                 NaN   \n",
              "2                   In-line  ...                      NaN                 NaN   \n",
              "3                   In-line  ...                      NaN                 NaN   \n",
              "4                   In-line  ...                      NaN                 NaN   \n",
              "...                     ...  ...                      ...                 ...   \n",
              "1271                In-line  ...                      Yes                 NaN   \n",
              "1272                In-line  ...                      Yes                 Yes   \n",
              "1273                In-line  ...                      Yes                 Yes   \n",
              "1274                In-line  ...                      NaN                 NaN   \n",
              "1275                In-line  ...                      Yes                 NaN   \n",
              "\n",
              "     Engine_Type ASR_/_Traction_Control Cruise_Control USB_Ports  \\\n",
              "0            NaN                    NaN            NaN       NaN   \n",
              "1            NaN                    NaN            NaN       NaN   \n",
              "2            NaN                    NaN            NaN       NaN   \n",
              "3            NaN                    NaN            NaN       NaN   \n",
              "4            NaN                    NaN            NaN       NaN   \n",
              "...          ...                    ...            ...       ...   \n",
              "1271         NaN                    NaN            Yes       NaN   \n",
              "1272         NaN                    NaN            Yes       NaN   \n",
              "1273         NaN                    NaN            Yes       NaN   \n",
              "1274         NaN                    NaN            Yes       NaN   \n",
              "1275         NaN                    Yes            Yes       NaN   \n",
              "\n",
              "     Heads-Up_Display Welcome_Lights Battery  Electric_Range  \n",
              "0                 NaN            NaN     NaN             NaN  \n",
              "1                 NaN            NaN     NaN             NaN  \n",
              "2                 NaN            NaN     NaN             NaN  \n",
              "3                 NaN            NaN     NaN             NaN  \n",
              "4                 NaN            NaN     NaN             NaN  \n",
              "...               ...            ...     ...             ...  \n",
              "1271              NaN            NaN     NaN             NaN  \n",
              "1272              NaN            NaN     NaN             NaN  \n",
              "1273              NaN            NaN     NaN             NaN  \n",
              "1274              NaN            NaN     NaN             NaN  \n",
              "1275              NaN            NaN     NaN             NaN  \n",
              "\n",
              "[1276 rows x 141 columns]"
            ],
            "text/html": [
              "\n",
              "  <div id=\"df-ffd7bf38-abc3-4c05-baee-1c0d46a0ec44\">\n",
              "    <div class=\"colab-df-container\">\n",
              "      <div>\n",
              "<style scoped>\n",
              "    .dataframe tbody tr th:only-of-type {\n",
              "        vertical-align: middle;\n",
              "    }\n",
              "\n",
              "    .dataframe tbody tr th {\n",
              "        vertical-align: top;\n",
              "    }\n",
              "\n",
              "    .dataframe thead th {\n",
              "        text-align: right;\n",
              "    }\n",
              "</style>\n",
              "<table border=\"1\" class=\"dataframe\">\n",
              "  <thead>\n",
              "    <tr style=\"text-align: right;\">\n",
              "      <th></th>\n",
              "      <th>Unnamed: 0</th>\n",
              "      <th>Make</th>\n",
              "      <th>Model</th>\n",
              "      <th>Variant</th>\n",
              "      <th>Ex-Showroom_Price</th>\n",
              "      <th>Displacement</th>\n",
              "      <th>Cylinders</th>\n",
              "      <th>Valves_Per_Cylinder</th>\n",
              "      <th>Drivetrain</th>\n",
              "      <th>Cylinder_Configuration</th>\n",
              "      <th>...</th>\n",
              "      <th>Leather_Wrapped_Steering</th>\n",
              "      <th>Automatic_Headlamps</th>\n",
              "      <th>Engine_Type</th>\n",
              "      <th>ASR_/_Traction_Control</th>\n",
              "      <th>Cruise_Control</th>\n",
              "      <th>USB_Ports</th>\n",
              "      <th>Heads-Up_Display</th>\n",
              "      <th>Welcome_Lights</th>\n",
              "      <th>Battery</th>\n",
              "      <th>Electric_Range</th>\n",
              "    </tr>\n",
              "  </thead>\n",
              "  <tbody>\n",
              "    <tr>\n",
              "      <th>0</th>\n",
              "      <td>0</td>\n",
              "      <td>Tata</td>\n",
              "      <td>Nano Genx</td>\n",
              "      <td>Xt</td>\n",
              "      <td>Rs. 2,92,667</td>\n",
              "      <td>624 cc</td>\n",
              "      <td>2.0</td>\n",
              "      <td>2.0</td>\n",
              "      <td>RWD (Rear Wheel Drive)</td>\n",
              "      <td>In-line</td>\n",
              "      <td>...</td>\n",
              "      <td>NaN</td>\n",
              "      <td>NaN</td>\n",
              "      <td>NaN</td>\n",
              "      <td>NaN</td>\n",
              "      <td>NaN</td>\n",
              "      <td>NaN</td>\n",
              "      <td>NaN</td>\n",
              "      <td>NaN</td>\n",
              "      <td>NaN</td>\n",
              "      <td>NaN</td>\n",
              "    </tr>\n",
              "    <tr>\n",
              "      <th>1</th>\n",
              "      <td>1</td>\n",
              "      <td>Tata</td>\n",
              "      <td>Nano Genx</td>\n",
              "      <td>Xe</td>\n",
              "      <td>Rs. 2,36,447</td>\n",
              "      <td>624 cc</td>\n",
              "      <td>2.0</td>\n",
              "      <td>2.0</td>\n",
              "      <td>RWD (Rear Wheel Drive)</td>\n",
              "      <td>In-line</td>\n",
              "      <td>...</td>\n",
              "      <td>NaN</td>\n",
              "      <td>NaN</td>\n",
              "      <td>NaN</td>\n",
              "      <td>NaN</td>\n",
              "      <td>NaN</td>\n",
              "      <td>NaN</td>\n",
              "      <td>NaN</td>\n",
              "      <td>NaN</td>\n",
              "      <td>NaN</td>\n",
              "      <td>NaN</td>\n",
              "    </tr>\n",
              "    <tr>\n",
              "      <th>2</th>\n",
              "      <td>2</td>\n",
              "      <td>Tata</td>\n",
              "      <td>Nano Genx</td>\n",
              "      <td>Emax Xm</td>\n",
              "      <td>Rs. 2,96,661</td>\n",
              "      <td>624 cc</td>\n",
              "      <td>2.0</td>\n",
              "      <td>2.0</td>\n",
              "      <td>RWD (Rear Wheel Drive)</td>\n",
              "      <td>In-line</td>\n",
              "      <td>...</td>\n",
              "      <td>NaN</td>\n",
              "      <td>NaN</td>\n",
              "      <td>NaN</td>\n",
              "      <td>NaN</td>\n",
              "      <td>NaN</td>\n",
              "      <td>NaN</td>\n",
              "      <td>NaN</td>\n",
              "      <td>NaN</td>\n",
              "      <td>NaN</td>\n",
              "      <td>NaN</td>\n",
              "    </tr>\n",
              "    <tr>\n",
              "      <th>3</th>\n",
              "      <td>3</td>\n",
              "      <td>Tata</td>\n",
              "      <td>Nano Genx</td>\n",
              "      <td>Xta</td>\n",
              "      <td>Rs. 3,34,768</td>\n",
              "      <td>624 cc</td>\n",
              "      <td>2.0</td>\n",
              "      <td>2.0</td>\n",
              "      <td>RWD (Rear Wheel Drive)</td>\n",
              "      <td>In-line</td>\n",
              "      <td>...</td>\n",
              "      <td>NaN</td>\n",
              "      <td>NaN</td>\n",
              "      <td>NaN</td>\n",
              "      <td>NaN</td>\n",
              "      <td>NaN</td>\n",
              "      <td>NaN</td>\n",
              "      <td>NaN</td>\n",
              "      <td>NaN</td>\n",
              "      <td>NaN</td>\n",
              "      <td>NaN</td>\n",
              "    </tr>\n",
              "    <tr>\n",
              "      <th>4</th>\n",
              "      <td>4</td>\n",
              "      <td>Tata</td>\n",
              "      <td>Nano Genx</td>\n",
              "      <td>Xm</td>\n",
              "      <td>Rs. 2,72,223</td>\n",
              "      <td>624 cc</td>\n",
              "      <td>2.0</td>\n",
              "      <td>2.0</td>\n",
              "      <td>RWD (Rear Wheel Drive)</td>\n",
              "      <td>In-line</td>\n",
              "      <td>...</td>\n",
              "      <td>NaN</td>\n",
              "      <td>NaN</td>\n",
              "      <td>NaN</td>\n",
              "      <td>NaN</td>\n",
              "      <td>NaN</td>\n",
              "      <td>NaN</td>\n",
              "      <td>NaN</td>\n",
              "      <td>NaN</td>\n",
              "      <td>NaN</td>\n",
              "      <td>NaN</td>\n",
              "    </tr>\n",
              "    <tr>\n",
              "      <th>...</th>\n",
              "      <td>...</td>\n",
              "      <td>...</td>\n",
              "      <td>...</td>\n",
              "      <td>...</td>\n",
              "      <td>...</td>\n",
              "      <td>...</td>\n",
              "      <td>...</td>\n",
              "      <td>...</td>\n",
              "      <td>...</td>\n",
              "      <td>...</td>\n",
              "      <td>...</td>\n",
              "      <td>...</td>\n",
              "      <td>...</td>\n",
              "      <td>...</td>\n",
              "      <td>...</td>\n",
              "      <td>...</td>\n",
              "      <td>...</td>\n",
              "      <td>...</td>\n",
              "      <td>...</td>\n",
              "      <td>...</td>\n",
              "      <td>...</td>\n",
              "    </tr>\n",
              "    <tr>\n",
              "      <th>1271</th>\n",
              "      <td>1271</td>\n",
              "      <td>Honda</td>\n",
              "      <td>City</td>\n",
              "      <td>Vx Mt Diesel</td>\n",
              "      <td>Rs. 13,02,000</td>\n",
              "      <td>1498 cc</td>\n",
              "      <td>4.0</td>\n",
              "      <td>4.0</td>\n",
              "      <td>FWD (Front Wheel Drive)</td>\n",
              "      <td>In-line</td>\n",
              "      <td>...</td>\n",
              "      <td>Yes</td>\n",
              "      <td>NaN</td>\n",
              "      <td>NaN</td>\n",
              "      <td>NaN</td>\n",
              "      <td>Yes</td>\n",
              "      <td>NaN</td>\n",
              "      <td>NaN</td>\n",
              "      <td>NaN</td>\n",
              "      <td>NaN</td>\n",
              "      <td>NaN</td>\n",
              "    </tr>\n",
              "    <tr>\n",
              "      <th>1272</th>\n",
              "      <td>1272</td>\n",
              "      <td>Honda</td>\n",
              "      <td>City</td>\n",
              "      <td>Zx Mt Diesel</td>\n",
              "      <td>Rs. 14,21,000</td>\n",
              "      <td>1498 cc</td>\n",
              "      <td>4.0</td>\n",
              "      <td>4.0</td>\n",
              "      <td>FWD (Front Wheel Drive)</td>\n",
              "      <td>In-line</td>\n",
              "      <td>...</td>\n",
              "      <td>Yes</td>\n",
              "      <td>Yes</td>\n",
              "      <td>NaN</td>\n",
              "      <td>NaN</td>\n",
              "      <td>Yes</td>\n",
              "      <td>NaN</td>\n",
              "      <td>NaN</td>\n",
              "      <td>NaN</td>\n",
              "      <td>NaN</td>\n",
              "      <td>NaN</td>\n",
              "    </tr>\n",
              "    <tr>\n",
              "      <th>1273</th>\n",
              "      <td>1273</td>\n",
              "      <td>Honda</td>\n",
              "      <td>City</td>\n",
              "      <td>Zx Cvt Petrol</td>\n",
              "      <td>Rs. 14,31,000</td>\n",
              "      <td>1497 cc</td>\n",
              "      <td>4.0</td>\n",
              "      <td>4.0</td>\n",
              "      <td>FWD (Front Wheel Drive)</td>\n",
              "      <td>In-line</td>\n",
              "      <td>...</td>\n",
              "      <td>Yes</td>\n",
              "      <td>Yes</td>\n",
              "      <td>NaN</td>\n",
              "      <td>NaN</td>\n",
              "      <td>Yes</td>\n",
              "      <td>NaN</td>\n",
              "      <td>NaN</td>\n",
              "      <td>NaN</td>\n",
              "      <td>NaN</td>\n",
              "      <td>NaN</td>\n",
              "    </tr>\n",
              "    <tr>\n",
              "      <th>1274</th>\n",
              "      <td>1274</td>\n",
              "      <td>Honda</td>\n",
              "      <td>City</td>\n",
              "      <td>V Cvt Petrol</td>\n",
              "      <td>Rs. 12,01,000</td>\n",
              "      <td>1497 cc</td>\n",
              "      <td>4.0</td>\n",
              "      <td>4.0</td>\n",
              "      <td>FWD (Front Wheel Drive)</td>\n",
              "      <td>In-line</td>\n",
              "      <td>...</td>\n",
              "      <td>NaN</td>\n",
              "      <td>NaN</td>\n",
              "      <td>NaN</td>\n",
              "      <td>NaN</td>\n",
              "      <td>Yes</td>\n",
              "      <td>NaN</td>\n",
              "      <td>NaN</td>\n",
              "      <td>NaN</td>\n",
              "      <td>NaN</td>\n",
              "      <td>NaN</td>\n",
              "    </tr>\n",
              "    <tr>\n",
              "      <th>1275</th>\n",
              "      <td>1275</td>\n",
              "      <td>Mitsubishi</td>\n",
              "      <td>Montero</td>\n",
              "      <td>3.2 At</td>\n",
              "      <td>Rs. 68,62,560</td>\n",
              "      <td>3200 cc</td>\n",
              "      <td>4.0</td>\n",
              "      <td>4.0</td>\n",
              "      <td>AWD (All Wheel Drive)</td>\n",
              "      <td>In-line</td>\n",
              "      <td>...</td>\n",
              "      <td>Yes</td>\n",
              "      <td>NaN</td>\n",
              "      <td>NaN</td>\n",
              "      <td>Yes</td>\n",
              "      <td>Yes</td>\n",
              "      <td>NaN</td>\n",
              "      <td>NaN</td>\n",
              "      <td>NaN</td>\n",
              "      <td>NaN</td>\n",
              "      <td>NaN</td>\n",
              "    </tr>\n",
              "  </tbody>\n",
              "</table>\n",
              "<p>1276 rows × 141 columns</p>\n",
              "</div>\n",
              "      <button class=\"colab-df-convert\" onclick=\"convertToInteractive('df-ffd7bf38-abc3-4c05-baee-1c0d46a0ec44')\"\n",
              "              title=\"Convert this dataframe to an interactive table.\"\n",
              "              style=\"display:none;\">\n",
              "        \n",
              "  <svg xmlns=\"http://www.w3.org/2000/svg\" height=\"24px\"viewBox=\"0 0 24 24\"\n",
              "       width=\"24px\">\n",
              "    <path d=\"M0 0h24v24H0V0z\" fill=\"none\"/>\n",
              "    <path d=\"M18.56 5.44l.94 2.06.94-2.06 2.06-.94-2.06-.94-.94-2.06-.94 2.06-2.06.94zm-11 1L8.5 8.5l.94-2.06 2.06-.94-2.06-.94L8.5 2.5l-.94 2.06-2.06.94zm10 10l.94 2.06.94-2.06 2.06-.94-2.06-.94-.94-2.06-.94 2.06-2.06.94z\"/><path d=\"M17.41 7.96l-1.37-1.37c-.4-.4-.92-.59-1.43-.59-.52 0-1.04.2-1.43.59L10.3 9.45l-7.72 7.72c-.78.78-.78 2.05 0 2.83L4 21.41c.39.39.9.59 1.41.59.51 0 1.02-.2 1.41-.59l7.78-7.78 2.81-2.81c.8-.78.8-2.07 0-2.86zM5.41 20L4 18.59l7.72-7.72 1.47 1.35L5.41 20z\"/>\n",
              "  </svg>\n",
              "      </button>\n",
              "      \n",
              "  <style>\n",
              "    .colab-df-container {\n",
              "      display:flex;\n",
              "      flex-wrap:wrap;\n",
              "      gap: 12px;\n",
              "    }\n",
              "\n",
              "    .colab-df-convert {\n",
              "      background-color: #E8F0FE;\n",
              "      border: none;\n",
              "      border-radius: 50%;\n",
              "      cursor: pointer;\n",
              "      display: none;\n",
              "      fill: #1967D2;\n",
              "      height: 32px;\n",
              "      padding: 0 0 0 0;\n",
              "      width: 32px;\n",
              "    }\n",
              "\n",
              "    .colab-df-convert:hover {\n",
              "      background-color: #E2EBFA;\n",
              "      box-shadow: 0px 1px 2px rgba(60, 64, 67, 0.3), 0px 1px 3px 1px rgba(60, 64, 67, 0.15);\n",
              "      fill: #174EA6;\n",
              "    }\n",
              "\n",
              "    [theme=dark] .colab-df-convert {\n",
              "      background-color: #3B4455;\n",
              "      fill: #D2E3FC;\n",
              "    }\n",
              "\n",
              "    [theme=dark] .colab-df-convert:hover {\n",
              "      background-color: #434B5C;\n",
              "      box-shadow: 0px 1px 3px 1px rgba(0, 0, 0, 0.15);\n",
              "      filter: drop-shadow(0px 1px 2px rgba(0, 0, 0, 0.3));\n",
              "      fill: #FFFFFF;\n",
              "    }\n",
              "  </style>\n",
              "\n",
              "      <script>\n",
              "        const buttonEl =\n",
              "          document.querySelector('#df-ffd7bf38-abc3-4c05-baee-1c0d46a0ec44 button.colab-df-convert');\n",
              "        buttonEl.style.display =\n",
              "          google.colab.kernel.accessAllowed ? 'block' : 'none';\n",
              "\n",
              "        async function convertToInteractive(key) {\n",
              "          const element = document.querySelector('#df-ffd7bf38-abc3-4c05-baee-1c0d46a0ec44');\n",
              "          const dataTable =\n",
              "            await google.colab.kernel.invokeFunction('convertToInteractive',\n",
              "                                                     [key], {});\n",
              "          if (!dataTable) return;\n",
              "\n",
              "          const docLinkHtml = 'Like what you see? Visit the ' +\n",
              "            '<a target=\"_blank\" href=https://colab.research.google.com/notebooks/data_table.ipynb>data table notebook</a>'\n",
              "            + ' to learn more about interactive tables.';\n",
              "          element.innerHTML = '';\n",
              "          dataTable['output_type'] = 'display_data';\n",
              "          await google.colab.output.renderOutput(dataTable, element);\n",
              "          const docLink = document.createElement('div');\n",
              "          docLink.innerHTML = docLinkHtml;\n",
              "          element.appendChild(docLink);\n",
              "        }\n",
              "      </script>\n",
              "    </div>\n",
              "  </div>\n",
              "  "
            ]
          },
          "metadata": {},
          "execution_count": 122
        }
      ],
      "source": [
        "data"
      ]
    },
    {
      "cell_type": "markdown",
      "metadata": {
        "id": "KpeiQmrGCwln"
      },
      "source": [
        "# **splitting the data into data 2 and 3**"
      ]
    },
    {
      "cell_type": "markdown",
      "metadata": {
        "id": "fzbjQdvzdiak"
      },
      "source": [
        "data 3= all the features"
      ]
    },
    {
      "cell_type": "code",
      "execution_count": 123,
      "metadata": {
        "id": "sKr6oQOUDLKd"
      },
      "outputs": [],
      "source": [
        "data3=data"
      ]
    },
    {
      "cell_type": "markdown",
      "metadata": {
        "id": "TXw-H20_eFPL"
      },
      "source": [
        "# **DATA 3**"
      ]
    },
    {
      "cell_type": "code",
      "execution_count": 124,
      "metadata": {
        "colab": {
          "base_uri": "https://localhost:8080/",
          "height": 852
        },
        "id": "mWk7XPazbegW",
        "outputId": "35293410-252d-4603-d446-153e3882cd95"
      },
      "outputs": [
        {
          "output_type": "execute_result",
          "data": {
            "text/plain": [
              "      Unnamed: 0        Make      Model        Variant Ex-Showroom_Price  \\\n",
              "0              0        Tata  Nano Genx             Xt      Rs. 2,92,667   \n",
              "1              1        Tata  Nano Genx             Xe      Rs. 2,36,447   \n",
              "2              2        Tata  Nano Genx        Emax Xm      Rs. 2,96,661   \n",
              "3              3        Tata  Nano Genx            Xta      Rs. 3,34,768   \n",
              "4              4        Tata  Nano Genx             Xm      Rs. 2,72,223   \n",
              "...          ...         ...        ...            ...               ...   \n",
              "1271        1271       Honda       City   Vx Mt Diesel     Rs. 13,02,000   \n",
              "1272        1272       Honda       City   Zx Mt Diesel     Rs. 14,21,000   \n",
              "1273        1273       Honda       City  Zx Cvt Petrol     Rs. 14,31,000   \n",
              "1274        1274       Honda       City   V Cvt Petrol     Rs. 12,01,000   \n",
              "1275        1275  Mitsubishi    Montero         3.2 At     Rs. 68,62,560   \n",
              "\n",
              "     Displacement  Cylinders  Valves_Per_Cylinder               Drivetrain  \\\n",
              "0          624 cc        2.0                  2.0   RWD (Rear Wheel Drive)   \n",
              "1          624 cc        2.0                  2.0   RWD (Rear Wheel Drive)   \n",
              "2          624 cc        2.0                  2.0   RWD (Rear Wheel Drive)   \n",
              "3          624 cc        2.0                  2.0   RWD (Rear Wheel Drive)   \n",
              "4          624 cc        2.0                  2.0   RWD (Rear Wheel Drive)   \n",
              "...           ...        ...                  ...                      ...   \n",
              "1271      1498 cc        4.0                  4.0  FWD (Front Wheel Drive)   \n",
              "1272      1498 cc        4.0                  4.0  FWD (Front Wheel Drive)   \n",
              "1273      1497 cc        4.0                  4.0  FWD (Front Wheel Drive)   \n",
              "1274      1497 cc        4.0                  4.0  FWD (Front Wheel Drive)   \n",
              "1275      3200 cc        4.0                  4.0    AWD (All Wheel Drive)   \n",
              "\n",
              "     Cylinder_Configuration  ... Leather_Wrapped_Steering Automatic_Headlamps  \\\n",
              "0                   In-line  ...                      NaN                 NaN   \n",
              "1                   In-line  ...                      NaN                 NaN   \n",
              "2                   In-line  ...                      NaN                 NaN   \n",
              "3                   In-line  ...                      NaN                 NaN   \n",
              "4                   In-line  ...                      NaN                 NaN   \n",
              "...                     ...  ...                      ...                 ...   \n",
              "1271                In-line  ...                      Yes                 NaN   \n",
              "1272                In-line  ...                      Yes                 Yes   \n",
              "1273                In-line  ...                      Yes                 Yes   \n",
              "1274                In-line  ...                      NaN                 NaN   \n",
              "1275                In-line  ...                      Yes                 NaN   \n",
              "\n",
              "     Engine_Type ASR_/_Traction_Control Cruise_Control USB_Ports  \\\n",
              "0            NaN                    NaN            NaN       NaN   \n",
              "1            NaN                    NaN            NaN       NaN   \n",
              "2            NaN                    NaN            NaN       NaN   \n",
              "3            NaN                    NaN            NaN       NaN   \n",
              "4            NaN                    NaN            NaN       NaN   \n",
              "...          ...                    ...            ...       ...   \n",
              "1271         NaN                    NaN            Yes       NaN   \n",
              "1272         NaN                    NaN            Yes       NaN   \n",
              "1273         NaN                    NaN            Yes       NaN   \n",
              "1274         NaN                    NaN            Yes       NaN   \n",
              "1275         NaN                    Yes            Yes       NaN   \n",
              "\n",
              "     Heads-Up_Display Welcome_Lights Battery  Electric_Range  \n",
              "0                 NaN            NaN     NaN             NaN  \n",
              "1                 NaN            NaN     NaN             NaN  \n",
              "2                 NaN            NaN     NaN             NaN  \n",
              "3                 NaN            NaN     NaN             NaN  \n",
              "4                 NaN            NaN     NaN             NaN  \n",
              "...               ...            ...     ...             ...  \n",
              "1271              NaN            NaN     NaN             NaN  \n",
              "1272              NaN            NaN     NaN             NaN  \n",
              "1273              NaN            NaN     NaN             NaN  \n",
              "1274              NaN            NaN     NaN             NaN  \n",
              "1275              NaN            NaN     NaN             NaN  \n",
              "\n",
              "[1276 rows x 141 columns]"
            ],
            "text/html": [
              "\n",
              "  <div id=\"df-ec63a31c-f225-4eec-b841-2b43dd42a73e\">\n",
              "    <div class=\"colab-df-container\">\n",
              "      <div>\n",
              "<style scoped>\n",
              "    .dataframe tbody tr th:only-of-type {\n",
              "        vertical-align: middle;\n",
              "    }\n",
              "\n",
              "    .dataframe tbody tr th {\n",
              "        vertical-align: top;\n",
              "    }\n",
              "\n",
              "    .dataframe thead th {\n",
              "        text-align: right;\n",
              "    }\n",
              "</style>\n",
              "<table border=\"1\" class=\"dataframe\">\n",
              "  <thead>\n",
              "    <tr style=\"text-align: right;\">\n",
              "      <th></th>\n",
              "      <th>Unnamed: 0</th>\n",
              "      <th>Make</th>\n",
              "      <th>Model</th>\n",
              "      <th>Variant</th>\n",
              "      <th>Ex-Showroom_Price</th>\n",
              "      <th>Displacement</th>\n",
              "      <th>Cylinders</th>\n",
              "      <th>Valves_Per_Cylinder</th>\n",
              "      <th>Drivetrain</th>\n",
              "      <th>Cylinder_Configuration</th>\n",
              "      <th>...</th>\n",
              "      <th>Leather_Wrapped_Steering</th>\n",
              "      <th>Automatic_Headlamps</th>\n",
              "      <th>Engine_Type</th>\n",
              "      <th>ASR_/_Traction_Control</th>\n",
              "      <th>Cruise_Control</th>\n",
              "      <th>USB_Ports</th>\n",
              "      <th>Heads-Up_Display</th>\n",
              "      <th>Welcome_Lights</th>\n",
              "      <th>Battery</th>\n",
              "      <th>Electric_Range</th>\n",
              "    </tr>\n",
              "  </thead>\n",
              "  <tbody>\n",
              "    <tr>\n",
              "      <th>0</th>\n",
              "      <td>0</td>\n",
              "      <td>Tata</td>\n",
              "      <td>Nano Genx</td>\n",
              "      <td>Xt</td>\n",
              "      <td>Rs. 2,92,667</td>\n",
              "      <td>624 cc</td>\n",
              "      <td>2.0</td>\n",
              "      <td>2.0</td>\n",
              "      <td>RWD (Rear Wheel Drive)</td>\n",
              "      <td>In-line</td>\n",
              "      <td>...</td>\n",
              "      <td>NaN</td>\n",
              "      <td>NaN</td>\n",
              "      <td>NaN</td>\n",
              "      <td>NaN</td>\n",
              "      <td>NaN</td>\n",
              "      <td>NaN</td>\n",
              "      <td>NaN</td>\n",
              "      <td>NaN</td>\n",
              "      <td>NaN</td>\n",
              "      <td>NaN</td>\n",
              "    </tr>\n",
              "    <tr>\n",
              "      <th>1</th>\n",
              "      <td>1</td>\n",
              "      <td>Tata</td>\n",
              "      <td>Nano Genx</td>\n",
              "      <td>Xe</td>\n",
              "      <td>Rs. 2,36,447</td>\n",
              "      <td>624 cc</td>\n",
              "      <td>2.0</td>\n",
              "      <td>2.0</td>\n",
              "      <td>RWD (Rear Wheel Drive)</td>\n",
              "      <td>In-line</td>\n",
              "      <td>...</td>\n",
              "      <td>NaN</td>\n",
              "      <td>NaN</td>\n",
              "      <td>NaN</td>\n",
              "      <td>NaN</td>\n",
              "      <td>NaN</td>\n",
              "      <td>NaN</td>\n",
              "      <td>NaN</td>\n",
              "      <td>NaN</td>\n",
              "      <td>NaN</td>\n",
              "      <td>NaN</td>\n",
              "    </tr>\n",
              "    <tr>\n",
              "      <th>2</th>\n",
              "      <td>2</td>\n",
              "      <td>Tata</td>\n",
              "      <td>Nano Genx</td>\n",
              "      <td>Emax Xm</td>\n",
              "      <td>Rs. 2,96,661</td>\n",
              "      <td>624 cc</td>\n",
              "      <td>2.0</td>\n",
              "      <td>2.0</td>\n",
              "      <td>RWD (Rear Wheel Drive)</td>\n",
              "      <td>In-line</td>\n",
              "      <td>...</td>\n",
              "      <td>NaN</td>\n",
              "      <td>NaN</td>\n",
              "      <td>NaN</td>\n",
              "      <td>NaN</td>\n",
              "      <td>NaN</td>\n",
              "      <td>NaN</td>\n",
              "      <td>NaN</td>\n",
              "      <td>NaN</td>\n",
              "      <td>NaN</td>\n",
              "      <td>NaN</td>\n",
              "    </tr>\n",
              "    <tr>\n",
              "      <th>3</th>\n",
              "      <td>3</td>\n",
              "      <td>Tata</td>\n",
              "      <td>Nano Genx</td>\n",
              "      <td>Xta</td>\n",
              "      <td>Rs. 3,34,768</td>\n",
              "      <td>624 cc</td>\n",
              "      <td>2.0</td>\n",
              "      <td>2.0</td>\n",
              "      <td>RWD (Rear Wheel Drive)</td>\n",
              "      <td>In-line</td>\n",
              "      <td>...</td>\n",
              "      <td>NaN</td>\n",
              "      <td>NaN</td>\n",
              "      <td>NaN</td>\n",
              "      <td>NaN</td>\n",
              "      <td>NaN</td>\n",
              "      <td>NaN</td>\n",
              "      <td>NaN</td>\n",
              "      <td>NaN</td>\n",
              "      <td>NaN</td>\n",
              "      <td>NaN</td>\n",
              "    </tr>\n",
              "    <tr>\n",
              "      <th>4</th>\n",
              "      <td>4</td>\n",
              "      <td>Tata</td>\n",
              "      <td>Nano Genx</td>\n",
              "      <td>Xm</td>\n",
              "      <td>Rs. 2,72,223</td>\n",
              "      <td>624 cc</td>\n",
              "      <td>2.0</td>\n",
              "      <td>2.0</td>\n",
              "      <td>RWD (Rear Wheel Drive)</td>\n",
              "      <td>In-line</td>\n",
              "      <td>...</td>\n",
              "      <td>NaN</td>\n",
              "      <td>NaN</td>\n",
              "      <td>NaN</td>\n",
              "      <td>NaN</td>\n",
              "      <td>NaN</td>\n",
              "      <td>NaN</td>\n",
              "      <td>NaN</td>\n",
              "      <td>NaN</td>\n",
              "      <td>NaN</td>\n",
              "      <td>NaN</td>\n",
              "    </tr>\n",
              "    <tr>\n",
              "      <th>...</th>\n",
              "      <td>...</td>\n",
              "      <td>...</td>\n",
              "      <td>...</td>\n",
              "      <td>...</td>\n",
              "      <td>...</td>\n",
              "      <td>...</td>\n",
              "      <td>...</td>\n",
              "      <td>...</td>\n",
              "      <td>...</td>\n",
              "      <td>...</td>\n",
              "      <td>...</td>\n",
              "      <td>...</td>\n",
              "      <td>...</td>\n",
              "      <td>...</td>\n",
              "      <td>...</td>\n",
              "      <td>...</td>\n",
              "      <td>...</td>\n",
              "      <td>...</td>\n",
              "      <td>...</td>\n",
              "      <td>...</td>\n",
              "      <td>...</td>\n",
              "    </tr>\n",
              "    <tr>\n",
              "      <th>1271</th>\n",
              "      <td>1271</td>\n",
              "      <td>Honda</td>\n",
              "      <td>City</td>\n",
              "      <td>Vx Mt Diesel</td>\n",
              "      <td>Rs. 13,02,000</td>\n",
              "      <td>1498 cc</td>\n",
              "      <td>4.0</td>\n",
              "      <td>4.0</td>\n",
              "      <td>FWD (Front Wheel Drive)</td>\n",
              "      <td>In-line</td>\n",
              "      <td>...</td>\n",
              "      <td>Yes</td>\n",
              "      <td>NaN</td>\n",
              "      <td>NaN</td>\n",
              "      <td>NaN</td>\n",
              "      <td>Yes</td>\n",
              "      <td>NaN</td>\n",
              "      <td>NaN</td>\n",
              "      <td>NaN</td>\n",
              "      <td>NaN</td>\n",
              "      <td>NaN</td>\n",
              "    </tr>\n",
              "    <tr>\n",
              "      <th>1272</th>\n",
              "      <td>1272</td>\n",
              "      <td>Honda</td>\n",
              "      <td>City</td>\n",
              "      <td>Zx Mt Diesel</td>\n",
              "      <td>Rs. 14,21,000</td>\n",
              "      <td>1498 cc</td>\n",
              "      <td>4.0</td>\n",
              "      <td>4.0</td>\n",
              "      <td>FWD (Front Wheel Drive)</td>\n",
              "      <td>In-line</td>\n",
              "      <td>...</td>\n",
              "      <td>Yes</td>\n",
              "      <td>Yes</td>\n",
              "      <td>NaN</td>\n",
              "      <td>NaN</td>\n",
              "      <td>Yes</td>\n",
              "      <td>NaN</td>\n",
              "      <td>NaN</td>\n",
              "      <td>NaN</td>\n",
              "      <td>NaN</td>\n",
              "      <td>NaN</td>\n",
              "    </tr>\n",
              "    <tr>\n",
              "      <th>1273</th>\n",
              "      <td>1273</td>\n",
              "      <td>Honda</td>\n",
              "      <td>City</td>\n",
              "      <td>Zx Cvt Petrol</td>\n",
              "      <td>Rs. 14,31,000</td>\n",
              "      <td>1497 cc</td>\n",
              "      <td>4.0</td>\n",
              "      <td>4.0</td>\n",
              "      <td>FWD (Front Wheel Drive)</td>\n",
              "      <td>In-line</td>\n",
              "      <td>...</td>\n",
              "      <td>Yes</td>\n",
              "      <td>Yes</td>\n",
              "      <td>NaN</td>\n",
              "      <td>NaN</td>\n",
              "      <td>Yes</td>\n",
              "      <td>NaN</td>\n",
              "      <td>NaN</td>\n",
              "      <td>NaN</td>\n",
              "      <td>NaN</td>\n",
              "      <td>NaN</td>\n",
              "    </tr>\n",
              "    <tr>\n",
              "      <th>1274</th>\n",
              "      <td>1274</td>\n",
              "      <td>Honda</td>\n",
              "      <td>City</td>\n",
              "      <td>V Cvt Petrol</td>\n",
              "      <td>Rs. 12,01,000</td>\n",
              "      <td>1497 cc</td>\n",
              "      <td>4.0</td>\n",
              "      <td>4.0</td>\n",
              "      <td>FWD (Front Wheel Drive)</td>\n",
              "      <td>In-line</td>\n",
              "      <td>...</td>\n",
              "      <td>NaN</td>\n",
              "      <td>NaN</td>\n",
              "      <td>NaN</td>\n",
              "      <td>NaN</td>\n",
              "      <td>Yes</td>\n",
              "      <td>NaN</td>\n",
              "      <td>NaN</td>\n",
              "      <td>NaN</td>\n",
              "      <td>NaN</td>\n",
              "      <td>NaN</td>\n",
              "    </tr>\n",
              "    <tr>\n",
              "      <th>1275</th>\n",
              "      <td>1275</td>\n",
              "      <td>Mitsubishi</td>\n",
              "      <td>Montero</td>\n",
              "      <td>3.2 At</td>\n",
              "      <td>Rs. 68,62,560</td>\n",
              "      <td>3200 cc</td>\n",
              "      <td>4.0</td>\n",
              "      <td>4.0</td>\n",
              "      <td>AWD (All Wheel Drive)</td>\n",
              "      <td>In-line</td>\n",
              "      <td>...</td>\n",
              "      <td>Yes</td>\n",
              "      <td>NaN</td>\n",
              "      <td>NaN</td>\n",
              "      <td>Yes</td>\n",
              "      <td>Yes</td>\n",
              "      <td>NaN</td>\n",
              "      <td>NaN</td>\n",
              "      <td>NaN</td>\n",
              "      <td>NaN</td>\n",
              "      <td>NaN</td>\n",
              "    </tr>\n",
              "  </tbody>\n",
              "</table>\n",
              "<p>1276 rows × 141 columns</p>\n",
              "</div>\n",
              "      <button class=\"colab-df-convert\" onclick=\"convertToInteractive('df-ec63a31c-f225-4eec-b841-2b43dd42a73e')\"\n",
              "              title=\"Convert this dataframe to an interactive table.\"\n",
              "              style=\"display:none;\">\n",
              "        \n",
              "  <svg xmlns=\"http://www.w3.org/2000/svg\" height=\"24px\"viewBox=\"0 0 24 24\"\n",
              "       width=\"24px\">\n",
              "    <path d=\"M0 0h24v24H0V0z\" fill=\"none\"/>\n",
              "    <path d=\"M18.56 5.44l.94 2.06.94-2.06 2.06-.94-2.06-.94-.94-2.06-.94 2.06-2.06.94zm-11 1L8.5 8.5l.94-2.06 2.06-.94-2.06-.94L8.5 2.5l-.94 2.06-2.06.94zm10 10l.94 2.06.94-2.06 2.06-.94-2.06-.94-.94-2.06-.94 2.06-2.06.94z\"/><path d=\"M17.41 7.96l-1.37-1.37c-.4-.4-.92-.59-1.43-.59-.52 0-1.04.2-1.43.59L10.3 9.45l-7.72 7.72c-.78.78-.78 2.05 0 2.83L4 21.41c.39.39.9.59 1.41.59.51 0 1.02-.2 1.41-.59l7.78-7.78 2.81-2.81c.8-.78.8-2.07 0-2.86zM5.41 20L4 18.59l7.72-7.72 1.47 1.35L5.41 20z\"/>\n",
              "  </svg>\n",
              "      </button>\n",
              "      \n",
              "  <style>\n",
              "    .colab-df-container {\n",
              "      display:flex;\n",
              "      flex-wrap:wrap;\n",
              "      gap: 12px;\n",
              "    }\n",
              "\n",
              "    .colab-df-convert {\n",
              "      background-color: #E8F0FE;\n",
              "      border: none;\n",
              "      border-radius: 50%;\n",
              "      cursor: pointer;\n",
              "      display: none;\n",
              "      fill: #1967D2;\n",
              "      height: 32px;\n",
              "      padding: 0 0 0 0;\n",
              "      width: 32px;\n",
              "    }\n",
              "\n",
              "    .colab-df-convert:hover {\n",
              "      background-color: #E2EBFA;\n",
              "      box-shadow: 0px 1px 2px rgba(60, 64, 67, 0.3), 0px 1px 3px 1px rgba(60, 64, 67, 0.15);\n",
              "      fill: #174EA6;\n",
              "    }\n",
              "\n",
              "    [theme=dark] .colab-df-convert {\n",
              "      background-color: #3B4455;\n",
              "      fill: #D2E3FC;\n",
              "    }\n",
              "\n",
              "    [theme=dark] .colab-df-convert:hover {\n",
              "      background-color: #434B5C;\n",
              "      box-shadow: 0px 1px 3px 1px rgba(0, 0, 0, 0.15);\n",
              "      filter: drop-shadow(0px 1px 2px rgba(0, 0, 0, 0.3));\n",
              "      fill: #FFFFFF;\n",
              "    }\n",
              "  </style>\n",
              "\n",
              "      <script>\n",
              "        const buttonEl =\n",
              "          document.querySelector('#df-ec63a31c-f225-4eec-b841-2b43dd42a73e button.colab-df-convert');\n",
              "        buttonEl.style.display =\n",
              "          google.colab.kernel.accessAllowed ? 'block' : 'none';\n",
              "\n",
              "        async function convertToInteractive(key) {\n",
              "          const element = document.querySelector('#df-ec63a31c-f225-4eec-b841-2b43dd42a73e');\n",
              "          const dataTable =\n",
              "            await google.colab.kernel.invokeFunction('convertToInteractive',\n",
              "                                                     [key], {});\n",
              "          if (!dataTable) return;\n",
              "\n",
              "          const docLinkHtml = 'Like what you see? Visit the ' +\n",
              "            '<a target=\"_blank\" href=https://colab.research.google.com/notebooks/data_table.ipynb>data table notebook</a>'\n",
              "            + ' to learn more about interactive tables.';\n",
              "          element.innerHTML = '';\n",
              "          dataTable['output_type'] = 'display_data';\n",
              "          await google.colab.output.renderOutput(dataTable, element);\n",
              "          const docLink = document.createElement('div');\n",
              "          docLink.innerHTML = docLinkHtml;\n",
              "          element.appendChild(docLink);\n",
              "        }\n",
              "      </script>\n",
              "    </div>\n",
              "  </div>\n",
              "  "
            ]
          },
          "metadata": {},
          "execution_count": 124
        }
      ],
      "source": [
        "data3"
      ]
    },
    {
      "cell_type": "markdown",
      "metadata": {
        "id": "z8fzEYMZbeEV"
      },
      "source": [
        "# ***putting 'unknown' missing values of catagorical columns ***"
      ]
    },
    {
      "cell_type": "markdown",
      "metadata": {
        "id": "N-pm2-JVRPUs"
      },
      "source": [
        "### **list of catagorical col label encoded columns and numerical data with units**"
      ]
    },
    {
      "cell_type": "code",
      "execution_count": 125,
      "metadata": {
        "id": "61mCpIoKRRt-"
      },
      "outputs": [],
      "source": [
        " catagory_col=['Make','Drivetrain',\n",
        "               'Cylinder_Configuration','Emission_Norm',\n",
        "               'Engine_Location','Fuel_Type','Fuel_System',\n",
        "               'Body_Type','Front_Brakes','Rear_Brakes','Front_Suspension',\n",
        "               'Rear_Suspension','Front_Tyre_&_Rim','Rear_Tyre_&_Rim','Power_Steering',\n",
        "               'Power_Windows','Power_Seats','Keyless_Entry','Power','Torque','Odometer',\n",
        "               'Speedometer','Tachometer','Tripmeter','Seats_Material','Type','Wheels_Size',\n",
        "               'Start_/_Stop_Button','12v_Power_Outlet','Audiosystem','Aux-in_Compatibility',\n",
        "               'Average_Fuel_Consumption','Basic_Warranty','Bluetooth','Boot-lid_Opener','CD_/_MP3_/_DVD_Player',\n",
        "               'Central_Locking','Child_Safety_Locks','Clock','Cup_Holders','Distance_to_Empty',\n",
        "               'Door_Pockets','Engine_Malfunction_Light','Extended_Warranty','FM_Radio','Fuel-lid_Opener',\n",
        "               'Fuel_Gauge','Handbrake','Instrument_Console','Low_Fuel_Warning','Multifunction_Display',\n",
        "               'Sun_Visor','Third_Row_AC_Vents','Ventilation_System','Drive_Modes',\n",
        "               'Auto-Dimming_Rear-View_Mirror','Hill_Assist','Gear_Indicator',\n",
        "               '3_Point_Seat-Belt_in_Middle_Rear_Seat','Ambient_Lightning',\n",
        "               'Cargo/Boot_Lights','Drive_Modes','Engine_Immobilizer',\n",
        "               'High_Speed_Alert_System','Lane_Watch_Camera/_Side_Mirror_Camera',\n",
        "               'Passenger_Side_Seat-Belt_Reminder','Seat_Back_Pockets','Voice_Recognition',\n",
        "               'Walk_Away_Auto_Car_Lock','ABS_(Anti-lock_Braking_System)','Headlight_Reminder','Adjustable_Headrests',\n",
        "               'Gross_Vehicle_Weight','Airbags','Door_Ajar_Warning','EBD_(Electronic_Brake-force_Distribution)',\n",
        "               'Fasten_Seat_Belt_Warning','Gear_Shift_Reminder','Adjustable_Steering_Column','Other_Specs',\n",
        "               'Parking_Assistance','Key_Off_Reminder','USB_Compatibility','Android_Auto','Apple_CarPlay',\n",
        "               'Cigarette_Lighter','Infotainment_Screen','Multifunction_Steering_Wheel','Average_Speed',\n",
        "               'EBA_(Electronic_Brake_Assist)','Seat_Height_Adjustment','Navigation_System','Second_Row_AC_Vents',\n",
        "               'Tyre_Pressure_Monitoring_System','Rear_Center_Armrest','iPod_Compatibility','ESP_(Electronic_Stability_Program)',\n",
        "               'Cooled_Glove_Box','Heated_Seats','Turbocharger','ISOFIX_(Child-Seat_Mount)','Rain_Sensing_Wipers',\n",
        "               'Paddle_Shifters','Leather_Wrapped_Steering','Automatic_Headlamps','Engine_Type','ASR_/_Traction_Control',\n",
        "               'Cruise_Control','Heads-Up_Display','Welcome_Lights'\n",
        "               ] \n"
      ]
    },
    {
      "cell_type": "code",
      "source": [
        "dimention={           \n",
        "        'mm_unit':  ['Height','Length',\n",
        "                    'Width','Ground_Clearance',\n",
        "                    'Front_Track','Rear_Track','Wheelbase'\n",
        "                    ],\n",
        "           \n",
        "        'litre_unit': ['Fuel_Tank_Capacity','Boot_Space'],\n",
        "        \n",
        "        'km_per_litre':['City_Mileage','Highway_Mileage','ARAI_Certified_Mileage'],\n",
        "\n",
        "        'kilogram':['Kerb_Weight','Gross_Vehicle_Weight'],\n",
        "\n",
        "        'dim_less':['Gears','Compression_Ratio','USB_Ports']\n",
        "}\n"
      ],
      "metadata": {
        "id": "TUNCFVD2I9Xm"
      },
      "execution_count": 126,
      "outputs": []
    },
    {
      "cell_type": "code",
      "source": [
        "\n",
        "labelE=['Tripmeter','Start_/_Stop_Button','12v_Power_Outlet',\n",
        "        'Aux-in_Compatibility','Average_Fuel_Consumption',\n",
        "        'Bluetooth','CD_/_MP3_/_DVD_Player','Central_Locking',\n",
        "        'Child_Safety_Locks','Distance_to_Empty','Engine_Malfunction_Light',\n",
        "        'FM_Radio','Low_Fuel_Warning','Multifunction_Display',\n",
        "        'Auto-Dimming_Rear-View_Mirror','Hill_Assist','Gear_Indicator',\n",
        "        '3_Point_Seat-Belt_in_Middle_Rear_Seat','Ambient_Lightning','Cargo/Boot_Lights',\n",
        "        'Engine_Immobilizer','High_Speed_Alert_System','Lane_Watch_Camera/_Side_Mirror_Camera',\n",
        "        'Passenger_Side_Seat-Belt_Reminder','Seat_Back_Pockets','Voice_Recognition',\n",
        "        'Walk_Away_Auto_Car_Lock','ABS_(Anti-lock_Braking_System)','Headlight_Reminder',\n",
        "        'Door_Ajar_Warning','EBD_(Electronic_Brake-force_Distribution)','Fasten_Seat_Belt_Warning',\n",
        "        'Gear_Shift_Reminder','Key_Off_Reminder','USB_Compatibility','Android_Auto','Apple_CarPlay',\n",
        "        'Cigarette_Lighter','Average_Speed','EBA_(Electronic_Brake_Assist)','Navigation_System','Second_Row_AC_Vents',\n",
        "        'Tyre_Pressure_Monitoring_System','iPod_Compatibility','ESP_(Electronic_Stability_Program)','Cooled_Glove_Box',\n",
        "        'Turbocharger','ISOFIX_(Child-Seat_Mount)','Rain_Sensing_Wipers','Paddle_Shifters',\n",
        "        'Leather_Wrapped_Steering','Automatic_Headlamps','ASR_/_Traction_Control','Cruise_Control',\n",
        "        'Heads-Up_Display','Welcome_Lights','Power_Seats','Keyless_Entry'\n",
        "        ]"
      ],
      "metadata": {
        "id": "vyzWvkBgI9UK"
      },
      "execution_count": 127,
      "outputs": []
    },
    {
      "cell_type": "code",
      "source": [
        "\n",
        "mean_data=['Cylinders','Valves_Per_Cylinder','Fuel_Tank_Capacity',\n",
        "'Height','Width','City_Mileage',\n",
        "'Highway_Mileage','ARAI_Certified_Mileage','ARAI_Certified_Mileage_for_CNG',\n",
        "'Kerb_Weight','Gears','Ground_Clearance',\n",
        "'Front_Track','Rear_Track','Wheelbase',\n",
        "'Boot_Space','Minimum_Turning_Radius','Gross_Vehicle_Weight',\n",
        "'Compression_Ratio','USB_Ports','Battery',\n",
        "'Electric_Range','Ex-Showroom_Price','Displacement'\n",
        "]"
      ],
      "metadata": {
        "id": "UHshJ4MwI9RU"
      },
      "execution_count": 128,
      "outputs": []
    },
    {
      "cell_type": "code",
      "source": [
        "median_data=['Cylinders','Doors',\n",
        "            'Seating_Capacity','Number_of_Airbags'\n",
        "            ]"
      ],
      "metadata": {
        "id": "68nMhCGpI8sU"
      },
      "execution_count": 129,
      "outputs": []
    },
    {
      "cell_type": "markdown",
      "metadata": {
        "id": "xqXAAuHNRSOF"
      },
      "source": [
        "filling the missing values in dataset"
      ]
    },
    {
      "cell_type": "code",
      "execution_count": 130,
      "metadata": {
        "id": "fZAWsQ3VQm3u"
      },
      "outputs": [],
      "source": [
        "for col in catagory_col:\n",
        "  data3[col]=data3[col].fillna('unknown')"
      ]
    },
    {
      "cell_type": "markdown",
      "metadata": {
        "id": "i6HOE7mNgVZk"
      },
      "source": [
        "# **conversion of numerical data from string to integer**"
      ]
    },
    {
      "cell_type": "markdown",
      "metadata": {
        "id": "SpXB39FsOUNB"
      },
      "source": [
        "removing all units to form int "
      ]
    },
    {
      "cell_type": "code",
      "execution_count": 131,
      "metadata": {
        "colab": {
          "base_uri": "https://localhost:8080/"
        },
        "id": "LeJi7jqAQn8E",
        "outputId": "33af4af0-d32b-4392-cf0b-6060856b9de8"
      },
      "outputs": [
        {
          "output_type": "stream",
          "name": "stderr",
          "text": [
            "/usr/local/lib/python3.7/dist-packages/ipykernel_launcher.py:36: FutureWarning: The default value of regex will change from True to False in a future version.\n",
            "/usr/local/lib/python3.7/dist-packages/ipykernel_launcher.py:40: FutureWarning: The default value of regex will change from True to False in a future version.\n"
          ]
        }
      ],
      "source": [
        "# for data 3 \n",
        "\n",
        "for col in dimention['mm_unit']:\n",
        "  data3[col]=data3[col].str.replace(\"mm\",\"\")\n",
        "  data3[col]=pd.to_numeric(data3[col],errors='coerce')\n",
        "\n",
        "\n",
        "for col in dimention['litre_unit']:\n",
        "  data3[col]=data3[col].str.replace(\"litres\",\"\")\n",
        "  data3[col]=pd.to_numeric(data3[col],errors='coerce')\n",
        "\n",
        "for col in dimention['km_per_litre']:\n",
        "  data3[col]=data3[col].str.replace(\"km/litre\",\"\")\n",
        "  data3[col]=pd.to_numeric(data3[col],errors='coerce')\n",
        "\n",
        "for col in dimention['kilogram']:\n",
        "  data3[col]=data3[col].str.replace(\"kg\",\"\")\n",
        "  data3[col]=pd.to_numeric(data3[col],errors='coerce')\n",
        "\n",
        "for col in dimention['dim_less']:\n",
        "  data3[col]=pd.to_numeric(data3[col],errors='coerce')\n",
        "\n",
        " #special cases\n",
        "data3['Displacement']=data3['Displacement'].str.replace(\"cc\",\"\")\n",
        "data3['Displacement']=pd.to_numeric(data3['Displacement'],errors='coerce')\n",
        "\n",
        "data3['ARAI_Certified_Mileage_for_CNG']=data3['ARAI_Certified_Mileage_for_CNG'].str.replace(\"km/kg\",\"\")\n",
        "data3['ARAI_Certified_Mileage_for_CNG']=pd.to_numeric(data3['ARAI_Certified_Mileage_for_CNG'],errors='coerce')\n",
        "\n",
        "data3['Minimum_Turning_Radius']=data3['Minimum_Turning_Radius'].str.replace(\"meter\",\"\")\n",
        "data3['Minimum_Turning_Radius']=pd.to_numeric(data3['Minimum_Turning_Radius'],errors='coerce')\n",
        "\n",
        "data3['Electric_Range']=data3['Electric_Range'].str.replace(\"km/full charge\",\"\")\n",
        "data3['Electric_Range']=pd.to_numeric(data3['Electric_Range'],errors='coerce')\n",
        "\n",
        "data3['Battery']=data3['Battery'].str.replace(\"ampere-hour\",\"\").str.replace(\"kWh,Battery Placed Under Rear Seats\",\"\").str.replace(\"(kWh), Lithium Ion\",\"\").str.replace(\" kWh* Advanced Li-ion polymer, liquid cooled battery pack with IP67 certification\",\"\").str.replace(\"\",\"\").str.replace(\"(kWh), Lithium Ion\",\"\")\n",
        "data3['Battery']=pd.to_numeric(data3['Battery'],errors='coerce')\n",
        "\n",
        "#for data 2 removing units\n",
        "data3['Ex-Showroom_Price']=data3['Ex-Showroom_Price'].str.replace(\"Rs.\",\"\").str.replace(\",\",\"\")\n",
        "data3['Ex-Showroom_Price']=pd.to_numeric(data3['Ex-Showroom_Price'],errors='coerce')"
      ]
    },
    {
      "cell_type": "markdown",
      "metadata": {
        "id": "uFXVTuxOg8aK"
      },
      "source": [
        "filling missing values with mean and median"
      ]
    },
    {
      "cell_type": "code",
      "execution_count": 132,
      "metadata": {
        "id": "sKdgTibeab2-"
      },
      "outputs": [],
      "source": [
        "# for data 3 converting to mean\n",
        "\n",
        "for col in mean_data:\n",
        "  data3[col]=data[col].fillna(data3[col].mean())\n",
        "\n",
        "for col in median_data:\n",
        "  data3[col]=data3[col].fillna(data3[col].median())"
      ]
    },
    {
      "cell_type": "markdown",
      "metadata": {
        "id": "NExh8Aahsvkx"
      },
      "source": [
        "# **DATA 2**\n"
      ]
    },
    {
      "cell_type": "markdown",
      "metadata": {
        "id": "kK7nQZHRs0u8"
      },
      "source": [
        "this data consist of the features (ex-showroom price)"
      ]
    },
    {
      "cell_type": "code",
      "execution_count": 133,
      "metadata": {
        "id": "FJf1oG4SqpUe"
      },
      "outputs": [],
      "source": [
        "data2=data3.pop('Ex-Showroom_Price')"
      ]
    },
    {
      "cell_type": "markdown",
      "metadata": {
        "id": "5iolWOr4tw-N"
      },
      "source": [
        "## **one hot encoding on data frame**"
      ]
    },
    {
      "cell_type": "code",
      "execution_count": 134,
      "metadata": {
        "id": "z-NZZI8HtwXk"
      },
      "outputs": [],
      "source": [
        "data3 = pd.get_dummies(data3, columns = ['Make','Model','Variant','Drivetrain','Cylinder_Configuration','Emission_Norm','Engine_Location','Fuel_System','Fuel_Type','Body_Type','Front_Brakes','Rear_Brakes','Front_Suspension','Rear_Suspension','Front_Tyre_&_Rim','Rear_Tyre_&_Rim','Power_Steering','Power_Windows','Power','Torque','Odometer','Speedometer','Tachometer','Seats_Material','Type','Wheels_Size','Audiosystem','Basic_Warranty','Boot-lid_Opener','Clock','Cup_Holders','Door_Pockets','Extended_Warranty','Fuel-lid_Opener','Fuel_Gauge','Handbrake','Instrument_Console','Sun_Visor','Third_Row_AC_Vents','Ventilation_System','Adjustable_Headrests','Airbags','Adjustable_Steering_Column','Other_Specs','Other_specs','Parking_Assistance','Infotainment_Screen','Multifunction_Steering_Wheel','Seat_Height_Adjustment','Rear_Center_Armrest','Recommended_Tyre_Pressure','Heated_Seats','Engine_Type','Drive_Modes']) "
      ]
    },
    {
      "cell_type": "markdown",
      "metadata": {
        "id": "2x2ixZAGzjPC"
      },
      "source": [
        "label encoding"
      ]
    },
    {
      "cell_type": "code",
      "execution_count": 135,
      "metadata": {
        "id": "xki8RIDetgcs"
      },
      "outputs": [],
      "source": [
        "from sklearn.preprocessing import LabelEncoder\n",
        "le=LabelEncoder()\n",
        "\n",
        "for col in labelE:\n",
        "  data3[col]=le.fit_transform(data3[col])"
      ]
    },
    {
      "cell_type": "code",
      "execution_count": 135,
      "metadata": {
        "id": "BzM8VjhK9-IL"
      },
      "outputs": [],
      "source": [
        ""
      ]
    },
    {
      "cell_type": "markdown",
      "metadata": {
        "id": "hLJPrsMGvYze"
      },
      "source": [
        "importing ML models"
      ]
    },
    {
      "cell_type": "code",
      "execution_count": 136,
      "metadata": {
        "id": "LcRBCWyxvXyj"
      },
      "outputs": [],
      "source": [
        "from sklearn.linear_model import LinearRegression\n",
        "from sklearn.svm import SVR\n",
        "\n",
        "from sklearn.ensemble import RandomForestRegressor"
      ]
    },
    {
      "cell_type": "code",
      "execution_count": 137,
      "metadata": {
        "id": "3ZR8UyyWE0vO"
      },
      "outputs": [],
      "source": [
        "x=np.array(data3)\n",
        "y=np.array(data2)"
      ]
    },
    {
      "cell_type": "markdown",
      "metadata": {
        "id": "HDgdcHVuliRJ"
      },
      "source": [
        "# **splitting into training and test set**"
      ]
    },
    {
      "cell_type": "code",
      "execution_count": 138,
      "metadata": {
        "id": "oqdn5TtrGJh7"
      },
      "outputs": [],
      "source": [
        "from sklearn.model_selection import train_test_split\n",
        "x_train, x_test, y_train, y_test = train_test_split(x,y,test_size=0.3,random_state=0)\n",
        "\n",
        "# calculate r^2\n",
        "from sklearn.metrics import r2_score"
      ]
    },
    {
      "cell_type": "markdown",
      "metadata": {
        "id": "3GuYmrzYmHQl"
      },
      "source": [
        "# **fitting all models with the data**"
      ]
    },
    {
      "cell_type": "markdown",
      "metadata": {
        "id": "Oy9IYiZ5nfmJ"
      },
      "source": [
        "LINEAR REGRESSION MODEL"
      ]
    },
    {
      "cell_type": "code",
      "execution_count": 139,
      "metadata": {
        "colab": {
          "base_uri": "https://localhost:8080/"
        },
        "id": "Lxfap7_b1DYz",
        "outputId": "cd371731-0e05-4daf-a354-3773f7ba7145"
      },
      "outputs": [
        {
          "output_type": "execute_result",
          "data": {
            "text/plain": [
              "LinearRegression()"
            ]
          },
          "metadata": {},
          "execution_count": 139
        }
      ],
      "source": [
        "\n",
        "lr=LinearRegression()\n",
        "\n",
        "lr.fit(x_train,y_train)"
      ]
    },
    {
      "cell_type": "markdown",
      "metadata": {
        "id": "HWJIEVxEnsWc"
      },
      "source": [
        "DECISON TREE"
      ]
    },
    {
      "cell_type": "code",
      "execution_count": 140,
      "metadata": {
        "id": "BsV7WFaLn7Ol",
        "colab": {
          "base_uri": "https://localhost:8080/"
        },
        "outputId": "ef6e7c19-d3b7-4951-f53d-7364fdb73e2b"
      },
      "outputs": [
        {
          "output_type": "execute_result",
          "data": {
            "text/plain": [
              "DecisionTreeRegressor()"
            ]
          },
          "metadata": {},
          "execution_count": 140
        }
      ],
      "source": [
        "from sklearn.tree import DecisionTreeRegressor\n",
        "dt=DecisionTreeRegressor()\n",
        "dt.fit(x_train,y_train)\n"
      ]
    },
    {
      "cell_type": "markdown",
      "metadata": {
        "id": "XMcMLE7lnwIL"
      },
      "source": [
        "RANDOM FOREST REGRESSION"
      ]
    },
    {
      "cell_type": "code",
      "execution_count": 141,
      "metadata": {
        "id": "NXBknaZhn7xb",
        "colab": {
          "base_uri": "https://localhost:8080/"
        },
        "outputId": "9bd8c90d-f5d6-403b-96de-78b23e9102f6"
      },
      "outputs": [
        {
          "output_type": "execute_result",
          "data": {
            "text/plain": [
              "RandomForestRegressor(n_estimators=15, random_state=0)"
            ]
          },
          "metadata": {},
          "execution_count": 141
        }
      ],
      "source": [
        "rfr=RandomForestRegressor(n_estimators= 15, random_state=0)\n",
        "rfr.fit(x_train,y_train)\n"
      ]
    },
    {
      "cell_type": "markdown",
      "metadata": {
        "id": "78OgDFmnq1K9"
      },
      "source": [
        "# **visualisation of results bu ML models**"
      ]
    },
    {
      "cell_type": "markdown",
      "metadata": {
        "id": "e4l87yJ2q11_"
      },
      "source": [
        "for linear regression model\n"
      ]
    },
    {
      "cell_type": "code",
      "execution_count": 142,
      "metadata": {
        "id": "iF1xvZQarSHh",
        "colab": {
          "base_uri": "https://localhost:8080/"
        },
        "outputId": "949a2943-7434-41e5-edd9-9ab4ccef63c1"
      },
      "outputs": [
        {
          "output_type": "stream",
          "name": "stdout",
          "text": [
            "[ 1.05597620e+06  6.48730663e+05  1.04212814e+07  7.70418105e+05\n",
            "  1.51873815e+06  7.30480181e+05  4.13264044e+07  1.86448860e+06\n",
            "  8.39527484e+05  1.23184447e+06  1.86786715e+06  2.87071439e+06\n",
            "  3.35137700e+06  1.45174516e+06  9.79276711e+05  2.48805432e+05\n",
            "  3.48624649e+06 -4.23881079e+05  7.28937855e+06  1.13132860e+06\n",
            "  2.64893317e+06  1.87710632e+06  2.33292006e+07 -1.93824338e+06\n",
            " -2.83447432e+06  7.19875589e+05  4.00436908e+06  5.85965940e+04\n",
            "  2.32337325e+06  9.75808290e+05  1.10321285e+07  1.46450106e+06\n",
            "  4.58714609e+05  2.38570194e+05  1.41258400e+07  1.41831300e+06\n",
            "  4.84930795e+07  1.32899569e+06  1.10133639e+05  1.47521063e+06\n",
            "  3.08777478e+06  1.20047939e+06  3.02704763e+05  4.88708447e+05\n",
            "  3.26190984e+06  5.24865101e+05  5.66856176e+05  2.41799291e+06\n",
            "  7.36094022e+05  9.51353905e+05  6.34649425e+05  2.23290411e+06\n",
            "  3.12467185e+06 -1.18139981e+06  5.54056470e+04  2.02703208e+06\n",
            "  2.21248597e+07  8.28761197e+05 -1.32327540e+05 -3.01957345e+05\n",
            "  2.67606977e+06  7.46096240e+06  2.63143228e+06  3.23890688e+05\n",
            " -7.04115261e+05 -2.04849147e+06  1.70507295e+06  3.99508292e+07\n",
            "  8.09009252e+05  1.28455364e+06  1.24158151e+06 -1.27331381e+06\n",
            "  4.69103663e+05  1.59818445e+06  2.39241269e+06  1.41753866e+06\n",
            "  9.32547947e+06  4.05799645e+05  4.27265764e+05  4.74709053e+05\n",
            "  2.12762370e+06  1.40118655e+06  1.36759656e+05  8.71752647e+05\n",
            "  1.70506541e+06  1.71251644e+06  7.26390337e+05  9.22361692e+06\n",
            " -2.79063924e+05  9.76358109e+06  1.34077785e+06  3.07962485e+05\n",
            "  1.12612244e+06  1.47217642e+06  1.21041002e+06  7.84838794e+06\n",
            " -1.24524012e+06 -2.99722309e+06  1.36188015e+06 -7.01676183e+05\n",
            "  4.66517181e+05  4.12779057e+06  4.35000000e+05  3.96428965e+06\n",
            "  3.43662127e+05 -6.08485843e+05  1.08281480e+07 -8.17230191e+06\n",
            "  2.25630716e+06 -7.31248625e+05  1.09493936e+06  7.05080859e+05\n",
            "  5.20817094e+05 -2.07829635e+05  2.25892753e+06  2.85605325e+06\n",
            "  1.31791073e+06  2.42377611e+06  8.43515014e+05  6.22061219e+05\n",
            "  2.14087974e+06  7.60196465e+06  1.16842190e+06  2.58531067e+06\n",
            "  5.20046741e+07  1.29630772e+05  2.69655321e+06  1.12596648e+06\n",
            " -7.85910236e+05  8.94307193e+05  3.84984610e+07  6.94622021e+05\n",
            "  1.05540216e+06  1.89634618e+06  1.89275048e+07  3.56338438e+05\n",
            "  2.44339647e+06  7.60553472e+05 -1.16330554e+05  5.30788430e+05\n",
            "  1.52557743e+07  4.18895554e+05  5.74737256e+05  3.22892360e+07\n",
            "  6.42889208e+06 -4.65826821e+05  2.46515573e+06  1.65023281e+07\n",
            " -5.85497239e+05  4.41585932e+04  1.71033777e+05  1.11614175e+06\n",
            "  2.73814710e+06  5.54998751e+06  1.10542511e+07  1.69112937e+06\n",
            " -1.07075370e+06  1.74981970e+07  1.81827873e+06  3.67922984e+05\n",
            "  6.32742086e+05  3.58611500e+05 -3.82203438e+05  9.76922168e+05\n",
            "  5.85305061e+07  6.19805990e+07  7.26316850e+05 -7.32102183e+05\n",
            "  8.33213419e+05  4.59777542e+05  2.67497055e+07  9.15861905e+06\n",
            "  1.18369524e+05  6.22580599e+05  2.34329733e+06  5.82077763e+06\n",
            "  1.93069304e+06  1.49194290e+06  1.41260641e+07  3.71965175e+06\n",
            "  3.07370811e+05  1.29955342e+06  2.74826277e+07  1.57122854e+05\n",
            "  1.67330199e+06  9.39672042e+06  1.02529365e+06  6.54210829e+05\n",
            "  6.94622021e+05  1.55677437e+06 -5.32853802e+04  2.59799826e+06\n",
            "  3.03796667e+07  3.56396792e+05  9.00721577e+06  8.62833273e+05\n",
            "  1.33762070e+06  7.47535417e+06  5.75278716e+06  1.01726353e+07\n",
            "  2.40000484e+06 -1.11075461e+06  6.46690669e+05  2.75614552e+06\n",
            "  2.52396911e+05  1.55496392e+05  1.07698737e+06  2.07525584e+06\n",
            "  1.74949018e+06  1.09824095e+06 -8.74800206e+05  7.36058230e+06\n",
            "  1.76950863e+06  1.85909352e+06  9.05233089e+05  4.47802407e+06\n",
            "  4.89438468e+05  7.84503409e+06  9.68838418e+05  7.69829565e+03\n",
            "  9.75558260e+05  1.59114256e+06  1.17928877e+07 -3.28097218e+05\n",
            "  2.83985227e+07  2.57778147e+05  6.03999771e+06 -1.42131574e+05\n",
            "  7.93085587e+05 -2.37841827e+06  3.42677050e+06  2.51309249e+06\n",
            "  9.31300618e+05  6.46655520e+05  1.58894300e+06  5.57194157e+05\n",
            "  6.85821305e+06  7.30480181e+05  1.72587015e+07 -5.45902901e+04\n",
            "  3.78463172e+05 -8.21948899e+04  1.12667472e+06  2.68060261e+05\n",
            " -7.53244841e+04  6.61912729e+05  8.23330220e+05  2.07114355e+06\n",
            " -4.92137763e+05  8.39643654e+06  7.40702584e+07  1.87827116e+06\n",
            "  3.63268809e+05  1.32545176e+06  1.59463079e+06  1.08973743e+06\n",
            " -8.03732113e+05  1.30042727e+06  2.73965197e+05  1.10203136e+06\n",
            "  1.36806168e+05  5.60907853e+05  5.94104373e+06 -1.28530098e+06\n",
            "  2.83370529e+06  5.47090491e+05  1.51373085e+06  1.72834560e+06\n",
            "  6.15537422e+05  6.05342805e+06  4.39741880e+05  1.44783744e+06\n",
            "  1.03495963e+06  1.62382876e+06  4.75075333e+05  7.14047585e+07\n",
            "  4.88678172e+05 -2.66358565e+05  5.72203856e+05  4.00232510e+07\n",
            "  7.45944939e+06 -4.32826711e+05  1.45669517e+06 -1.92245984e+05\n",
            "  4.59334040e+05  1.49124501e+06  1.13226944e+06  3.75717978e+05\n",
            "  4.05971064e+06 -2.21001471e+05  1.40690457e+06  1.15372320e+06\n",
            "  1.30968291e+06  1.19544759e+06  1.00828868e+06 -5.08141911e+05\n",
            " -3.35178108e+05  2.53758358e+07  1.89193847e+06  7.85775857e+05\n",
            "  1.29951379e+06  1.38161823e+06  8.55249074e+05  1.31500501e+07\n",
            " -3.17669280e+05  1.99471734e+05  2.14997188e+06  8.63631494e+06\n",
            "  6.85230106e+05  2.06342081e+06 -4.08474854e+06  7.00716016e+06\n",
            "  2.56345775e+06  1.02594775e+06  2.48583859e+07  4.14435849e+06\n",
            "  1.47862234e+06  4.16969433e+06  6.94622021e+05  7.46280797e+06\n",
            "  1.83758600e+06  2.62844196e+07  1.94271811e+06  2.27034955e+06\n",
            "  7.10502864e+06  5.49656279e+05  2.71899455e+06  1.14653276e+06\n",
            " -1.58741634e+06  1.17494402e+06  1.87827544e+06 -1.32361059e+06\n",
            "  2.39512598e+06  1.33145176e+06  3.62092580e+05  3.81735973e+05\n",
            "  4.48684022e+07  3.63518804e+07  9.43634576e+05  1.23946453e+06\n",
            "  8.73846460e+05  7.37643550e+05  8.46906850e+05 -6.63078378e+06\n",
            "  2.28368246e+06  1.13001482e+06 -7.26448917e+06  1.19872386e+06\n",
            "  6.05441311e+05  4.92558570e+04 -4.93839678e+05  2.75409833e+06\n",
            " -2.19175848e+05  3.99508292e+07  5.60781762e+05  2.05852807e+05\n",
            "  2.31077382e+06  3.83371278e+07  1.04217843e+07  2.62912781e+07\n",
            " -7.61913559e+05  1.26018645e+02  5.33964414e+06  1.04033045e+06\n",
            "  2.99598598e+06  3.43021222e+06  9.03329584e+05  2.44642462e+05\n",
            "  1.20900700e+07  4.00845708e+06  2.18291752e+05  2.63756937e+07\n",
            "  3.18575677e+06 -1.01004163e+05  2.04534955e+07  1.48646702e+08\n",
            "  3.18439535e+07  2.17805674e+06  1.33133582e+06  2.74775033e+06\n",
            "  2.34859991e+06  6.77203270e+06  1.74131900e+06]\n"
          ]
        }
      ],
      "source": [
        "print(lr.predict(x_test))"
      ]
    },
    {
      "cell_type": "code",
      "source": [
        "print(y_test)"
      ],
      "metadata": {
        "id": "y1I-bqwzi25V",
        "colab": {
          "base_uri": "https://localhost:8080/"
        },
        "outputId": "708bbb77-b0d9-48d0-eab1-e97ae9232d0b"
      },
      "execution_count": 143,
      "outputs": [
        {
          "output_type": "stream",
          "name": "stdout",
          "text": [
            "[  1610000    999900   8690000    699400    697400    520000  32200000\n",
            "   1944900    405570    599000    862175   1728000   1336033    823700\n",
            "    808558    314815   3019000    570990   3470000   1629000   2779599\n",
            "    773678  29500000   1328000    480670    360843   3990000    513501\n",
            "    664900   1394437   8670586    983000    904000    863122  11476911\n",
            "   1418313  24250000    463290    796132    737400   1095000   3564000\n",
            "    914328    352900   2599599    812964    732475    989219    816000\n",
            "    876000   1900000   1210500   3099599    781000    620637    674960\n",
            "  21875136   1059742    788797   1069689   2199000   8470000   1138189\n",
            "    821613   1634000   1354000   2167000  35535000    236447    942867\n",
            "    689600    860997    573250   1111000    942263   1317000   1348000\n",
            "    734700    469990    794800    773800    739000    732113    519000\n",
            "   2070000   2187384    999900   7693664    988500   9665000    940500\n",
            "    854900    383290   1279983   1465000   4240000    684000    769000\n",
            "    504990   1388000   1449500   1092192    434000   3191000    668611\n",
            "    622730  13558438   1267208   2953240    794000   1796458    770803\n",
            "    944175    294800   3149599   3198662    804450   1287041    829912\n",
            "    707025    958689  10861088   1270000   2785288  47467700    673000\n",
            "   3120750    865000    870000    704000  37614126   1010000    725000\n",
            "    630320   7890000    808050    966000   1299599    412292    548000\n",
            "  16500000    567500    333419  43367500   8503000    733734   2599000\n",
            "   3070150    999990    759000    999990    599900   2359599   5861062\n",
            "  10373732    283000   1529000   7711338    816500   1048603    932025\n",
            "    758212    615000    757000  59216193  46709733    354235   1031943\n",
            "    869131    855362  10490000   7330000    823000    460369    950131\n",
            "   5021200    646336   1549000   7515000   4390000    650000    933182\n",
            "  28004965    788177   1232534   8077550    666000   1214130   1030000\n",
            "   1190000    532184   2697417  19199181    438559  11000000   1379000\n",
            "    675090  10205494   5985000  13510000   2358000   2234900    974000\n",
            "   2124900    610000   1423710    814742    762400   1273599    991434\n",
            "    836320   7711500   1464900    530990    882298   3930000    781686\n",
            "  11129599    864000    851302    975599    900967   3788000    826000\n",
            "  30000000   1335158   6422809    422444   1949000   2814500   1699000\n",
            "   2299599    586428   1360668   1588943    913400   1793900    610000\n",
            "  19371000    639993    466057    702946    958500    859497   1143689\n",
            "   7370000    919689   1699000   1184129   8021500  75400000   1172999\n",
            "   1316690    479000   1588000    842400    535562   1142157    713898\n",
            "    987743    390000    890212   3830000    794300    775000    518198\n",
            "    699000   1301881    482330   5506622    997763   1162875    940000\n",
            "    782346   1330006  95000000    695000   1912593    693550   7462000\n",
            "   7882867    531279    892243   1055259    950000    413290    860720\n",
            "    528804   3850500   1060129    642610    737400    782400    563133\n",
            "    838000    649000    868221  19600000   1048050    974000    975868\n",
            "   1730755   1592000  12500000    568623    749192   1251000   6998000\n",
            "    705538   1803000   6394000   8690000   2990000    536859  18185267\n",
            "   3221200   1399599   3677200   1100000   3990000   1837586   6440000\n",
            "    697803   1599000   6531000    433290   2599599   1230924    742033\n",
            "   1052900   1178894    747774   1527395    486001    746621    558400\n",
            "  50025840  37133704   1115599    627100    619243    598500   1083000\n",
            "   1303241    780000   1299999   1293214    526000    711500    912534\n",
            "    506000   3600000    495000  32452486    550155   1120689   1543564\n",
            "  37300000  13590000  10250000    581000    653926   6150000    623000\n",
            "   1123158   2214000    620297    689761   7243000   3299599   1199999\n",
            "  22155390    296661    579645  21747000 212155397  15000000    999900\n",
            "    515257   2133000   1187900   5964321   1741319]\n"
          ]
        }
      ]
    },
    {
      "cell_type": "code",
      "source": [
        "r2_score(y_test,lr.predict(x_test))"
      ],
      "metadata": {
        "colab": {
          "base_uri": "https://localhost:8080/"
        },
        "id": "dR7eWgpv4EPV",
        "outputId": "80777cab-8759-4244-fef5-49fc4d4df9b5"
      },
      "execution_count": 144,
      "outputs": [
        {
          "output_type": "execute_result",
          "data": {
            "text/plain": [
              "0.8799012235104116"
            ]
          },
          "metadata": {},
          "execution_count": 144
        }
      ]
    },
    {
      "cell_type": "markdown",
      "metadata": {
        "id": "ihcucshOrTaU"
      },
      "source": [
        "support vector regression model"
      ]
    },
    {
      "cell_type": "code",
      "execution_count": 145,
      "metadata": {
        "id": "Svma0gr0rUXm",
        "colab": {
          "base_uri": "https://localhost:8080/"
        },
        "outputId": "b62ab4ca-d09d-46a4-fac7-38701f5d9f4b"
      },
      "outputs": [
        {
          "output_type": "execute_result",
          "data": {
            "text/plain": [
              "SVR()"
            ]
          },
          "metadata": {},
          "execution_count": 145
        }
      ],
      "source": [
        "sr=SVR(kernel='rbf')\n",
        "sr.fit(x_train,y_train)\n"
      ]
    },
    {
      "cell_type": "code",
      "source": [
        "sr.predict(x_test)\n"
      ],
      "metadata": {
        "id": "eWKGezfKtTEp",
        "colab": {
          "base_uri": "https://localhost:8080/"
        },
        "outputId": "763b66f7-e81e-45c3-b5ab-8617791aa408"
      },
      "execution_count": 146,
      "outputs": [
        {
          "output_type": "execute_result",
          "data": {
            "text/plain": [
              "array([1089037.00544867, 1089011.13767276, 1089057.23159031,\n",
              "       1089000.01256827, 1088994.81568348, 1088986.82187039,\n",
              "       1089069.87794784, 1089016.25469747, 1088972.76701684,\n",
              "       1088987.89323867, 1089001.23638213, 1089022.64555079,\n",
              "       1089010.3699935 , 1088994.24381158, 1089005.23028341,\n",
              "       1088970.35147557, 1089046.39437821, 1088987.58260018,\n",
              "       1089054.46799981, 1089006.21005134, 1089023.1045116 ,\n",
              "       1089029.38072335, 1089056.70265553, 1089013.68322705,\n",
              "       1088979.44664802, 1088975.06677783, 1089015.47474218,\n",
              "       1088987.59017592, 1088994.72132964, 1089007.65649585,\n",
              "       1089039.37318561, 1088999.99227579, 1089001.27716903,\n",
              "       1088988.8138901 , 1089057.95956433, 1089030.79342729,\n",
              "       1089088.34408155, 1088981.66671145, 1088994.55104663,\n",
              "       1088994.85189164, 1089010.98393199, 1089025.40947376,\n",
              "       1089009.17558424, 1088972.75396855, 1089022.1737409 ,\n",
              "       1088994.92927035, 1088991.19440205, 1088999.94567379,\n",
              "       1088993.33878875, 1089006.07182645, 1089007.6713232 ,\n",
              "       1089004.37876289, 1089023.10694191, 1088987.14540073,\n",
              "       1088988.85880975, 1088984.88036527, 1089070.84650504,\n",
              "       1088994.3193596 , 1088992.29670794, 1089007.15005671,\n",
              "       1089018.85887311, 1089029.16943751, 1089006.84784611,\n",
              "       1088986.80948122, 1089008.6356277 , 1089008.62483882,\n",
              "       1089007.64592128, 1089069.46171601, 1088970.44537991,\n",
              "       1089006.05955048, 1088996.93987963, 1089009.10426986,\n",
              "       1088992.03904494, 1089006.62998053, 1089029.35636291,\n",
              "       1089006.25249603, 1089022.63024884, 1088997.70604593,\n",
              "       1088986.95580831, 1088992.03278217, 1088994.23928416,\n",
              "       1088993.53116674, 1088986.68961834, 1088985.819017  ,\n",
              "       1089007.67666386, 1089020.22693729, 1089006.50483204,\n",
              "       1089047.30325004, 1088995.03537899, 1089039.72190753,\n",
              "       1088997.76969346, 1088991.15936507, 1088978.64804625,\n",
              "       1089007.61165263, 1089010.36294621, 1089017.96077888,\n",
              "       1088996.13866013, 1088996.14845126, 1088993.00753229,\n",
              "       1089013.68840971, 1088997.24421163, 1089010.55044772,\n",
              "       1088993.29436787, 1089019.46493629, 1088995.87764772,\n",
              "       1088991.40285351, 1089055.18295545, 1088982.77287808,\n",
              "       1089043.63511743, 1088987.16457489, 1089033.8072671 ,\n",
              "       1088994.29360877, 1089008.06080324, 1088972.57984477,\n",
              "       1089024.08284089, 1089008.76937658, 1088996.58164232,\n",
              "       1089007.66695103, 1088994.7700439 , 1089009.73432085,\n",
              "       1089004.94764046, 1089047.27112852, 1089001.97582094,\n",
              "       1089010.70791658, 1089083.01966184, 1088987.08568191,\n",
              "       1089004.39992124, 1088992.90048594, 1088996.73954484,\n",
              "       1088988.62483585, 1089069.69547254, 1088996.769244  ,\n",
              "       1088985.93250911, 1088990.68455545, 1089034.83724228,\n",
              "       1088996.57962507, 1088992.89032013, 1089004.9861503 ,\n",
              "       1088997.68814044, 1088996.65063223, 1089051.55483192,\n",
              "       1088996.56475588, 1088980.61322408, 1089056.25495278,\n",
              "       1089051.09943534, 1088998.85433093, 1089025.17947823,\n",
              "       1089024.1766621 , 1089005.65252379, 1089005.68035696,\n",
              "       1089004.76176859, 1088994.74351108, 1089023.37937802,\n",
              "       1089028.14915274, 1089057.97336828, 1088966.43340583,\n",
              "       1089006.19934968, 1089039.93577374, 1088997.62779952,\n",
              "       1089009.10984467, 1089001.40021941, 1088994.46832619,\n",
              "       1088996.13363286, 1088988.12313412, 1089095.2514647 ,\n",
              "       1089094.22289665, 1088975.66465957, 1089009.20527669,\n",
              "       1089002.67079385, 1088992.40459185, 1089048.34015684,\n",
              "       1089041.15362892, 1088987.28138024, 1088984.03435144,\n",
              "       1089002.67604577, 1089029.0244027 , 1089007.03823006,\n",
              "       1089011.45019743, 1089065.38081569, 1089015.47967254,\n",
              "       1088992.62260389, 1089006.0344589 , 1089072.66962782,\n",
              "       1089023.43044761, 1089007.65078653, 1089047.29476194,\n",
              "       1088985.88689733, 1089002.68616294, 1088996.77417947,\n",
              "       1089001.94588835, 1088991.98686343, 1089020.1606269 ,\n",
              "       1089086.88523141, 1088975.17991658, 1089029.2581679 ,\n",
              "       1089006.19383824, 1088996.53283285, 1089047.24615981,\n",
              "       1089026.96923577, 1089050.06385867, 1089013.8996761 ,\n",
              "       1089013.31687001, 1088993.26580634, 1089016.47512098,\n",
              "       1088992.61720207, 1089025.87283119, 1088994.28440358,\n",
              "       1088994.86097582, 1089007.65042225, 1089001.51411529,\n",
              "       1088992.4096221 , 1089042.45793103, 1089007.72338532,\n",
              "       1088987.59932279, 1088992.171855  , 1089019.59748512,\n",
              "       1088997.01424008, 1089055.96946716, 1088987.17419572,\n",
              "       1089004.74719936, 1089008.00662472, 1089022.84771222,\n",
              "       1089039.19450238, 1088993.25112136, 1089067.00272783,\n",
              "       1089036.4442475 , 1089033.57734751, 1088977.30676386,\n",
              "       1089021.78783683, 1089021.63214436, 1089022.77752239,\n",
              "       1089023.36937601, 1088986.66913932, 1089025.85785225,\n",
              "       1089030.77834915, 1088999.60005035, 1089016.18930005,\n",
              "       1088986.83428876, 1089069.33285303, 1088993.75746985,\n",
              "       1088983.7344398 , 1088992.22832949, 1089004.21663907,\n",
              "       1089029.92631165, 1089000.9911007 , 1089034.74799484,\n",
              "       1089002.50677019, 1089017.97031565, 1088997.51100778,\n",
              "       1089059.14020647, 1089098.61574405, 1089009.45712609,\n",
              "       1089011.14791378, 1088993.27741443, 1089022.64058367,\n",
              "       1089000.05439576, 1088997.12581125, 1089024.37207244,\n",
              "       1088986.41230844, 1088994.29446972, 1088983.64703027,\n",
              "       1088994.82653889, 1089007.89858572, 1088987.19338328,\n",
              "       1089001.26712459, 1088977.24283721, 1089001.26239764,\n",
              "       1089009.29294676, 1088995.85491515, 1089031.2148698 ,\n",
              "       1089006.13481617, 1089009.48737264, 1089006.022786  ,\n",
              "       1088993.94357899, 1089025.85290109, 1089098.21008448,\n",
              "       1088996.72960671, 1089033.80420963, 1088992.01919142,\n",
              "       1089068.62829672, 1089055.68891399, 1088979.13185934,\n",
              "       1088994.28946275, 1089009.21572808, 1088996.74454224,\n",
              "       1088978.6544738 , 1089027.49031467, 1088988.84884081,\n",
              "       1089025.04728235, 1088997.50600816, 1088993.0187849 ,\n",
              "       1089000.01725551, 1088994.84764082, 1088991.87048355,\n",
              "       1088988.2104644 , 1088986.841108  , 1088996.04769035,\n",
              "       1089055.44778606, 1089002.65642313, 1089006.11857566,\n",
              "       1089008.0557949 , 1089022.05873021, 1089036.55651877,\n",
              "       1089057.53719255, 1088993.51808624, 1089004.75709371,\n",
              "       1089010.34659837, 1089033.32002051, 1088988.86984875,\n",
              "       1089018.04686958, 1089025.73547404, 1089060.85581644,\n",
              "       1089000.04984469, 1088989.14094026, 1089049.35390587,\n",
              "       1089014.62529855, 1089007.61279654, 1089018.29634331,\n",
              "       1088996.77911611, 1089015.54848342, 1089030.79330241,\n",
              "       1089066.4371028 , 1088994.28470877, 1089010.97299299,\n",
              "       1089040.44395643, 1088981.65883043, 1089023.12447804,\n",
              "       1089030.86139465, 1088992.68401405, 1089006.74565932,\n",
              "       1089009.48232724, 1088998.40471803, 1089010.35937002,\n",
              "       1088993.32290392, 1088995.95032797, 1088985.90668923,\n",
              "       1089092.72992848, 1089069.68523303, 1089007.99587469,\n",
              "       1088996.91103243, 1088991.99568595, 1088994.81108166,\n",
              "       1089006.12954602, 1088982.77786454, 1088999.95257826,\n",
              "       1089008.40538493, 1088982.76797402, 1088993.2831012 ,\n",
              "       1088993.89850063, 1089009.09390402, 1088987.73182426,\n",
              "       1088999.9015803 , 1088988.74053178, 1089069.45147301,\n",
              "       1088992.06691837, 1089007.64013767, 1089010.35432583,\n",
              "       1089069.70569458, 1089043.88571368, 1089048.25946679,\n",
              "       1088985.86905555, 1088991.18469076, 1089028.17368269,\n",
              "       1089000.11956801, 1089045.07694669, 1089018.90443886,\n",
              "       1088989.15809245, 1089022.82786215, 1089043.78929179,\n",
              "       1089024.15246774, 1089009.06083648, 1089067.07845092,\n",
              "       1088970.35101985, 1088992.00582181, 1089063.67562574,\n",
              "       1089082.23545674, 1089082.25456631, 1088995.9270978 ,\n",
              "       1088978.59609322, 1089018.17867813, 1089007.39541771,\n",
              "       1089045.87186927, 1089030.84232759])"
            ]
          },
          "metadata": {},
          "execution_count": 146
        }
      ]
    },
    {
      "cell_type": "code",
      "source": [
        "y_test"
      ],
      "metadata": {
        "id": "8f3-UDadtcAO",
        "colab": {
          "base_uri": "https://localhost:8080/"
        },
        "outputId": "49160616-1bd4-41c2-8f27-9e2e95f15439"
      },
      "execution_count": 147,
      "outputs": [
        {
          "output_type": "execute_result",
          "data": {
            "text/plain": [
              "array([  1610000,    999900,   8690000,    699400,    697400,    520000,\n",
              "        32200000,   1944900,    405570,    599000,    862175,   1728000,\n",
              "         1336033,    823700,    808558,    314815,   3019000,    570990,\n",
              "         3470000,   1629000,   2779599,    773678,  29500000,   1328000,\n",
              "          480670,    360843,   3990000,    513501,    664900,   1394437,\n",
              "         8670586,    983000,    904000,    863122,  11476911,   1418313,\n",
              "        24250000,    463290,    796132,    737400,   1095000,   3564000,\n",
              "          914328,    352900,   2599599,    812964,    732475,    989219,\n",
              "          816000,    876000,   1900000,   1210500,   3099599,    781000,\n",
              "          620637,    674960,  21875136,   1059742,    788797,   1069689,\n",
              "         2199000,   8470000,   1138189,    821613,   1634000,   1354000,\n",
              "         2167000,  35535000,    236447,    942867,    689600,    860997,\n",
              "          573250,   1111000,    942263,   1317000,   1348000,    734700,\n",
              "          469990,    794800,    773800,    739000,    732113,    519000,\n",
              "         2070000,   2187384,    999900,   7693664,    988500,   9665000,\n",
              "          940500,    854900,    383290,   1279983,   1465000,   4240000,\n",
              "          684000,    769000,    504990,   1388000,   1449500,   1092192,\n",
              "          434000,   3191000,    668611,    622730,  13558438,   1267208,\n",
              "         2953240,    794000,   1796458,    770803,    944175,    294800,\n",
              "         3149599,   3198662,    804450,   1287041,    829912,    707025,\n",
              "          958689,  10861088,   1270000,   2785288,  47467700,    673000,\n",
              "         3120750,    865000,    870000,    704000,  37614126,   1010000,\n",
              "          725000,    630320,   7890000,    808050,    966000,   1299599,\n",
              "          412292,    548000,  16500000,    567500,    333419,  43367500,\n",
              "         8503000,    733734,   2599000,   3070150,    999990,    759000,\n",
              "          999990,    599900,   2359599,   5861062,  10373732,    283000,\n",
              "         1529000,   7711338,    816500,   1048603,    932025,    758212,\n",
              "          615000,    757000,  59216193,  46709733,    354235,   1031943,\n",
              "          869131,    855362,  10490000,   7330000,    823000,    460369,\n",
              "          950131,   5021200,    646336,   1549000,   7515000,   4390000,\n",
              "          650000,    933182,  28004965,    788177,   1232534,   8077550,\n",
              "          666000,   1214130,   1030000,   1190000,    532184,   2697417,\n",
              "        19199181,    438559,  11000000,   1379000,    675090,  10205494,\n",
              "         5985000,  13510000,   2358000,   2234900,    974000,   2124900,\n",
              "          610000,   1423710,    814742,    762400,   1273599,    991434,\n",
              "          836320,   7711500,   1464900,    530990,    882298,   3930000,\n",
              "          781686,  11129599,    864000,    851302,    975599,    900967,\n",
              "         3788000,    826000,  30000000,   1335158,   6422809,    422444,\n",
              "         1949000,   2814500,   1699000,   2299599,    586428,   1360668,\n",
              "         1588943,    913400,   1793900,    610000,  19371000,    639993,\n",
              "          466057,    702946,    958500,    859497,   1143689,   7370000,\n",
              "          919689,   1699000,   1184129,   8021500,  75400000,   1172999,\n",
              "         1316690,    479000,   1588000,    842400,    535562,   1142157,\n",
              "          713898,    987743,    390000,    890212,   3830000,    794300,\n",
              "          775000,    518198,    699000,   1301881,    482330,   5506622,\n",
              "          997763,   1162875,    940000,    782346,   1330006,  95000000,\n",
              "          695000,   1912593,    693550,   7462000,   7882867,    531279,\n",
              "          892243,   1055259,    950000,    413290,    860720,    528804,\n",
              "         3850500,   1060129,    642610,    737400,    782400,    563133,\n",
              "          838000,    649000,    868221,  19600000,   1048050,    974000,\n",
              "          975868,   1730755,   1592000,  12500000,    568623,    749192,\n",
              "         1251000,   6998000,    705538,   1803000,   6394000,   8690000,\n",
              "         2990000,    536859,  18185267,   3221200,   1399599,   3677200,\n",
              "         1100000,   3990000,   1837586,   6440000,    697803,   1599000,\n",
              "         6531000,    433290,   2599599,   1230924,    742033,   1052900,\n",
              "         1178894,    747774,   1527395,    486001,    746621,    558400,\n",
              "        50025840,  37133704,   1115599,    627100,    619243,    598500,\n",
              "         1083000,   1303241,    780000,   1299999,   1293214,    526000,\n",
              "          711500,    912534,    506000,   3600000,    495000,  32452486,\n",
              "          550155,   1120689,   1543564,  37300000,  13590000,  10250000,\n",
              "          581000,    653926,   6150000,    623000,   1123158,   2214000,\n",
              "          620297,    689761,   7243000,   3299599,   1199999,  22155390,\n",
              "          296661,    579645,  21747000, 212155397,  15000000,    999900,\n",
              "          515257,   2133000,   1187900,   5964321,   1741319])"
            ]
          },
          "metadata": {},
          "execution_count": 147
        }
      ]
    },
    {
      "cell_type": "code",
      "source": [
        "r2_score(y_test,sr.predict(x_test))"
      ],
      "metadata": {
        "colab": {
          "base_uri": "https://localhost:8080/"
        },
        "id": "BsG_SvH93kYs",
        "outputId": "02c5e595-5084-4ee7-96c7-3757152ea9c7"
      },
      "execution_count": 148,
      "outputs": [
        {
          "output_type": "execute_result",
          "data": {
            "text/plain": [
              "-0.0662712196872739"
            ]
          },
          "metadata": {},
          "execution_count": 148
        }
      ]
    },
    {
      "cell_type": "markdown",
      "metadata": {
        "id": "BLUhzWQurUp-"
      },
      "source": [
        "decision tree model"
      ]
    },
    {
      "cell_type": "code",
      "execution_count": 149,
      "metadata": {
        "id": "lqkoz_DorVHQ",
        "colab": {
          "base_uri": "https://localhost:8080/"
        },
        "outputId": "8538a108-d68d-4ccb-f698-feaffc93865b"
      },
      "outputs": [
        {
          "output_type": "execute_result",
          "data": {
            "text/plain": [
              "array([1.58700000e+06, 9.99900000e+05, 8.77690000e+06, 6.66622000e+05,\n",
              "       8.10211000e+05, 5.70000000e+05, 4.07429320e+07, 4.14000000e+06,\n",
              "       4.09190000e+05, 7.11801000e+05, 7.15860000e+05, 8.35275000e+05,\n",
              "       1.19791900e+06, 7.28900000e+05, 7.78400000e+05, 2.72223000e+05,\n",
              "       3.21600000e+06, 5.78990000e+05, 1.11412000e+07, 1.62900000e+06,\n",
              "       5.89000000e+06, 8.15883000e+05, 2.12402720e+07, 1.49800000e+06,\n",
              "       4.81074000e+05, 3.92967000e+05, 2.69300000e+06, 5.20500000e+05,\n",
              "       7.18950000e+05, 1.42293700e+06, 9.44818100e+06, 9.59000000e+05,\n",
              "       9.29000000e+05, 7.79113000e+05, 1.32287250e+07, 1.41831300e+06,\n",
              "       5.32472010e+07, 4.84490000e+05, 7.45900000e+05, 7.58314000e+05,\n",
              "       1.46500000e+06, 3.86400000e+06, 9.76592000e+05, 3.57200000e+05,\n",
              "       5.89000000e+06, 7.20700000e+05, 7.51693000e+05, 7.85000000e+05,\n",
              "       7.66000000e+05, 9.35000000e+05, 1.99600000e+06, 9.99900000e+05,\n",
              "       3.02120000e+06, 8.77300000e+05, 6.40537000e+05, 7.87980000e+05,\n",
              "       7.50000000e+06, 1.03774200e+06, 7.67317000e+05, 1.33650000e+06,\n",
              "       2.15100000e+06, 4.63300000e+06, 1.19700000e+06, 6.97912000e+05,\n",
              "       1.53400000e+06, 1.14900000e+06, 1.99600000e+06, 4.07429320e+07,\n",
              "       2.72223000e+05, 8.17867000e+05, 7.18600000e+05, 8.36461000e+05,\n",
              "       5.42913000e+05, 1.16456900e+06, 9.17055000e+05, 1.19700000e+06,\n",
              "       8.35275000e+05, 8.28600000e+05, 4.26289000e+05, 7.87304000e+05,\n",
              "       7.28900000e+05, 7.39000000e+05, 6.97912000e+05, 5.82000000e+05,\n",
              "       1.99600000e+06, 2.35959900e+06, 1.23570000e+06, 8.87709400e+06,\n",
              "       9.29000000e+05, 8.49150000e+06, 8.96500000e+05, 8.04800000e+05,\n",
              "       4.26289000e+05, 1.41424700e+06, 1.46500000e+06, 1.62900000e+06,\n",
              "       7.44000000e+05, 7.44000000e+05, 5.75000000e+05, 1.62800000e+06,\n",
              "       9.29000000e+05, 1.28590000e+06, 4.41000000e+05, 2.69300000e+06,\n",
              "       7.11801000e+05, 6.37343000e+05, 9.90000000e+06, 1.02900000e+06,\n",
              "       2.99280000e+06, 8.77300000e+05, 1.92941700e+06, 7.39074000e+05,\n",
              "       9.60868000e+05, 2.99900000e+05, 3.34959900e+06, 2.98831100e+06,\n",
              "       7.85900000e+05, 1.19791900e+06, 7.68612000e+05, 8.36461000e+05,\n",
              "       9.97689000e+05, 8.87709400e+06, 1.16000000e+06, 2.88687100e+06,\n",
              "       4.78939430e+07, 6.50000000e+05, 2.92075000e+06, 7.85000000e+05,\n",
              "       9.70000000e+05, 7.20700000e+05, 4.07429320e+07, 1.06000000e+06,\n",
              "       8.02000000e+05, 5.83320000e+05, 1.11412000e+07, 8.15000000e+05,\n",
              "       9.06000000e+05, 1.15859900e+06, 9.89000000e+05, 5.99950000e+05,\n",
              "       1.22900000e+07, 5.60500000e+05, 3.51832000e+05, 3.93195520e+07,\n",
              "       6.59000000e+06, 5.20300000e+05, 2.88687100e+06, 6.92150000e+06,\n",
              "       1.11999000e+06, 8.87689000e+05, 9.21000000e+05, 6.65000000e+05,\n",
              "       2.19600000e+06, 5.98000000e+06, 1.19130210e+07, 2.63000000e+05,\n",
              "       1.61018000e+06, 8.93181900e+06, 8.04622000e+05, 9.84818000e+05,\n",
              "       8.87689000e+05, 7.88913000e+05, 5.29000000e+05, 8.16622000e+05,\n",
              "       5.20000000e+07, 5.32472010e+07, 3.56559000e+05, 9.99614000e+05,\n",
              "       8.30127000e+05, 7.51693000e+05, 8.18000000e+06, 8.29000000e+06,\n",
              "       8.29900000e+05, 4.77511000e+05, 9.99000000e+05, 5.62120000e+06,\n",
              "       7.51203000e+05, 1.89959900e+06, 8.93181900e+06, 2.69300000e+06,\n",
              "       6.76500000e+05, 9.99900000e+05, 2.72450000e+07, 6.28072000e+05,\n",
              "       1.19791900e+06, 8.87709400e+06, 6.19000000e+05, 1.09512900e+06,\n",
              "       1.06000000e+06, 1.10000000e+06, 4.88194000e+05, 2.36435400e+06,\n",
              "       1.98900000e+07, 3.94036000e+05, 6.92150000e+06, 1.61018000e+06,\n",
              "       5.89610000e+05, 9.68932100e+06, 5.49400000e+06, 1.32000000e+07,\n",
              "       2.08800000e+06, 2.05490000e+06, 9.59000000e+05, 5.99000000e+06,\n",
              "       6.60000000e+05, 1.54008100e+06, 8.64742000e+05, 7.58314000e+05,\n",
              "       1.43100000e+06, 9.84689000e+05, 7.67317000e+05, 7.62150000e+06,\n",
              "       1.36679700e+06, 5.78990000e+05, 8.58536000e+05, 4.63300000e+06,\n",
              "       7.58314000e+05, 9.73860900e+06, 8.77300000e+05, 8.86398000e+05,\n",
              "       1.13959900e+06, 6.28072000e+05, 6.06120000e+06, 9.40000000e+05,\n",
              "       4.20000000e+07, 1.10900500e+06, 6.46378000e+06, 4.26289000e+05,\n",
              "       1.84900000e+06, 3.15350000e+06, 1.99959900e+06, 2.19600000e+06,\n",
              "       6.53452000e+05, 1.22003000e+06, 1.58894300e+06, 8.88400000e+05,\n",
              "       1.29900000e+06, 5.70000000e+05, 1.82210000e+07, 5.94993000e+05,\n",
              "       4.25255000e+05, 7.11801000e+05, 8.36461000e+05, 8.19117000e+05,\n",
              "       9.91000000e+05, 5.43632900e+06, 8.19689000e+05, 1.66100000e+06,\n",
              "       1.08900000e+06, 8.11150000e+06, 7.73126610e+07, 9.99900000e+05,\n",
              "       1.30859200e+06, 5.33000000e+05, 1.44800000e+06, 8.17400000e+05,\n",
              "       6.92655000e+05, 1.02965000e+06, 6.66898000e+05, 1.00355200e+06,\n",
              "       4.37065000e+05, 7.68612000e+05, 4.14000000e+06, 8.77300000e+05,\n",
              "       7.34500000e+05, 5.24074000e+05, 7.34500000e+05, 9.99900000e+05,\n",
              "       7.33412000e+05, 4.97708000e+06, 9.84689000e+05, 1.47653800e+06,\n",
              "       9.35000000e+05, 7.88913000e+05, 1.22003000e+06, 7.73126610e+07,\n",
              "       7.70000000e+05, 1.92941700e+06, 7.01045000e+05, 1.98656750e+07,\n",
              "       8.93181900e+06, 5.43279000e+05, 9.42243000e+05, 1.02293000e+06,\n",
              "       9.70000000e+05, 4.26289000e+05, 9.17055000e+05, 5.45946000e+05,\n",
              "       5.69500000e+06, 1.06000000e+06, 5.89610000e+05, 8.04622000e+05,\n",
              "       7.58314000e+05, 5.25021000e+05, 9.06122000e+05, 6.60000000e+05,\n",
              "       8.75358000e+05, 1.79000000e+07, 1.03500000e+06, 1.05500000e+06,\n",
              "       9.60868000e+05, 1.73223100e+06, 1.60500000e+06, 1.22900000e+07,\n",
              "       6.39616000e+05, 7.85656000e+05, 1.36900000e+06, 6.95296400e+06,\n",
              "       6.40537000e+05, 1.88800000e+06, 7.24680200e+06, 8.82000000e+06,\n",
              "       8.10211000e+05, 6.39616000e+05, 1.53833990e+07, 3.02120000e+06,\n",
              "       1.43100000e+06, 3.49675000e+06, 1.06000000e+06, 5.99000000e+06,\n",
              "       1.83758600e+06, 2.51740510e+07, 6.47800000e+05, 1.80600000e+06,\n",
              "       5.43632900e+06, 4.40990000e+05, 5.89000000e+06, 1.58700000e+06,\n",
              "       7.28900000e+05, 1.16790000e+06, 9.99900000e+05, 8.86398000e+05,\n",
              "       1.19791900e+06, 5.33000000e+05, 8.07921000e+05, 5.93000000e+05,\n",
              "       4.78939430e+07, 4.07429320e+07, 1.27359900e+06, 7.18600000e+05,\n",
              "       5.59741000e+05, 5.20300000e+05, 1.05500000e+06, 1.03400000e+06,\n",
              "       7.70000000e+05, 1.47653800e+06, 1.02900000e+06, 5.33000000e+05,\n",
              "       5.94000000e+05, 8.36461000e+05, 5.82287000e+05, 9.31500000e+05,\n",
              "       5.29000000e+05, 4.07429320e+07, 5.59741000e+05, 1.36900000e+06,\n",
              "       1.47653800e+06, 4.07429320e+07, 1.11412000e+07, 8.18000000e+06,\n",
              "       5.97700000e+05, 6.72641000e+05, 5.98000000e+06, 7.11801000e+05,\n",
              "       1.23625800e+06, 2.19600000e+06, 6.39616000e+05, 6.42478000e+05,\n",
              "       1.45120540e+07, 3.29959900e+06, 9.84689000e+05, 2.65018300e+07,\n",
              "       2.72223000e+05, 4.88194000e+05, 7.50000000e+06, 1.92142937e+08,\n",
              "       1.54900000e+07, 9.99900000e+05, 5.08138000e+05, 2.49900000e+06,\n",
              "       1.28590000e+06, 6.25000000e+06, 1.74131900e+06])"
            ]
          },
          "metadata": {},
          "execution_count": 149
        }
      ],
      "source": [
        "dt.predict(x_test)"
      ]
    },
    {
      "cell_type": "code",
      "source": [
        "y_test"
      ],
      "metadata": {
        "id": "5Cw22ZYWfhvI",
        "colab": {
          "base_uri": "https://localhost:8080/"
        },
        "outputId": "7567911d-b01a-489f-fee7-fbb16785b6e0"
      },
      "execution_count": 150,
      "outputs": [
        {
          "output_type": "execute_result",
          "data": {
            "text/plain": [
              "array([  1610000,    999900,   8690000,    699400,    697400,    520000,\n",
              "        32200000,   1944900,    405570,    599000,    862175,   1728000,\n",
              "         1336033,    823700,    808558,    314815,   3019000,    570990,\n",
              "         3470000,   1629000,   2779599,    773678,  29500000,   1328000,\n",
              "          480670,    360843,   3990000,    513501,    664900,   1394437,\n",
              "         8670586,    983000,    904000,    863122,  11476911,   1418313,\n",
              "        24250000,    463290,    796132,    737400,   1095000,   3564000,\n",
              "          914328,    352900,   2599599,    812964,    732475,    989219,\n",
              "          816000,    876000,   1900000,   1210500,   3099599,    781000,\n",
              "          620637,    674960,  21875136,   1059742,    788797,   1069689,\n",
              "         2199000,   8470000,   1138189,    821613,   1634000,   1354000,\n",
              "         2167000,  35535000,    236447,    942867,    689600,    860997,\n",
              "          573250,   1111000,    942263,   1317000,   1348000,    734700,\n",
              "          469990,    794800,    773800,    739000,    732113,    519000,\n",
              "         2070000,   2187384,    999900,   7693664,    988500,   9665000,\n",
              "          940500,    854900,    383290,   1279983,   1465000,   4240000,\n",
              "          684000,    769000,    504990,   1388000,   1449500,   1092192,\n",
              "          434000,   3191000,    668611,    622730,  13558438,   1267208,\n",
              "         2953240,    794000,   1796458,    770803,    944175,    294800,\n",
              "         3149599,   3198662,    804450,   1287041,    829912,    707025,\n",
              "          958689,  10861088,   1270000,   2785288,  47467700,    673000,\n",
              "         3120750,    865000,    870000,    704000,  37614126,   1010000,\n",
              "          725000,    630320,   7890000,    808050,    966000,   1299599,\n",
              "          412292,    548000,  16500000,    567500,    333419,  43367500,\n",
              "         8503000,    733734,   2599000,   3070150,    999990,    759000,\n",
              "          999990,    599900,   2359599,   5861062,  10373732,    283000,\n",
              "         1529000,   7711338,    816500,   1048603,    932025,    758212,\n",
              "          615000,    757000,  59216193,  46709733,    354235,   1031943,\n",
              "          869131,    855362,  10490000,   7330000,    823000,    460369,\n",
              "          950131,   5021200,    646336,   1549000,   7515000,   4390000,\n",
              "          650000,    933182,  28004965,    788177,   1232534,   8077550,\n",
              "          666000,   1214130,   1030000,   1190000,    532184,   2697417,\n",
              "        19199181,    438559,  11000000,   1379000,    675090,  10205494,\n",
              "         5985000,  13510000,   2358000,   2234900,    974000,   2124900,\n",
              "          610000,   1423710,    814742,    762400,   1273599,    991434,\n",
              "          836320,   7711500,   1464900,    530990,    882298,   3930000,\n",
              "          781686,  11129599,    864000,    851302,    975599,    900967,\n",
              "         3788000,    826000,  30000000,   1335158,   6422809,    422444,\n",
              "         1949000,   2814500,   1699000,   2299599,    586428,   1360668,\n",
              "         1588943,    913400,   1793900,    610000,  19371000,    639993,\n",
              "          466057,    702946,    958500,    859497,   1143689,   7370000,\n",
              "          919689,   1699000,   1184129,   8021500,  75400000,   1172999,\n",
              "         1316690,    479000,   1588000,    842400,    535562,   1142157,\n",
              "          713898,    987743,    390000,    890212,   3830000,    794300,\n",
              "          775000,    518198,    699000,   1301881,    482330,   5506622,\n",
              "          997763,   1162875,    940000,    782346,   1330006,  95000000,\n",
              "          695000,   1912593,    693550,   7462000,   7882867,    531279,\n",
              "          892243,   1055259,    950000,    413290,    860720,    528804,\n",
              "         3850500,   1060129,    642610,    737400,    782400,    563133,\n",
              "          838000,    649000,    868221,  19600000,   1048050,    974000,\n",
              "          975868,   1730755,   1592000,  12500000,    568623,    749192,\n",
              "         1251000,   6998000,    705538,   1803000,   6394000,   8690000,\n",
              "         2990000,    536859,  18185267,   3221200,   1399599,   3677200,\n",
              "         1100000,   3990000,   1837586,   6440000,    697803,   1599000,\n",
              "         6531000,    433290,   2599599,   1230924,    742033,   1052900,\n",
              "         1178894,    747774,   1527395,    486001,    746621,    558400,\n",
              "        50025840,  37133704,   1115599,    627100,    619243,    598500,\n",
              "         1083000,   1303241,    780000,   1299999,   1293214,    526000,\n",
              "          711500,    912534,    506000,   3600000,    495000,  32452486,\n",
              "          550155,   1120689,   1543564,  37300000,  13590000,  10250000,\n",
              "          581000,    653926,   6150000,    623000,   1123158,   2214000,\n",
              "          620297,    689761,   7243000,   3299599,   1199999,  22155390,\n",
              "          296661,    579645,  21747000, 212155397,  15000000,    999900,\n",
              "          515257,   2133000,   1187900,   5964321,   1741319])"
            ]
          },
          "metadata": {},
          "execution_count": 150
        }
      ]
    },
    {
      "cell_type": "code",
      "source": [
        "r2_score(y_test,dt.predict(x_test))"
      ],
      "metadata": {
        "colab": {
          "base_uri": "https://localhost:8080/"
        },
        "id": "_dSH-Vy94c54",
        "outputId": "d6706607-7461-478f-b931-762277d08563"
      },
      "execution_count": 151,
      "outputs": [
        {
          "output_type": "execute_result",
          "data": {
            "text/plain": [
              "0.9583349824072571"
            ]
          },
          "metadata": {},
          "execution_count": 151
        }
      ]
    },
    {
      "cell_type": "markdown",
      "metadata": {
        "id": "w7DR8ZtMrVbh"
      },
      "source": [
        "Random forest regression model"
      ]
    },
    {
      "cell_type": "code",
      "execution_count": 152,
      "metadata": {
        "id": "sUuKrAEIrWYS",
        "colab": {
          "base_uri": "https://localhost:8080/"
        },
        "outputId": "b488b4be-7c5d-4e03-f8a3-b083f7fb90ef"
      },
      "outputs": [
        {
          "output_type": "execute_result",
          "data": {
            "text/plain": [
              "array([1.61453333e+06, 1.10908207e+06, 9.06148160e+06, 7.50348067e+05,\n",
              "       7.70899933e+05, 5.97406200e+05, 3.98263768e+07, 2.52630560e+06,\n",
              "       3.75357733e+05, 6.68438533e+05, 1.05334700e+06, 3.35303933e+06,\n",
              "       1.22432680e+06, 7.01986067e+05, 8.97660267e+05, 2.93472667e+05,\n",
              "       2.97719380e+06, 5.65723733e+05, 9.75878760e+06, 1.55719333e+06,\n",
              "       3.31921940e+06, 8.57397000e+05, 3.02154106e+07, 1.53215120e+06,\n",
              "       5.29847933e+05, 4.19739867e+05, 3.64829053e+06, 5.54645733e+05,\n",
              "       7.36384200e+05, 1.37925473e+06, 1.12804152e+07, 9.77111133e+05,\n",
              "       9.53179267e+05, 8.69113867e+05, 1.40032709e+07, 1.88486793e+06,\n",
              "       6.00522517e+07, 4.85535200e+05, 7.15149133e+05, 8.05458867e+05,\n",
              "       1.34189913e+06, 3.89470300e+06, 9.56547867e+05, 3.67034267e+05,\n",
              "       2.98961627e+06, 8.72466733e+05, 8.38956267e+05, 8.83833067e+05,\n",
              "       7.69175067e+05, 9.58191133e+05, 2.12508667e+06, 1.11276593e+06,\n",
              "       3.09469360e+06, 8.38481133e+05, 6.24076467e+05, 7.74752933e+05,\n",
              "       1.89489776e+07, 1.02133740e+06, 7.63479733e+05, 1.07188020e+06,\n",
              "       2.19929987e+06, 5.52919060e+06, 1.13408000e+06, 7.86723333e+05,\n",
              "       1.65143053e+06, 1.39276253e+06, 2.09742127e+06, 3.98092389e+07,\n",
              "       2.89222133e+05, 8.84951533e+05, 7.25311133e+05, 8.53921200e+05,\n",
              "       5.92769467e+05, 1.09602407e+06, 1.08468727e+06, 1.29812853e+06,\n",
              "       1.42738207e+06, 7.62556400e+05, 4.94490067e+05, 7.64436467e+05,\n",
              "       7.01237000e+05, 6.93570600e+05, 7.83590000e+05, 5.69591400e+05,\n",
              "       2.09742127e+06, 2.31770780e+06, 1.13908027e+06, 9.73684827e+06,\n",
              "       8.43181067e+05, 9.75228680e+06, 9.39833733e+05, 8.22867467e+05,\n",
              "       3.67868933e+05, 1.28413807e+06, 1.65015307e+06, 3.18687340e+06,\n",
              "       7.46142400e+05, 8.92275333e+05, 5.38138467e+05, 1.52415120e+06,\n",
              "       9.27463000e+05, 1.07421973e+06, 4.67766000e+05, 2.96964200e+06,\n",
              "       7.08521733e+05, 6.40435267e+05, 1.13256834e+07, 6.96353133e+05,\n",
              "       2.88650667e+06, 8.38481133e+05, 3.63203313e+06, 8.26036533e+05,\n",
              "       9.40302267e+05, 2.93847000e+05, 3.26961613e+06, 2.91036460e+06,\n",
              "       8.00149333e+05, 1.24514453e+06, 7.80283933e+05, 8.76570800e+05,\n",
              "       1.10340953e+06, 9.23913433e+06, 1.16533333e+06, 2.63581593e+06,\n",
              "       4.97845002e+07, 7.10288933e+05, 3.03388660e+06, 8.19368133e+05,\n",
              "       9.09466667e+05, 7.21641533e+05, 3.96396725e+07, 1.06833333e+06,\n",
              "       7.33096600e+05, 6.18042733e+05, 1.09988267e+07, 8.76255933e+05,\n",
              "       9.88046667e+05, 1.19166567e+06, 6.24304067e+05, 6.08227133e+05,\n",
              "       1.31663000e+07, 5.56810733e+05, 3.64738667e+05, 3.84631040e+07,\n",
              "       1.16647617e+07, 6.60693933e+05, 3.07735720e+06, 5.27007633e+06,\n",
              "       1.11106493e+06, 8.55104267e+05, 1.04017187e+06, 7.35064667e+05,\n",
              "       2.22025247e+06, 5.21359980e+06, 1.23188770e+07, 2.91758467e+05,\n",
              "       1.51609000e+06, 9.08680820e+06, 8.51180267e+05, 1.09526380e+06,\n",
              "       1.33039200e+06, 7.85134333e+05, 5.29080800e+05, 8.36960600e+05,\n",
              "       5.87909481e+07, 6.14339389e+07, 3.47924733e+05, 1.00583160e+06,\n",
              "       1.05309093e+06, 8.95507533e+05, 1.01582029e+07, 8.12543333e+06,\n",
              "       8.24681733e+05, 5.17078533e+05, 1.28367860e+06, 5.26986453e+06,\n",
              "       8.89708267e+05, 2.05831020e+06, 1.16530861e+07, 3.64829053e+06,\n",
              "       7.32230333e+05, 9.86897800e+05, 2.61824463e+07, 6.16234400e+05,\n",
              "       1.34486807e+06, 9.84514520e+06, 6.43546200e+05, 1.15862620e+06,\n",
              "       1.07233333e+06, 1.13400000e+06, 5.15306333e+05, 3.24112793e+06,\n",
              "       2.54532019e+07, 4.16214200e+05, 6.51997427e+06, 1.19855867e+06,\n",
              "       6.73326733e+05, 9.38272007e+06, 5.57360000e+06, 1.18096014e+07,\n",
              "       2.10321040e+06, 2.44212380e+06, 1.02913220e+06, 2.79048567e+06,\n",
              "       6.63054600e+05, 1.47450167e+06, 8.79014000e+05, 8.03665400e+05,\n",
              "       1.24612900e+06, 1.29430540e+06, 7.68272667e+05, 8.73273333e+06,\n",
              "       1.25464460e+06, 5.63616400e+05, 8.62233067e+05, 4.71302013e+06,\n",
              "       8.20321667e+05, 1.11742947e+07, 8.59628467e+05, 8.25160200e+05,\n",
              "       1.11823913e+06, 7.38470000e+05, 4.76701327e+06, 7.64421600e+05,\n",
              "       2.71392061e+07, 1.51167293e+06, 6.27754847e+06, 4.38350667e+05,\n",
              "       1.88606667e+06, 4.05968920e+06, 2.04965933e+06, 2.14311913e+06,\n",
              "       6.03623267e+05, 1.20970407e+06, 1.61434140e+06, 8.64725933e+05,\n",
              "       2.19261820e+06, 6.01272867e+05, 1.69383000e+07, 6.29590267e+05,\n",
              "       4.19355667e+05, 6.98090933e+05, 8.75194267e+05, 8.48689467e+05,\n",
              "       1.08273380e+06, 8.07524787e+06, 9.06292000e+05, 2.07688120e+06,\n",
              "       9.95117000e+05, 8.25048973e+06, 6.77551117e+07, 1.14027693e+06,\n",
              "       1.31564040e+06, 5.25462267e+05, 1.55289160e+06, 8.30550000e+05,\n",
              "       6.76662467e+05, 1.00996893e+06, 6.41613333e+05, 1.00630273e+06,\n",
              "       4.19749267e+05, 8.23074267e+05, 4.19061227e+06, 8.38481133e+05,\n",
              "       7.13406267e+05, 5.06174600e+05, 7.13406267e+05, 1.18631213e+06,\n",
              "       6.67748000e+05, 5.44590667e+06, 1.18783153e+06, 1.34840607e+06,\n",
              "       9.61617800e+05, 8.42025400e+05, 1.18880993e+06, 6.71892072e+07,\n",
              "       7.50848000e+05, 2.02871920e+06, 6.55738400e+05, 2.71254026e+07,\n",
              "       9.45675320e+06, 5.17193067e+05, 9.55632733e+05, 1.01515800e+06,\n",
              "       1.01433333e+06, 3.63116267e+05, 8.70197200e+05, 5.38828067e+05,\n",
              "       4.56311887e+06, 1.22767900e+06, 6.12737267e+05, 7.87383800e+05,\n",
              "       8.27642200e+05, 5.79717333e+05, 8.69171800e+05, 6.27472067e+05,\n",
              "       8.70160200e+05, 1.30944686e+07, 1.00228473e+06, 1.03456293e+06,\n",
              "       9.49967933e+05, 1.75471880e+06, 1.57373333e+06, 1.30195778e+07,\n",
              "       6.35035467e+05, 8.06408733e+05, 1.43740260e+06, 6.61513313e+06,\n",
              "       6.31591467e+05, 1.95167987e+06, 5.14036280e+06, 1.00837047e+07,\n",
              "       2.48635773e+06, 5.95517667e+05, 1.55262770e+07, 3.04831900e+06,\n",
              "       1.23855360e+06, 3.90607520e+06, 1.07233333e+06, 4.05221340e+06,\n",
              "       1.79653993e+06, 3.03788151e+07, 7.75644800e+05, 1.45931960e+06,\n",
              "       8.01001207e+06, 4.51270667e+05, 3.31588607e+06, 1.42149373e+06,\n",
              "       7.09170000e+05, 1.09289293e+06, 1.14027693e+06, 7.76676267e+05,\n",
              "       1.37274673e+06, 5.25195733e+05, 8.41172533e+05, 5.69392800e+05,\n",
              "       5.97014509e+07, 3.88769079e+07, 1.17180580e+06, 7.13991133e+05,\n",
              "       6.19149200e+05, 5.86504267e+05, 1.04256293e+06, 7.56676267e+05,\n",
              "       8.52090200e+05, 1.19904207e+06, 7.58958200e+05, 5.40205267e+05,\n",
              "       8.06654133e+05, 8.94834667e+05, 5.88487200e+05, 2.35492107e+06,\n",
              "       5.63403267e+05, 3.98092389e+07, 5.97509267e+05, 1.12049533e+06,\n",
              "       1.58550860e+06, 3.96396725e+07, 9.73842307e+06, 1.01823829e+07,\n",
              "       6.09805133e+05, 6.88368267e+05, 5.21359980e+06, 7.94656933e+05,\n",
              "       1.79147787e+06, 2.20420667e+06, 6.49896200e+05, 6.46425067e+05,\n",
              "       1.04717907e+07, 3.30380900e+06, 1.15343760e+06, 2.80744503e+07,\n",
              "       3.32047667e+05, 5.84735067e+05, 2.15054667e+07, 1.43462142e+08,\n",
              "       2.66313086e+07, 1.01937420e+06, 4.97150867e+05, 2.19611447e+06,\n",
              "       1.18999907e+06, 6.74989860e+06, 1.78379967e+06])"
            ]
          },
          "metadata": {},
          "execution_count": 152
        }
      ],
      "source": [
        "rfr.predict(x_test)"
      ]
    },
    {
      "cell_type": "code",
      "source": [
        "y_test"
      ],
      "metadata": {
        "id": "iL8ocgnZf0EQ",
        "colab": {
          "base_uri": "https://localhost:8080/"
        },
        "outputId": "3bb94668-aa36-470d-9874-950cafc6e6f7"
      },
      "execution_count": 153,
      "outputs": [
        {
          "output_type": "execute_result",
          "data": {
            "text/plain": [
              "array([  1610000,    999900,   8690000,    699400,    697400,    520000,\n",
              "        32200000,   1944900,    405570,    599000,    862175,   1728000,\n",
              "         1336033,    823700,    808558,    314815,   3019000,    570990,\n",
              "         3470000,   1629000,   2779599,    773678,  29500000,   1328000,\n",
              "          480670,    360843,   3990000,    513501,    664900,   1394437,\n",
              "         8670586,    983000,    904000,    863122,  11476911,   1418313,\n",
              "        24250000,    463290,    796132,    737400,   1095000,   3564000,\n",
              "          914328,    352900,   2599599,    812964,    732475,    989219,\n",
              "          816000,    876000,   1900000,   1210500,   3099599,    781000,\n",
              "          620637,    674960,  21875136,   1059742,    788797,   1069689,\n",
              "         2199000,   8470000,   1138189,    821613,   1634000,   1354000,\n",
              "         2167000,  35535000,    236447,    942867,    689600,    860997,\n",
              "          573250,   1111000,    942263,   1317000,   1348000,    734700,\n",
              "          469990,    794800,    773800,    739000,    732113,    519000,\n",
              "         2070000,   2187384,    999900,   7693664,    988500,   9665000,\n",
              "          940500,    854900,    383290,   1279983,   1465000,   4240000,\n",
              "          684000,    769000,    504990,   1388000,   1449500,   1092192,\n",
              "          434000,   3191000,    668611,    622730,  13558438,   1267208,\n",
              "         2953240,    794000,   1796458,    770803,    944175,    294800,\n",
              "         3149599,   3198662,    804450,   1287041,    829912,    707025,\n",
              "          958689,  10861088,   1270000,   2785288,  47467700,    673000,\n",
              "         3120750,    865000,    870000,    704000,  37614126,   1010000,\n",
              "          725000,    630320,   7890000,    808050,    966000,   1299599,\n",
              "          412292,    548000,  16500000,    567500,    333419,  43367500,\n",
              "         8503000,    733734,   2599000,   3070150,    999990,    759000,\n",
              "          999990,    599900,   2359599,   5861062,  10373732,    283000,\n",
              "         1529000,   7711338,    816500,   1048603,    932025,    758212,\n",
              "          615000,    757000,  59216193,  46709733,    354235,   1031943,\n",
              "          869131,    855362,  10490000,   7330000,    823000,    460369,\n",
              "          950131,   5021200,    646336,   1549000,   7515000,   4390000,\n",
              "          650000,    933182,  28004965,    788177,   1232534,   8077550,\n",
              "          666000,   1214130,   1030000,   1190000,    532184,   2697417,\n",
              "        19199181,    438559,  11000000,   1379000,    675090,  10205494,\n",
              "         5985000,  13510000,   2358000,   2234900,    974000,   2124900,\n",
              "          610000,   1423710,    814742,    762400,   1273599,    991434,\n",
              "          836320,   7711500,   1464900,    530990,    882298,   3930000,\n",
              "          781686,  11129599,    864000,    851302,    975599,    900967,\n",
              "         3788000,    826000,  30000000,   1335158,   6422809,    422444,\n",
              "         1949000,   2814500,   1699000,   2299599,    586428,   1360668,\n",
              "         1588943,    913400,   1793900,    610000,  19371000,    639993,\n",
              "          466057,    702946,    958500,    859497,   1143689,   7370000,\n",
              "          919689,   1699000,   1184129,   8021500,  75400000,   1172999,\n",
              "         1316690,    479000,   1588000,    842400,    535562,   1142157,\n",
              "          713898,    987743,    390000,    890212,   3830000,    794300,\n",
              "          775000,    518198,    699000,   1301881,    482330,   5506622,\n",
              "          997763,   1162875,    940000,    782346,   1330006,  95000000,\n",
              "          695000,   1912593,    693550,   7462000,   7882867,    531279,\n",
              "          892243,   1055259,    950000,    413290,    860720,    528804,\n",
              "         3850500,   1060129,    642610,    737400,    782400,    563133,\n",
              "          838000,    649000,    868221,  19600000,   1048050,    974000,\n",
              "          975868,   1730755,   1592000,  12500000,    568623,    749192,\n",
              "         1251000,   6998000,    705538,   1803000,   6394000,   8690000,\n",
              "         2990000,    536859,  18185267,   3221200,   1399599,   3677200,\n",
              "         1100000,   3990000,   1837586,   6440000,    697803,   1599000,\n",
              "         6531000,    433290,   2599599,   1230924,    742033,   1052900,\n",
              "         1178894,    747774,   1527395,    486001,    746621,    558400,\n",
              "        50025840,  37133704,   1115599,    627100,    619243,    598500,\n",
              "         1083000,   1303241,    780000,   1299999,   1293214,    526000,\n",
              "          711500,    912534,    506000,   3600000,    495000,  32452486,\n",
              "          550155,   1120689,   1543564,  37300000,  13590000,  10250000,\n",
              "          581000,    653926,   6150000,    623000,   1123158,   2214000,\n",
              "          620297,    689761,   7243000,   3299599,   1199999,  22155390,\n",
              "          296661,    579645,  21747000, 212155397,  15000000,    999900,\n",
              "          515257,   2133000,   1187900,   5964321,   1741319])"
            ]
          },
          "metadata": {},
          "execution_count": 153
        }
      ]
    },
    {
      "cell_type": "code",
      "source": [
        "r2_score(y_test,rfr.predict(x_test))"
      ],
      "metadata": {
        "colab": {
          "base_uri": "https://localhost:8080/"
        },
        "id": "N061sDhe3nCa",
        "outputId": "8e570cc1-27eb-429a-b7c1-f4c1b8ad496a"
      },
      "execution_count": 154,
      "outputs": [
        {
          "output_type": "execute_result",
          "data": {
            "text/plain": [
              "0.8916809076129472"
            ]
          },
          "metadata": {},
          "execution_count": 154
        }
      ]
    },
    {
      "cell_type": "markdown",
      "source": [
        "POLYNOMIAL REGRESSION"
      ],
      "metadata": {
        "id": "qca7IxFT45rT"
      }
    },
    {
      "cell_type": "code",
      "source": [
        "from sklearn.preprocessing import PolynomialFeatures"
      ],
      "metadata": {
        "id": "L0LFj0-T488h"
      },
      "execution_count": 155,
      "outputs": []
    },
    {
      "cell_type": "code",
      "source": [
        "pf=PolynomialFeatures(degree=2)\n",
        "x_poly=pf.fit_transform(x_test)"
      ],
      "metadata": {
        "id": "vGGMUjJZ49c1"
      },
      "execution_count": null,
      "outputs": []
    },
    {
      "cell_type": "code",
      "source": [
        ""
      ],
      "metadata": {
        "id": "9X4j3USl49rb"
      },
      "execution_count": null,
      "outputs": []
    }
  ],
  "metadata": {
    "colab": {
      "collapsed_sections": [],
      "name": "pr1GDSC.ipynb",
      "provenance": [],
      "authorship_tag": "ABX9TyNOh5uJqlAfj/80y/vFvXn1",
      "include_colab_link": true
    },
    "kernelspec": {
      "display_name": "Python 3",
      "name": "python3"
    },
    "language_info": {
      "name": "python"
    }
  },
  "nbformat": 4,
  "nbformat_minor": 0
}